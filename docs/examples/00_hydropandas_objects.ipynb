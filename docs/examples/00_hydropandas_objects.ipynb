{
 "cells": [
  {
   "attachments": {},
   "cell_type": "markdown",
   "metadata": {},
   "source": [
    "# Hydropandas Objects\n",
    "\n",
    "In the HydroPandas Python package, the Obs and ObsCollection classes are designed to handle time series data related to hydrological observations.\n",
    "\n",
    "The Obs class represents a single time series of measurements at a specific location, such as groundwater levels or precipitation amounts. It is a subclass of the pandas DataFrame, enriched with additional attributes and methods for the type of observation it holds. There are specialized subclasses of Obs for different measurement types, including:\n",
    "\n",
    "- GroundwaterObs: for groundwater measurements\n",
    "- WaterQualityObs: for (ground)water quality measurements\n",
    "- WaterlvlObs: for surface water level measurements\n",
    "- ModelObs: for observations from a MODFLOW model\n",
    "- MeteoObs: for meteorological observations\n",
    "- PrecipitationObs: for precipitation observations (subclass of MeteoObs)\n",
    "- EvaporationObs: for evaporation observations (subclass of MeteoObs)\n",
    "\n",
    "Each of these subclasses is essentially a pandas DataFrame with additional methods and attributes related to the type of measurement it holds. \n",
    "\n",
    "The ObsCollection class represents a collection of Obs objects, such as multiple groundwater level time series within a certain area. It is also a subclass of the pandas DataFrame, where each row contains metadata (e.g., coordinates of the observation point) and the corresponding Obs object that holds the measurements. Both Obs and ObsCollection classes include methods for reading data from various sources, facilitating the management and analysis of hydrological time series data.\n",
    "\n",
    "![Artesia](../_static/Artesia_logo.jpg)"
   ]
  },
  {
   "attachments": {},
   "cell_type": "markdown",
   "metadata": {},
   "source": [
    "## <a id=top></a>Notebook contents\n",
    "\n",
    "1. [Obs](#Obs)\n",
    "2. [ObsCollection](#ObsCollection)"
   ]
  },
  {
   "cell_type": "code",
   "execution_count": null,
   "metadata": {},
   "outputs": [],
   "source": [
    "import numpy as np\n",
    "import pandas as pd\n",
    "\n",
    "import hydropandas as hpd\n",
    "\n",
    "hpd.util.get_color_logger(\"INFO\")"
   ]
  },
  {
   "cell_type": "markdown",
   "metadata": {},
   "source": [
    "## Obs<a id=GroundwaterObs></a>\n",
    "\n",
    "Creating an `Obs` object is very similar to creating a `DataFrame`. Below we create 3 differente Obs objects:\n",
    "- an empty Obs\n",
    "- an Obs with only metadata \n",
    "- an Obs with metadata and measurements"
   ]
  },
  {
   "cell_type": "code",
   "execution_count": null,
   "metadata": {},
   "outputs": [],
   "source": [
    "# create an empty Obs object\n",
    "o1 = hpd.Obs(name=\"my empty obs\")\n",
    "display(o1)"
   ]
  },
  {
   "cell_type": "code",
   "execution_count": null,
   "metadata": {},
   "outputs": [],
   "source": [
    "# create an Obs object with only metadata\n",
    "o2 = hpd.Obs(\n",
    "    name=\"my_observation\",\n",
    "    x=10,\n",
    "    y=20,\n",
    "    location=\"somewhere\",\n",
    "    filename=\"unknown\",\n",
    "    source=\"imagination\",\n",
    "    unit=\"m\",\n",
    ")\n",
    "display(o2)"
   ]
  },
  {
   "cell_type": "code",
   "execution_count": null,
   "metadata": {},
   "outputs": [],
   "source": [
    "# create an Obs object with both metadata and measurements\n",
    "meas_df = pd.DataFrame(\n",
    "    index=pd.date_range(start=\"2020-01-01\", periods=10, freq=\"D\"),\n",
    "    data={\"value\": np.random.rand(10)},\n",
    ")\n",
    "o3 = hpd.Obs(\n",
    "    meas_df,\n",
    "    name=\"smw\",\n",
    "    x=1000,\n",
    "    y=22220,\n",
    "    location=\"somewhere else\",\n",
    "    source=\"advanced imagination\",\n",
    "    unit=\"m\",\n",
    ")\n",
    "display(o3)"
   ]
  },
  {
   "cell_type": "markdown",
   "metadata": {},
   "source": [
    "#### Obs metadata\n",
    "\n",
    "Access observation metadata as attributes."
   ]
  },
  {
   "cell_type": "code",
   "execution_count": null,
   "metadata": {},
   "outputs": [],
   "source": [
    "print(f\"x coordinate of observation 1: {o1.x}\")\n",
    "print(f\"x coordinate of observation 2: {o2.x}\")\n",
    "print(f\"x coordinate of observation 3: {o3.x}\")"
   ]
  },
  {
   "cell_type": "code",
   "execution_count": null,
   "metadata": {},
   "outputs": [],
   "source": [
    "print(f\"source of observation 1 is : {o1.source}\")\n",
    "print(f\"location of observation 2 is : {o2.location}\")\n",
    "print(f\"name of observation 3 is : {o3.name}\")"
   ]
  },
  {
   "cell_type": "markdown",
   "metadata": {},
   "source": [
    "#### Obs measurements\n",
    "\n",
    "Access observation measurements as if the observation is a DataFrame with the measurements."
   ]
  },
  {
   "cell_type": "code",
   "execution_count": null,
   "metadata": {},
   "outputs": [],
   "source": [
    "display(o3[\"value\"])  # show measurements"
   ]
  },
  {
   "cell_type": "code",
   "execution_count": null,
   "metadata": {},
   "outputs": [],
   "source": [
    "perc85 = o3[\"value\"].quantile(0.85)  # get percentile\n",
    "print(f\"the 85th percentile of my measurements is {perc85:.2f} {o3.unit}\")"
   ]
  },
  {
   "cell_type": "code",
   "execution_count": null,
   "metadata": {},
   "outputs": [],
   "source": [
    "o3[\"value\"].plot(\n",
    "    figsize=(14, 3),\n",
    "    label=o3.name,\n",
    "    ylabel=o3.unit,\n",
    "    marker=\"o\",\n",
    "    legend=True,\n",
    "    title=\"my observations\",\n",
    ");  # plot measurements"
   ]
  },
  {
   "cell_type": "markdown",
   "metadata": {},
   "source": [
    "#### Obs types\n",
    "\n",
    "Different Obs types have differente metadata. Groundwater observations have some extra properties `screen_top`, `screen_bottom`, `ground_level`, `tube_top` and `metadata_available`."
   ]
  },
  {
   "cell_type": "code",
   "execution_count": null,
   "metadata": {},
   "outputs": [],
   "source": [
    "gw_obs = hpd.GroundwaterObs(\n",
    "    o3,\n",
    "    name=\"smw_pb1\",\n",
    "    tube_nr=1,\n",
    "    screen_top=-5,\n",
    "    screen_bottom=-6,\n",
    "    unit=\"m NAP\",\n",
    "    ground_level=3,\n",
    "    tube_top=2.95,\n",
    "    metadata_available=True,\n",
    ")  # create a GroundwaterObs object from the Obs object\n",
    "display(gw_obs)"
   ]
  },
  {
   "cell_type": "markdown",
   "metadata": {},
   "source": [
    "#### Reading/writing Obs\n",
    "\n",
    "Observations can be saved as a pickle file for later use."
   ]
  },
  {
   "cell_type": "code",
   "execution_count": null,
   "metadata": {},
   "outputs": [],
   "source": [
    "# save the object to a pickle file\n",
    "gw_obs.to_pickle(\"my_gw_obs.pklz\")"
   ]
  },
  {
   "cell_type": "code",
   "execution_count": null,
   "metadata": {},
   "outputs": [],
   "source": [
    "# read the object from a pickle file\n",
    "gw_obs2 = hpd.read_pickle(\"my_gw_obs.pklz\")"
   ]
  },
  {
   "cell_type": "code",
   "execution_count": null,
   "metadata": {},
   "outputs": [],
   "source": [
    "gw_obs2.equals(gw_obs)  # check if the two objects are equal"
   ]
  },
  {
   "cell_type": "markdown",
   "metadata": {},
   "source": [
    "## ObsCollection<a id=ObsCollection></a>\n",
    "\n",
    "An ObsCollection is a structured way to manage and analyze multiple time series of hydrological observations. It serves as a container for multiple Obs objects, which represent individual time series of measurements, such as groundwater levels, precipitation, or water quality.\n",
    "\n",
    "Each row in an ObsCollection contains metadata (e.g., location, station name) and a corresponding Obs object holding the time series data. This structure allows for easy comparison, filtering, and statistical analysis across multiple observation sites."
   ]
  },
  {
   "cell_type": "code",
   "execution_count": null,
   "metadata": {},
   "outputs": [],
   "source": [
    "# create an empty ObsCollection\n",
    "oc = hpd.ObsCollection()\n",
    "print(oc)"
   ]
  },
  {
   "cell_type": "code",
   "execution_count": null,
   "metadata": {},
   "outputs": [],
   "source": [
    "# create an ObsCollection with a single Obs object\n",
    "oc = hpd.ObsCollection(o3)\n",
    "oc"
   ]
  },
  {
   "cell_type": "code",
   "execution_count": null,
   "metadata": {},
   "outputs": [],
   "source": [
    "# create an ObsCollection with multiple Obs objects\n",
    "oc = hpd.ObsCollection([o1, o2, o3])\n",
    "oc"
   ]
  },
  {
   "cell_type": "markdown",
   "metadata": {},
   "source": [
    "#### ObsCollection metadata\n",
    "\n",
    "Access the metadata using the standard DataFrame methods."
   ]
  },
  {
   "cell_type": "code",
   "execution_count": null,
   "metadata": {},
   "outputs": [],
   "source": [
    "print(f\"the x coordinate of observation 2 is: {oc.loc['my_observation', 'x']}\")\n",
    "print(f\"the location of observation 3 is: {oc.loc['smw', 'location']}\")"
   ]
  },
  {
   "cell_type": "markdown",
   "metadata": {},
   "source": [
    "#### ObsCollection observations\n",
    "\n",
    "Access the Obs objects from the collection"
   ]
  },
  {
   "cell_type": "code",
   "execution_count": null,
   "metadata": {},
   "outputs": [],
   "source": [
    "o3_1 = oc.loc[\"smw\", \"obs\"]  # using the loc method\n",
    "o3_2 = oc.get_obs(\"smw\")  # using the get_obs method with the name\n",
    "o3_3 = oc.get_obs(\n",
    "    location=\"somewhere else\"\n",
    ")  # using the get_obs method with the location (only works if the location is unique)\n",
    "id(o3_1) == id(o3_2) == id(o3_3)  # check if the three objects are the same"
   ]
  },
  {
   "cell_type": "markdown",
   "metadata": {},
   "source": [
    "#### Slice ObsCollection\n",
    "\n",
    "Filter and slice ObsCollections"
   ]
  },
  {
   "cell_type": "code",
   "execution_count": null,
   "metadata": {},
   "outputs": [],
   "source": [
    "oc.loc[oc[\"y\"] > 10]  # Selection based on the y coordinate"
   ]
  },
  {
   "cell_type": "code",
   "execution_count": null,
   "metadata": {},
   "outputs": [],
   "source": [
    "oc.loc[oc[\"source\"].str.contains(\"advanced\")]  # Selection based on the location"
   ]
  },
  {
   "cell_type": "markdown",
   "metadata": {},
   "source": [
    "#### Read/write an ObsCollection\n",
    "\n",
    "An ObsCollection can be written to an excel file or a pickle file. Writing to and reading from an excel file slightly alters the properties, just like writing and reading a DataFrame to/from excel would do. Reading/writing a pickle does not change anything "
   ]
  },
  {
   "cell_type": "code",
   "execution_count": null,
   "metadata": {},
   "outputs": [],
   "source": [
    "oc.to_excel(\"my_obs_collection.xlsx\")  # write to excel\n",
    "oc.to_pickle(\"my_obs_collection.pklz\")  # write to pickle"
   ]
  },
  {
   "cell_type": "code",
   "execution_count": null,
   "metadata": {},
   "outputs": [],
   "source": [
    "# read excel file\n",
    "oc2 = hpd.read_excel(\"my_obs_collection.xlsx\")\n",
    "oc2"
   ]
  },
  {
   "cell_type": "code",
   "execution_count": null,
   "metadata": {},
   "outputs": [],
   "source": [
    "# read pickle\n",
    "oc2 = hpd.read_pickle(\"my_obs_collection.pklz\")\n",
    "oc2"
   ]
  },
  {
   "cell_type": "markdown",
   "metadata": {},
   "source": [
    "#### Extensions\n",
    "\n",
    "To enhance the functionality of an ObsCollection, HydroPandas provides several extensions that add specialized methods for visualization, spatial analysis, and data processing. Some key extensions include:\n",
    "\n",
    "- Plot Extension (ObsCollection.plot): Built-in plotting capabilities for visualizing time series data. Users can generate time series plots for individual or multiple observations, histograms, and other graphical representations to analyze trends and patterns in hydrological data.\n",
    "- Geo Extension (ObsCollection.geo): Spatial analysis by integrating with geopandas. It allows users to obtain the extent of an ObsCollection, convert to another coordinate reference system and find nearby geometries.\n",
    "- Groundwater Obs (ObsCollection.gwobs): Analyse and process groundwater observations. Users can find the REGIS layer of each tube and set the tube number based on the screen depth.\n",
    "- Statistics (ObsCollection.stats): Statistical analysis of the observations. Users can obtain the number of consecutive years with more than 10 observations or find seasonal minimum and maximum values.\n",
    "\n",
    "\n"
   ]
  },
  {
   "cell_type": "code",
   "execution_count": null,
   "metadata": {},
   "outputs": [],
   "source": [
    "oc.stats.get_first_last_obs_date()  # get the first and last observation date using the stats extension"
   ]
  },
  {
   "cell_type": "code",
   "execution_count": null,
   "metadata": {},
   "outputs": [],
   "source": [
    "oc.geo.get_extent()  # get the extent of the observations using the geo extension"
   ]
  }
 ],
 "metadata": {
  "kernelspec": {
   "display_name": "dev",
   "language": "python",
   "name": "python3"
  },
  "language_info": {
   "codemirror_mode": {
    "name": "ipython",
    "version": 3
   },
   "file_extension": ".py",
   "mimetype": "text/x-python",
   "name": "python",
   "nbconvert_exporter": "python",
   "pygments_lexer": "ipython3",
   "version": "3.10.13"
  }
 },
 "nbformat": 4,
 "nbformat_minor": 4
}
