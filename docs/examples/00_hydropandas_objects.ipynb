{
 "cells": [
  {
   "attachments": {},
   "cell_type": "markdown",
   "metadata": {},
   "source": [
    "# Hydropandas Objects\n",
    "\n",
    "In the HydroPandas Python package, the Obs and ObsCollection classes are designed to handle time series data related to hydrological observations.\n",
    "\n",
    "The Obs class represents a single time series of measurements at a specific location, such as groundwater levels or precipitation amounts. It is a subclass of the pandas DataFrame, enriched with additional attributes and methods for the type of observation it holds. There are specialized subclasses of Obs for different measurement types, including:\n",
    "\n",
    "- GroundwaterObs: for groundwater measurements\n",
    "- WaterQualityObs: for (ground)water quality measurements\n",
    "- WaterlvlObs: for surface water level measurements\n",
    "- ModelObs: for observations from a MODFLOW model\n",
    "- MeteoObs: for meteorological observations\n",
    "- PrecipitationObs: for precipitation observations (subclass of MeteoObs)\n",
    "- EvaporationObs: for evaporation observations (subclass of MeteoObs)\n",
    "\n",
    "Each of these subclasses is essentially a pandas DataFrame with additional methods and attributes related to the type of measurement it holds. \n",
    "\n",
    "The ObsCollection class represents a collection of Obs objects, such as multiple groundwater level time series within a certain area. It is also a subclass of the pandas DataFrame, where each row contains metadata (e.g., coordinates of the observation point) and the corresponding Obs object that holds the measurements. Both Obs and ObsCollection classes include methods for reading data from various sources, facilitating the management and analysis of hydrological time series data."
   ]
  },
  {
   "attachments": {},
   "cell_type": "markdown",
   "metadata": {},
   "source": [
    "## <a id=top></a>Notebook contents\n",
    "\n",
    "1. [Obs](#Obs)\n",
    "2. [ObsCollection](#ObsCollection)"
   ]
  },
  {
   "cell_type": "code",
   "execution_count": 1,
   "metadata": {},
   "outputs": [
    {
     "data": {
      "text/plain": [
       "<RootLogger root (INFO)>"
      ]
     },
     "execution_count": 1,
     "metadata": {},
     "output_type": "execute_result"
    }
   ],
   "source": [
    "import numpy as np\n",
    "import pandas as pd\n",
    "\n",
    "import hydropandas as hpd\n",
    "\n",
    "hpd.util.get_color_logger(\"INFO\")"
   ]
  },
  {
   "cell_type": "markdown",
   "metadata": {},
   "source": [
    "## Obs<a id=GroundwaterObs></a>\n",
    "\n",
    "Creating an `Obs` object is very similar to creating a `DataFrame`. Below we create 3 differente Obs objects:\n",
    "- an empty Obs\n",
    "- an Obs with only metadata \n",
    "- an Obs with metadata and measurements"
   ]
  },
  {
   "cell_type": "code",
   "execution_count": 2,
   "metadata": {},
   "outputs": [
    {
     "data": {
      "text/html": [
       "<p style=\"color:#808080\";>hydropandas.Obs</p>\n",
       "<div>\n",
       "<style scoped>\n",
       "    .dataframe tbody tr th:only-of-type {\n",
       "        vertical-align: middle;\n",
       "    }\n",
       "\n",
       "    .dataframe tbody tr th {\n",
       "        vertical-align: top;\n",
       "    }\n",
       "\n",
       "    .dataframe thead th {\n",
       "        text-align: right;\n",
       "    }\n",
       "</style>\n",
       "<table border=\"1\" class=\"dataframe\">\n",
       "  <thead>\n",
       "    <tr style=\"text-align: right;\">\n",
       "      <th></th>\n",
       "      <th>my empty obs</th>\n",
       "    </tr>\n",
       "  </thead>\n",
       "  <tbody>\n",
       "    <tr>\n",
       "      <th>x</th>\n",
       "      <td>NaN</td>\n",
       "    </tr>\n",
       "    <tr>\n",
       "      <th>y</th>\n",
       "      <td>NaN</td>\n",
       "    </tr>\n",
       "    <tr>\n",
       "      <th>location</th>\n",
       "      <td></td>\n",
       "    </tr>\n",
       "    <tr>\n",
       "      <th>filename</th>\n",
       "      <td></td>\n",
       "    </tr>\n",
       "    <tr>\n",
       "      <th>source</th>\n",
       "      <td></td>\n",
       "    </tr>\n",
       "    <tr>\n",
       "      <th>unit</th>\n",
       "      <td></td>\n",
       "    </tr>\n",
       "  </tbody>\n",
       "</table>\n",
       "</div><br>\n",
       "<div>\n",
       "<style scoped>\n",
       "    .dataframe tbody tr th:only-of-type {\n",
       "        vertical-align: middle;\n",
       "    }\n",
       "\n",
       "    .dataframe tbody tr th {\n",
       "        vertical-align: top;\n",
       "    }\n",
       "\n",
       "    .dataframe thead th {\n",
       "        text-align: right;\n",
       "    }\n",
       "</style>\n",
       "<table border=\"1\" class=\"dataframe\">\n",
       "  <thead>\n",
       "    <tr style=\"text-align: right;\">\n",
       "      <th></th>\n",
       "    </tr>\n",
       "  </thead>\n",
       "  <tbody>\n",
       "  </tbody>\n",
       "</table>\n",
       "</div>"
      ],
      "text/plain": [
       "Obs my empty obs\n",
       "-----metadata------\n",
       "name : my empty obs \n",
       "x : nan \n",
       "y : nan \n",
       "location :  \n",
       "filename :  \n",
       "source :  \n",
       "unit :  \n",
       "\n",
       "-----time series------\n",
       "Empty Obs\n",
       "Columns: []\n",
       "Index: []"
      ]
     },
     "metadata": {},
     "output_type": "display_data"
    }
   ],
   "source": [
    "# create an empty Obs object\n",
    "o1 = hpd.Obs(name=\"my empty obs\")\n",
    "display(o1)"
   ]
  },
  {
   "cell_type": "code",
   "execution_count": 3,
   "metadata": {},
   "outputs": [
    {
     "data": {
      "text/html": [
       "<p style=\"color:#808080\";>hydropandas.Obs</p>\n",
       "<div>\n",
       "<style scoped>\n",
       "    .dataframe tbody tr th:only-of-type {\n",
       "        vertical-align: middle;\n",
       "    }\n",
       "\n",
       "    .dataframe tbody tr th {\n",
       "        vertical-align: top;\n",
       "    }\n",
       "\n",
       "    .dataframe thead th {\n",
       "        text-align: right;\n",
       "    }\n",
       "</style>\n",
       "<table border=\"1\" class=\"dataframe\">\n",
       "  <thead>\n",
       "    <tr style=\"text-align: right;\">\n",
       "      <th></th>\n",
       "      <th>my_observation</th>\n",
       "    </tr>\n",
       "  </thead>\n",
       "  <tbody>\n",
       "    <tr>\n",
       "      <th>x</th>\n",
       "      <td>10</td>\n",
       "    </tr>\n",
       "    <tr>\n",
       "      <th>y</th>\n",
       "      <td>20</td>\n",
       "    </tr>\n",
       "    <tr>\n",
       "      <th>location</th>\n",
       "      <td>somewhere</td>\n",
       "    </tr>\n",
       "    <tr>\n",
       "      <th>filename</th>\n",
       "      <td>unknown</td>\n",
       "    </tr>\n",
       "    <tr>\n",
       "      <th>source</th>\n",
       "      <td>imagination</td>\n",
       "    </tr>\n",
       "    <tr>\n",
       "      <th>unit</th>\n",
       "      <td>m</td>\n",
       "    </tr>\n",
       "  </tbody>\n",
       "</table>\n",
       "</div><br>\n",
       "<div>\n",
       "<style scoped>\n",
       "    .dataframe tbody tr th:only-of-type {\n",
       "        vertical-align: middle;\n",
       "    }\n",
       "\n",
       "    .dataframe tbody tr th {\n",
       "        vertical-align: top;\n",
       "    }\n",
       "\n",
       "    .dataframe thead th {\n",
       "        text-align: right;\n",
       "    }\n",
       "</style>\n",
       "<table border=\"1\" class=\"dataframe\">\n",
       "  <thead>\n",
       "    <tr style=\"text-align: right;\">\n",
       "      <th></th>\n",
       "    </tr>\n",
       "  </thead>\n",
       "  <tbody>\n",
       "  </tbody>\n",
       "</table>\n",
       "</div>"
      ],
      "text/plain": [
       "Obs my_observation\n",
       "-----metadata------\n",
       "name : my_observation \n",
       "x : 10 \n",
       "y : 20 \n",
       "location : somewhere \n",
       "filename : unknown \n",
       "source : imagination \n",
       "unit : m \n",
       "\n",
       "-----time series------\n",
       "Empty Obs\n",
       "Columns: []\n",
       "Index: []"
      ]
     },
     "metadata": {},
     "output_type": "display_data"
    }
   ],
   "source": [
    "# create an Obs object with only metadata\n",
    "o2 = hpd.Obs(\n",
    "    name=\"my_observation\",\n",
    "    x=10,\n",
    "    y=20,\n",
    "    location=\"somewhere\",\n",
    "    filename=\"unknown\",\n",
    "    source=\"imagination\",\n",
    "    unit=\"m\",\n",
    ")\n",
    "display(o2)"
   ]
  },
  {
   "cell_type": "code",
   "execution_count": 4,
   "metadata": {},
   "outputs": [
    {
     "data": {
      "text/html": [
       "<p style=\"color:#808080\";>hydropandas.Obs</p>\n",
       "<div>\n",
       "<style scoped>\n",
       "    .dataframe tbody tr th:only-of-type {\n",
       "        vertical-align: middle;\n",
       "    }\n",
       "\n",
       "    .dataframe tbody tr th {\n",
       "        vertical-align: top;\n",
       "    }\n",
       "\n",
       "    .dataframe thead th {\n",
       "        text-align: right;\n",
       "    }\n",
       "</style>\n",
       "<table border=\"1\" class=\"dataframe\">\n",
       "  <thead>\n",
       "    <tr style=\"text-align: right;\">\n",
       "      <th></th>\n",
       "      <th>smw</th>\n",
       "    </tr>\n",
       "  </thead>\n",
       "  <tbody>\n",
       "    <tr>\n",
       "      <th>x</th>\n",
       "      <td>1000</td>\n",
       "    </tr>\n",
       "    <tr>\n",
       "      <th>y</th>\n",
       "      <td>22220</td>\n",
       "    </tr>\n",
       "    <tr>\n",
       "      <th>location</th>\n",
       "      <td>somewhere else</td>\n",
       "    </tr>\n",
       "    <tr>\n",
       "      <th>filename</th>\n",
       "      <td></td>\n",
       "    </tr>\n",
       "    <tr>\n",
       "      <th>source</th>\n",
       "      <td>advanced imagination</td>\n",
       "    </tr>\n",
       "    <tr>\n",
       "      <th>unit</th>\n",
       "      <td>m</td>\n",
       "    </tr>\n",
       "  </tbody>\n",
       "</table>\n",
       "</div><br>\n",
       "<div>\n",
       "<style scoped>\n",
       "    .dataframe tbody tr th:only-of-type {\n",
       "        vertical-align: middle;\n",
       "    }\n",
       "\n",
       "    .dataframe tbody tr th {\n",
       "        vertical-align: top;\n",
       "    }\n",
       "\n",
       "    .dataframe thead th {\n",
       "        text-align: right;\n",
       "    }\n",
       "</style>\n",
       "<table border=\"1\" class=\"dataframe\">\n",
       "  <thead>\n",
       "    <tr style=\"text-align: right;\">\n",
       "      <th></th>\n",
       "      <th>value</th>\n",
       "    </tr>\n",
       "  </thead>\n",
       "  <tbody>\n",
       "    <tr>\n",
       "      <th>2020-01-01</th>\n",
       "      <td>0.523743</td>\n",
       "    </tr>\n",
       "    <tr>\n",
       "      <th>2020-01-02</th>\n",
       "      <td>0.446970</td>\n",
       "    </tr>\n",
       "    <tr>\n",
       "      <th>2020-01-03</th>\n",
       "      <td>0.066764</td>\n",
       "    </tr>\n",
       "    <tr>\n",
       "      <th>2020-01-04</th>\n",
       "      <td>0.167922</td>\n",
       "    </tr>\n",
       "    <tr>\n",
       "      <th>2020-01-05</th>\n",
       "      <td>0.396479</td>\n",
       "    </tr>\n",
       "    <tr>\n",
       "      <th>2020-01-06</th>\n",
       "      <td>0.681373</td>\n",
       "    </tr>\n",
       "    <tr>\n",
       "      <th>2020-01-07</th>\n",
       "      <td>0.997011</td>\n",
       "    </tr>\n",
       "    <tr>\n",
       "      <th>2020-01-08</th>\n",
       "      <td>0.514300</td>\n",
       "    </tr>\n",
       "    <tr>\n",
       "      <th>2020-01-09</th>\n",
       "      <td>0.472107</td>\n",
       "    </tr>\n",
       "    <tr>\n",
       "      <th>2020-01-10</th>\n",
       "      <td>0.265559</td>\n",
       "    </tr>\n",
       "  </tbody>\n",
       "</table>\n",
       "</div>"
      ],
      "text/plain": [
       "Obs smw\n",
       "-----metadata------\n",
       "name : smw \n",
       "x : 1000 \n",
       "y : 22220 \n",
       "location : somewhere else \n",
       "filename :  \n",
       "source : advanced imagination \n",
       "unit : m \n",
       "\n",
       "-----time series------\n",
       "               value\n",
       "2020-01-01  0.523743\n",
       "2020-01-02  0.446970\n",
       "2020-01-03  0.066764\n",
       "2020-01-04  0.167922\n",
       "2020-01-05  0.396479\n",
       "2020-01-06  0.681373\n",
       "2020-01-07  0.997011\n",
       "2020-01-08  0.514300\n",
       "2020-01-09  0.472107\n",
       "2020-01-10  0.265559"
      ]
     },
     "metadata": {},
     "output_type": "display_data"
    }
   ],
   "source": [
    "# create an Obs object with both metadata and measurements\n",
    "meas_df = pd.DataFrame(\n",
    "    index=pd.date_range(start=\"2020-01-01\", periods=10, freq=\"D\"),\n",
    "    data={\"value\": np.random.rand(10)},\n",
    ")\n",
    "o3 = hpd.Obs(\n",
    "    meas_df,\n",
    "    name=\"smw\",\n",
    "    x=1000,\n",
    "    y=22220,\n",
    "    location=\"somewhere else\",\n",
    "    source=\"advanced imagination\",\n",
    "    unit=\"m\",\n",
    ")\n",
    "display(o3)"
   ]
  },
  {
   "cell_type": "markdown",
   "metadata": {},
   "source": [
    "#### Obs metadata\n",
    "\n",
    "Access observation metadata as attributes."
   ]
  },
  {
   "cell_type": "code",
   "execution_count": 5,
   "metadata": {},
   "outputs": [
    {
     "name": "stdout",
     "output_type": "stream",
     "text": [
      "x coordinate of observation 1: nan\n",
      "x coordinate of observation 2: 10\n",
      "x coordinate of observation 3: 1000\n"
     ]
    }
   ],
   "source": [
    "print(f\"x coordinate of observation 1: {o1.x}\")\n",
    "print(f\"x coordinate of observation 2: {o2.x}\")\n",
    "print(f\"x coordinate of observation 3: {o3.x}\")"
   ]
  },
  {
   "cell_type": "code",
   "execution_count": 6,
   "metadata": {},
   "outputs": [
    {
     "name": "stdout",
     "output_type": "stream",
     "text": [
      "source of observation 1 is : \n",
      "location of observation 2 is : somewhere\n",
      "name of observation 3 is : smw\n"
     ]
    }
   ],
   "source": [
    "print(f\"source of observation 1 is : {o1.source}\")\n",
    "print(f\"location of observation 2 is : {o2.location}\")\n",
    "print(f\"name of observation 3 is : {o3.name}\")"
   ]
  },
  {
   "cell_type": "markdown",
   "metadata": {},
   "source": [
    "#### Obs measurements\n",
    "\n",
    "Access observation measurements as if the observation is a DataFrame with the measurements."
   ]
  },
  {
   "cell_type": "code",
   "execution_count": 7,
   "metadata": {},
   "outputs": [
    {
     "data": {
      "application/vnd.microsoft.datawrangler.viewer.v0+json": {
       "columns": [
        {
         "name": "index",
         "rawType": "datetime64[ns]",
         "type": "datetime"
        },
        {
         "name": "value",
         "rawType": "float64",
         "type": "float"
        }
       ],
       "ref": "51010451-36e6-491b-b6cb-91e7ff59175d",
       "rows": [
        [
         "2020-01-01 00:00:00",
         "0.523742822421607"
        ],
        [
         "2020-01-02 00:00:00",
         "0.44697040422733836"
        ],
        [
         "2020-01-03 00:00:00",
         "0.06676419875592987"
        ],
        [
         "2020-01-04 00:00:00",
         "0.16792176797245018"
        ],
        [
         "2020-01-05 00:00:00",
         "0.3964789588501484"
        ],
        [
         "2020-01-06 00:00:00",
         "0.681372667292972"
        ],
        [
         "2020-01-07 00:00:00",
         "0.9970113531793586"
        ],
        [
         "2020-01-08 00:00:00",
         "0.5142997649779639"
        ],
        [
         "2020-01-09 00:00:00",
         "0.4721067219920404"
        ],
        [
         "2020-01-10 00:00:00",
         "0.26555856849190596"
        ]
       ],
       "shape": {
        "columns": 1,
        "rows": 10
       }
      },
      "text/plain": [
       "2020-01-01    0.523743\n",
       "2020-01-02    0.446970\n",
       "2020-01-03    0.066764\n",
       "2020-01-04    0.167922\n",
       "2020-01-05    0.396479\n",
       "2020-01-06    0.681373\n",
       "2020-01-07    0.997011\n",
       "2020-01-08    0.514300\n",
       "2020-01-09    0.472107\n",
       "2020-01-10    0.265559\n",
       "Freq: D, Name: value, dtype: float64"
      ]
     },
     "metadata": {},
     "output_type": "display_data"
    }
   ],
   "source": [
    "display(o3[\"value\"])  # show measurements"
   ]
  },
  {
   "cell_type": "code",
   "execution_count": 8,
   "metadata": {},
   "outputs": [
    {
     "name": "stdout",
     "output_type": "stream",
     "text": [
      "the 85th percentile of my measurements is 0.63 m\n"
     ]
    }
   ],
   "source": [
    "perc85 = o3[\"value\"].quantile(0.85)  # get percentile\n",
    "print(f\"the 85th percentile of my measurements is {perc85:.2f} {o3.unit}\")"
   ]
  },
  {
   "cell_type": "code",
   "execution_count": 26,
   "metadata": {},
   "outputs": [
    {
     "data": {
      "image/png": "[encoded data removed]",
      "text/plain": [
       "<Figure size 700x300 with 1 Axes>"
      ]
     },
     "metadata": {},
     "output_type": "display_data"
    }
   ],
   "source": [
    "o3[\"value\"].plot(\n",
    "    figsize=(7, 3),\n",
    "    label=o3.name,\n",
    "    ylabel=o3.unit,\n",
    "    marker=\"o\",\n",
    "    legend=True,\n",
    "    title=\"my observations\",\n",
    ");  # plot measurements"
   ]
  },
  {
   "cell_type": "markdown",
   "metadata": {},
   "source": [
    "#### Obs types\n",
    "\n",
    "Different Obs types have differente metadata. Groundwater observations have some extra properties `screen_top`, `screen_bottom`, `ground_level`, `tube_top` and `metadata_available`."
   ]
  },
  {
   "cell_type": "code",
   "execution_count": 10,
   "metadata": {},
   "outputs": [
    {
     "data": {
      "text/html": [
       "<p style=\"color:#808080\";>hydropandas.GroundwaterObs</p>\n",
       "<div>\n",
       "<style scoped>\n",
       "    .dataframe tbody tr th:only-of-type {\n",
       "        vertical-align: middle;\n",
       "    }\n",
       "\n",
       "    .dataframe tbody tr th {\n",
       "        vertical-align: top;\n",
       "    }\n",
       "\n",
       "    .dataframe thead th {\n",
       "        text-align: right;\n",
       "    }\n",
       "</style>\n",
       "<table border=\"1\" class=\"dataframe\">\n",
       "  <thead>\n",
       "    <tr style=\"text-align: right;\">\n",
       "      <th></th>\n",
       "      <th>smw_pb1</th>\n",
       "    </tr>\n",
       "  </thead>\n",
       "  <tbody>\n",
       "    <tr>\n",
       "      <th>x</th>\n",
       "      <td>1000</td>\n",
       "    </tr>\n",
       "    <tr>\n",
       "      <th>y</th>\n",
       "      <td>22220</td>\n",
       "    </tr>\n",
       "    <tr>\n",
       "      <th>location</th>\n",
       "      <td>somewhere else</td>\n",
       "    </tr>\n",
       "    <tr>\n",
       "      <th>filename</th>\n",
       "      <td></td>\n",
       "    </tr>\n",
       "    <tr>\n",
       "      <th>source</th>\n",
       "      <td>advanced imagination</td>\n",
       "    </tr>\n",
       "    <tr>\n",
       "      <th>unit</th>\n",
       "      <td>m NAP</td>\n",
       "    </tr>\n",
       "    <tr>\n",
       "      <th>tube_nr</th>\n",
       "      <td>1</td>\n",
       "    </tr>\n",
       "    <tr>\n",
       "      <th>screen_top</th>\n",
       "      <td>-5</td>\n",
       "    </tr>\n",
       "    <tr>\n",
       "      <th>screen_bottom</th>\n",
       "      <td>-6</td>\n",
       "    </tr>\n",
       "    <tr>\n",
       "      <th>ground_level</th>\n",
       "      <td>3</td>\n",
       "    </tr>\n",
       "    <tr>\n",
       "      <th>tube_top</th>\n",
       "      <td>2.95</td>\n",
       "    </tr>\n",
       "    <tr>\n",
       "      <th>metadata_available</th>\n",
       "      <td>True</td>\n",
       "    </tr>\n",
       "  </tbody>\n",
       "</table>\n",
       "</div><br>\n",
       "<div>\n",
       "<style scoped>\n",
       "    .dataframe tbody tr th:only-of-type {\n",
       "        vertical-align: middle;\n",
       "    }\n",
       "\n",
       "    .dataframe tbody tr th {\n",
       "        vertical-align: top;\n",
       "    }\n",
       "\n",
       "    .dataframe thead th {\n",
       "        text-align: right;\n",
       "    }\n",
       "</style>\n",
       "<table border=\"1\" class=\"dataframe\">\n",
       "  <thead>\n",
       "    <tr style=\"text-align: right;\">\n",
       "      <th></th>\n",
       "      <th>value</th>\n",
       "    </tr>\n",
       "  </thead>\n",
       "  <tbody>\n",
       "    <tr>\n",
       "      <th>2020-01-01</th>\n",
       "      <td>0.523743</td>\n",
       "    </tr>\n",
       "    <tr>\n",
       "      <th>2020-01-02</th>\n",
       "      <td>0.446970</td>\n",
       "    </tr>\n",
       "    <tr>\n",
       "      <th>2020-01-03</th>\n",
       "      <td>0.066764</td>\n",
       "    </tr>\n",
       "    <tr>\n",
       "      <th>2020-01-04</th>\n",
       "      <td>0.167922</td>\n",
       "    </tr>\n",
       "    <tr>\n",
       "      <th>2020-01-05</th>\n",
       "      <td>0.396479</td>\n",
       "    </tr>\n",
       "    <tr>\n",
       "      <th>2020-01-06</th>\n",
       "      <td>0.681373</td>\n",
       "    </tr>\n",
       "    <tr>\n",
       "      <th>2020-01-07</th>\n",
       "      <td>0.997011</td>\n",
       "    </tr>\n",
       "    <tr>\n",
       "      <th>2020-01-08</th>\n",
       "      <td>0.514300</td>\n",
       "    </tr>\n",
       "    <tr>\n",
       "      <th>2020-01-09</th>\n",
       "      <td>0.472107</td>\n",
       "    </tr>\n",
       "    <tr>\n",
       "      <th>2020-01-10</th>\n",
       "      <td>0.265559</td>\n",
       "    </tr>\n",
       "  </tbody>\n",
       "</table>\n",
       "</div>"
      ],
      "text/plain": [
       "GroundwaterObs smw_pb1\n",
       "-----metadata------\n",
       "name : smw_pb1 \n",
       "x : 1000 \n",
       "y : 22220 \n",
       "location : somewhere else \n",
       "filename :  \n",
       "source : advanced imagination \n",
       "unit : m NAP \n",
       "tube_nr : 1 \n",
       "screen_top : -5 \n",
       "screen_bottom : -6 \n",
       "ground_level : 3 \n",
       "tube_top : 2.95 \n",
       "metadata_available : True \n",
       "\n",
       "-----time series------\n",
       "               value\n",
       "2020-01-01  0.523743\n",
       "2020-01-02  0.446970\n",
       "2020-01-03  0.066764\n",
       "2020-01-04  0.167922\n",
       "2020-01-05  0.396479\n",
       "2020-01-06  0.681373\n",
       "2020-01-07  0.997011\n",
       "2020-01-08  0.514300\n",
       "2020-01-09  0.472107\n",
       "2020-01-10  0.265559"
      ]
     },
     "metadata": {},
     "output_type": "display_data"
    }
   ],
   "source": [
    "gw_obs = hpd.GroundwaterObs(\n",
    "    o3,\n",
    "    name=\"smw_pb1\",\n",
    "    tube_nr=1,\n",
    "    screen_top=-5,\n",
    "    screen_bottom=-6,\n",
    "    unit=\"m NAP\",\n",
    "    ground_level=3,\n",
    "    tube_top=2.95,\n",
    "    metadata_available=True,\n",
    ")  # create a GroundwaterObs object from the Obs object\n",
    "display(gw_obs)"
   ]
  },
  {
   "cell_type": "markdown",
   "metadata": {},
   "source": [
    "#### Reading/writing Obs\n",
    "\n",
    "Observations can be saved as a pickle file for later use."
   ]
  },
  {
   "cell_type": "code",
   "execution_count": 11,
   "metadata": {},
   "outputs": [],
   "source": [
    "# save the object to a pickle file\n",
    "gw_obs.to_pickle(\"my_gw_obs.pklz\")"
   ]
  },
  {
   "cell_type": "code",
   "execution_count": 12,
   "metadata": {},
   "outputs": [],
   "source": [
    "# read the object from a pickle file\n",
    "gw_obs2 = hpd.read_pickle(\"my_gw_obs.pklz\")"
   ]
  },
  {
   "cell_type": "code",
   "execution_count": 13,
   "metadata": {},
   "outputs": [
    {
     "data": {
      "text/plain": [
       "True"
      ]
     },
     "execution_count": 13,
     "metadata": {},
     "output_type": "execute_result"
    }
   ],
   "source": [
    "gw_obs2.equals(gw_obs)  # check if the two objects are equal"
   ]
  },
  {
   "cell_type": "markdown",
   "metadata": {},
   "source": [
    "## ObsCollection<a id=ObsCollection></a>\n",
    "\n",
    "An ObsCollection is a structured way to manage and analyze multiple time series of hydrological observations. It serves as a container for multiple Obs objects, which represent individual time series of measurements, such as groundwater levels, precipitation, or water quality.\n",
    "\n",
    "Each row in an ObsCollection contains metadata (e.g., location, station name) and a corresponding Obs object holding the time series data. This structure allows for easy comparison, filtering, and statistical analysis across multiple observation sites."
   ]
  },
  {
   "cell_type": "code",
   "execution_count": 14,
   "metadata": {},
   "outputs": [
    {
     "name": "stdout",
     "output_type": "stream",
     "text": [
      "Empty ObsCollection\n",
      "Columns: []\n",
      "Index: []\n"
     ]
    }
   ],
   "source": [
    "# create an empty ObsCollection\n",
    "oc = hpd.ObsCollection()\n",
    "print(oc)"
   ]
  },
  {
   "cell_type": "code",
   "execution_count": 15,
   "metadata": {},
   "outputs": [
    {
     "data": {
      "text/html": [
       "<div>\n",
       "<style scoped>\n",
       "    .dataframe tbody tr th:only-of-type {\n",
       "        vertical-align: middle;\n",
       "    }\n",
       "\n",
       "    .dataframe tbody tr th {\n",
       "        vertical-align: top;\n",
       "    }\n",
       "\n",
       "    .dataframe thead th {\n",
       "        text-align: right;\n",
       "    }\n",
       "</style>\n",
       "<table border=\"1\" class=\"dataframe\">\n",
       "  <thead>\n",
       "    <tr style=\"text-align: right;\">\n",
       "      <th></th>\n",
       "      <th>x</th>\n",
       "      <th>y</th>\n",
       "      <th>location</th>\n",
       "      <th>filename</th>\n",
       "      <th>source</th>\n",
       "      <th>unit</th>\n",
       "      <th>obs</th>\n",
       "    </tr>\n",
       "    <tr>\n",
       "      <th>name</th>\n",
       "      <th></th>\n",
       "      <th></th>\n",
       "      <th></th>\n",
       "      <th></th>\n",
       "      <th></th>\n",
       "      <th></th>\n",
       "      <th></th>\n",
       "    </tr>\n",
       "  </thead>\n",
       "  <tbody>\n",
       "    <tr>\n",
       "      <th>smw</th>\n",
       "      <td>1000</td>\n",
       "      <td>22220</td>\n",
       "      <td>somewhere else</td>\n",
       "      <td></td>\n",
       "      <td>advanced imagination</td>\n",
       "      <td>m</td>\n",
       "      <td>Obs smw\n",
       "-----metadata------\n",
       "name : smw \n",
       "x : 10...</td>\n",
       "    </tr>\n",
       "  </tbody>\n",
       "</table>\n",
       "</div>"
      ],
      "text/plain": [
       "         x      y        location filename                source unit  \\\n",
       "name                                                                    \n",
       "smw   1000  22220  somewhere else           advanced imagination    m   \n",
       "\n",
       "                                                    obs  \n",
       "name                                                     \n",
       "smw   Obs smw\n",
       "-----metadata------\n",
       "name : smw \n",
       "x : 10...  "
      ]
     },
     "execution_count": 15,
     "metadata": {},
     "output_type": "execute_result"
    }
   ],
   "source": [
    "# create an ObsCollection with a single Obs object\n",
    "oc = hpd.ObsCollection(o3)\n",
    "oc"
   ]
  },
  {
   "cell_type": "code",
   "execution_count": 16,
   "metadata": {},
   "outputs": [
    {
     "data": {
      "text/html": [
       "<div>\n",
       "<style scoped>\n",
       "    .dataframe tbody tr th:only-of-type {\n",
       "        vertical-align: middle;\n",
       "    }\n",
       "\n",
       "    .dataframe tbody tr th {\n",
       "        vertical-align: top;\n",
       "    }\n",
       "\n",
       "    .dataframe thead th {\n",
       "        text-align: right;\n",
       "    }\n",
       "</style>\n",
       "<table border=\"1\" class=\"dataframe\">\n",
       "  <thead>\n",
       "    <tr style=\"text-align: right;\">\n",
       "      <th></th>\n",
       "      <th>x</th>\n",
       "      <th>y</th>\n",
       "      <th>location</th>\n",
       "      <th>filename</th>\n",
       "      <th>source</th>\n",
       "      <th>unit</th>\n",
       "      <th>obs</th>\n",
       "    </tr>\n",
       "    <tr>\n",
       "      <th>name</th>\n",
       "      <th></th>\n",
       "      <th></th>\n",
       "      <th></th>\n",
       "      <th></th>\n",
       "      <th></th>\n",
       "      <th></th>\n",
       "      <th></th>\n",
       "    </tr>\n",
       "  </thead>\n",
       "  <tbody>\n",
       "    <tr>\n",
       "      <th>my empty obs</th>\n",
       "      <td>NaN</td>\n",
       "      <td>NaN</td>\n",
       "      <td></td>\n",
       "      <td></td>\n",
       "      <td></td>\n",
       "      <td></td>\n",
       "      <td>Obs my empty obs\n",
       "-----metadata------\n",
       "name : my...</td>\n",
       "    </tr>\n",
       "    <tr>\n",
       "      <th>my_observation</th>\n",
       "      <td>10.0</td>\n",
       "      <td>20.0</td>\n",
       "      <td>somewhere</td>\n",
       "      <td>unknown</td>\n",
       "      <td>imagination</td>\n",
       "      <td>m</td>\n",
       "      <td>Obs my_observation\n",
       "-----metadata------\n",
       "name : ...</td>\n",
       "    </tr>\n",
       "    <tr>\n",
       "      <th>smw</th>\n",
       "      <td>1000.0</td>\n",
       "      <td>22220.0</td>\n",
       "      <td>somewhere else</td>\n",
       "      <td></td>\n",
       "      <td>advanced imagination</td>\n",
       "      <td>m</td>\n",
       "      <td>Obs smw\n",
       "-----metadata------\n",
       "name : smw \n",
       "x : 10...</td>\n",
       "    </tr>\n",
       "  </tbody>\n",
       "</table>\n",
       "</div>"
      ],
      "text/plain": [
       "                     x        y        location filename  \\\n",
       "name                                                       \n",
       "my empty obs       NaN      NaN                            \n",
       "my_observation    10.0     20.0       somewhere  unknown   \n",
       "smw             1000.0  22220.0  somewhere else            \n",
       "\n",
       "                              source unit  \\\n",
       "name                                        \n",
       "my empty obs                                \n",
       "my_observation           imagination    m   \n",
       "smw             advanced imagination    m   \n",
       "\n",
       "                                                              obs  \n",
       "name                                                               \n",
       "my empty obs    Obs my empty obs\n",
       "-----metadata------\n",
       "name : my...  \n",
       "my_observation  Obs my_observation\n",
       "-----metadata------\n",
       "name : ...  \n",
       "smw             Obs smw\n",
       "-----metadata------\n",
       "name : smw \n",
       "x : 10...  "
      ]
     },
     "execution_count": 16,
     "metadata": {},
     "output_type": "execute_result"
    }
   ],
   "source": [
    "# create an ObsCollection with multiple Obs objects\n",
    "oc = hpd.ObsCollection([o1, o2, o3])\n",
    "oc"
   ]
  },
  {
   "cell_type": "markdown",
   "metadata": {},
   "source": [
    "#### ObsCollection metadata\n",
    "\n",
    "Access the metadata using the standard DataFrame methods."
   ]
  },
  {
   "cell_type": "code",
   "execution_count": 17,
   "metadata": {},
   "outputs": [
    {
     "name": "stdout",
     "output_type": "stream",
     "text": [
      "the x coordinate of observation 2 is: 10.0\n",
      "the location of observation 3 is: somewhere else\n"
     ]
    }
   ],
   "source": [
    "print(f\"the x coordinate of observation 2 is: {oc.loc['my_observation', 'x']}\")\n",
    "print(f\"the location of observation 3 is: {oc.loc['smw', 'location']}\")"
   ]
  },
  {
   "cell_type": "markdown",
   "metadata": {},
   "source": [
    "#### ObsCollection observations\n",
    "\n",
    "Access the Obs objects from the collection"
   ]
  },
  {
   "cell_type": "code",
   "execution_count": 18,
   "metadata": {},
   "outputs": [
    {
     "data": {
      "text/plain": [
       "True"
      ]
     },
     "execution_count": 18,
     "metadata": {},
     "output_type": "execute_result"
    }
   ],
   "source": [
    "o3_1 = oc.loc[\"smw\", \"obs\"]  # using the loc method\n",
    "o3_2 = oc.get_obs(\"smw\")  # using the get_obs method with the name\n",
    "o3_3 = oc.get_obs(\n",
    "    location=\"somewhere else\"\n",
    ")  # using the get_obs method with the location (only works if the location is unique)\n",
    "id(o3_1) == id(o3_2) == id(o3_3)  # check if the three objects are the same"
   ]
  },
  {
   "cell_type": "markdown",
   "metadata": {},
   "source": [
    "#### Slice ObsCollection\n",
    "\n",
    "Filter and slice ObsCollections"
   ]
  },
  {
   "cell_type": "code",
   "execution_count": 19,
   "metadata": {},
   "outputs": [
    {
     "data": {
      "text/html": [
       "<div>\n",
       "<style scoped>\n",
       "    .dataframe tbody tr th:only-of-type {\n",
       "        vertical-align: middle;\n",
       "    }\n",
       "\n",
       "    .dataframe tbody tr th {\n",
       "        vertical-align: top;\n",
       "    }\n",
       "\n",
       "    .dataframe thead th {\n",
       "        text-align: right;\n",
       "    }\n",
       "</style>\n",
       "<table border=\"1\" class=\"dataframe\">\n",
       "  <thead>\n",
       "    <tr style=\"text-align: right;\">\n",
       "      <th></th>\n",
       "      <th>x</th>\n",
       "      <th>y</th>\n",
       "      <th>location</th>\n",
       "      <th>filename</th>\n",
       "      <th>source</th>\n",
       "      <th>unit</th>\n",
       "      <th>obs</th>\n",
       "    </tr>\n",
       "    <tr>\n",
       "      <th>name</th>\n",
       "      <th></th>\n",
       "      <th></th>\n",
       "      <th></th>\n",
       "      <th></th>\n",
       "      <th></th>\n",
       "      <th></th>\n",
       "      <th></th>\n",
       "    </tr>\n",
       "  </thead>\n",
       "  <tbody>\n",
       "    <tr>\n",
       "      <th>my_observation</th>\n",
       "      <td>10.0</td>\n",
       "      <td>20.0</td>\n",
       "      <td>somewhere</td>\n",
       "      <td>unknown</td>\n",
       "      <td>imagination</td>\n",
       "      <td>m</td>\n",
       "      <td>Obs my_observation\n",
       "-----metadata------\n",
       "name : ...</td>\n",
       "    </tr>\n",
       "    <tr>\n",
       "      <th>smw</th>\n",
       "      <td>1000.0</td>\n",
       "      <td>22220.0</td>\n",
       "      <td>somewhere else</td>\n",
       "      <td></td>\n",
       "      <td>advanced imagination</td>\n",
       "      <td>m</td>\n",
       "      <td>Obs smw\n",
       "-----metadata------\n",
       "name : smw \n",
       "x : 10...</td>\n",
       "    </tr>\n",
       "  </tbody>\n",
       "</table>\n",
       "</div>"
      ],
      "text/plain": [
       "                     x        y        location filename  \\\n",
       "name                                                       \n",
       "my_observation    10.0     20.0       somewhere  unknown   \n",
       "smw             1000.0  22220.0  somewhere else            \n",
       "\n",
       "                              source unit  \\\n",
       "name                                        \n",
       "my_observation           imagination    m   \n",
       "smw             advanced imagination    m   \n",
       "\n",
       "                                                              obs  \n",
       "name                                                               \n",
       "my_observation  Obs my_observation\n",
       "-----metadata------\n",
       "name : ...  \n",
       "smw             Obs smw\n",
       "-----metadata------\n",
       "name : smw \n",
       "x : 10...  "
      ]
     },
     "execution_count": 19,
     "metadata": {},
     "output_type": "execute_result"
    }
   ],
   "source": [
    "oc.loc[oc[\"y\"] > 10]  # Selection based on the y coordinate"
   ]
  },
  {
   "cell_type": "code",
   "execution_count": 20,
   "metadata": {},
   "outputs": [
    {
     "data": {
      "text/html": [
       "<div>\n",
       "<style scoped>\n",
       "    .dataframe tbody tr th:only-of-type {\n",
       "        vertical-align: middle;\n",
       "    }\n",
       "\n",
       "    .dataframe tbody tr th {\n",
       "        vertical-align: top;\n",
       "    }\n",
       "\n",
       "    .dataframe thead th {\n",
       "        text-align: right;\n",
       "    }\n",
       "</style>\n",
       "<table border=\"1\" class=\"dataframe\">\n",
       "  <thead>\n",
       "    <tr style=\"text-align: right;\">\n",
       "      <th></th>\n",
       "      <th>x</th>\n",
       "      <th>y</th>\n",
       "      <th>location</th>\n",
       "      <th>filename</th>\n",
       "      <th>source</th>\n",
       "      <th>unit</th>\n",
       "      <th>obs</th>\n",
       "    </tr>\n",
       "    <tr>\n",
       "      <th>name</th>\n",
       "      <th></th>\n",
       "      <th></th>\n",
       "      <th></th>\n",
       "      <th></th>\n",
       "      <th></th>\n",
       "      <th></th>\n",
       "      <th></th>\n",
       "    </tr>\n",
       "  </thead>\n",
       "  <tbody>\n",
       "    <tr>\n",
       "      <th>smw</th>\n",
       "      <td>1000.0</td>\n",
       "      <td>22220.0</td>\n",
       "      <td>somewhere else</td>\n",
       "      <td></td>\n",
       "      <td>advanced imagination</td>\n",
       "      <td>m</td>\n",
       "      <td>Obs smw\n",
       "-----metadata------\n",
       "name : smw \n",
       "x : 10...</td>\n",
       "    </tr>\n",
       "  </tbody>\n",
       "</table>\n",
       "</div>"
      ],
      "text/plain": [
       "           x        y        location filename                source unit  \\\n",
       "name                                                                        \n",
       "smw   1000.0  22220.0  somewhere else           advanced imagination    m   \n",
       "\n",
       "                                                    obs  \n",
       "name                                                     \n",
       "smw   Obs smw\n",
       "-----metadata------\n",
       "name : smw \n",
       "x : 10...  "
      ]
     },
     "execution_count": 20,
     "metadata": {},
     "output_type": "execute_result"
    }
   ],
   "source": [
    "oc.loc[oc[\"source\"].str.contains(\"advanced\")]  # Selection based on the location"
   ]
  },
  {
   "cell_type": "markdown",
   "metadata": {},
   "source": [
    "#### Read/write an ObsCollection\n",
    "\n",
    "An ObsCollection can be written to an excel file or a pickle file. Writing to and reading from an excel file slightly alters the properties, just like writing and reading a DataFrame to/from excel would do. Reading/writing a pickle does not change anything "
   ]
  },
  {
   "cell_type": "code",
   "execution_count": 21,
   "metadata": {},
   "outputs": [],
   "source": [
    "oc.to_excel(\"my_obs_collection.xlsx\")  # write to excel\n",
    "oc.to_pickle(\"my_obs_collection.pklz\")  # write to pickle"
   ]
  },
  {
   "cell_type": "code",
   "execution_count": 22,
   "metadata": {},
   "outputs": [
    {
     "data": {
      "text/html": [
       "<div>\n",
       "<style scoped>\n",
       "    .dataframe tbody tr th:only-of-type {\n",
       "        vertical-align: middle;\n",
       "    }\n",
       "\n",
       "    .dataframe tbody tr th {\n",
       "        vertical-align: top;\n",
       "    }\n",
       "\n",
       "    .dataframe thead th {\n",
       "        text-align: right;\n",
       "    }\n",
       "</style>\n",
       "<table border=\"1\" class=\"dataframe\">\n",
       "  <thead>\n",
       "    <tr style=\"text-align: right;\">\n",
       "      <th></th>\n",
       "      <th>x</th>\n",
       "      <th>y</th>\n",
       "      <th>location</th>\n",
       "      <th>filename</th>\n",
       "      <th>source</th>\n",
       "      <th>unit</th>\n",
       "      <th>obs</th>\n",
       "    </tr>\n",
       "    <tr>\n",
       "      <th>name</th>\n",
       "      <th></th>\n",
       "      <th></th>\n",
       "      <th></th>\n",
       "      <th></th>\n",
       "      <th></th>\n",
       "      <th></th>\n",
       "      <th></th>\n",
       "    </tr>\n",
       "  </thead>\n",
       "  <tbody>\n",
       "    <tr>\n",
       "      <th>my empty obs</th>\n",
       "      <td>NaN</td>\n",
       "      <td>NaN</td>\n",
       "      <td>NaN</td>\n",
       "      <td>NaN</td>\n",
       "      <td>NaN</td>\n",
       "      <td>NaN</td>\n",
       "      <td>Obs my empty obs\n",
       "-----metadata------\n",
       "name : my...</td>\n",
       "    </tr>\n",
       "    <tr>\n",
       "      <th>my_observation</th>\n",
       "      <td>10.0</td>\n",
       "      <td>20.0</td>\n",
       "      <td>somewhere</td>\n",
       "      <td>unknown</td>\n",
       "      <td>imagination</td>\n",
       "      <td>m</td>\n",
       "      <td>Obs my_observation\n",
       "-----metadata------\n",
       "name : ...</td>\n",
       "    </tr>\n",
       "    <tr>\n",
       "      <th>smw</th>\n",
       "      <td>1000.0</td>\n",
       "      <td>22220.0</td>\n",
       "      <td>somewhere else</td>\n",
       "      <td>NaN</td>\n",
       "      <td>advanced imagination</td>\n",
       "      <td>m</td>\n",
       "      <td>Obs smw\n",
       "-----metadata------\n",
       "name : smw \n",
       "x : 10...</td>\n",
       "    </tr>\n",
       "  </tbody>\n",
       "</table>\n",
       "</div>"
      ],
      "text/plain": [
       "                     x        y        location filename  \\\n",
       "name                                                       \n",
       "my empty obs       NaN      NaN             NaN      NaN   \n",
       "my_observation    10.0     20.0       somewhere  unknown   \n",
       "smw             1000.0  22220.0  somewhere else      NaN   \n",
       "\n",
       "                              source unit  \\\n",
       "name                                        \n",
       "my empty obs                     NaN  NaN   \n",
       "my_observation           imagination    m   \n",
       "smw             advanced imagination    m   \n",
       "\n",
       "                                                              obs  \n",
       "name                                                               \n",
       "my empty obs    Obs my empty obs\n",
       "-----metadata------\n",
       "name : my...  \n",
       "my_observation  Obs my_observation\n",
       "-----metadata------\n",
       "name : ...  \n",
       "smw             Obs smw\n",
       "-----metadata------\n",
       "name : smw \n",
       "x : 10...  "
      ]
     },
     "execution_count": 22,
     "metadata": {},
     "output_type": "execute_result"
    }
   ],
   "source": [
    "# read excel file\n",
    "oc2 = hpd.read_excel(\"my_obs_collection.xlsx\")\n",
    "oc2"
   ]
  },
  {
   "cell_type": "code",
   "execution_count": 23,
   "metadata": {},
   "outputs": [
    {
     "data": {
      "text/html": [
       "<div>\n",
       "<style scoped>\n",
       "    .dataframe tbody tr th:only-of-type {\n",
       "        vertical-align: middle;\n",
       "    }\n",
       "\n",
       "    .dataframe tbody tr th {\n",
       "        vertical-align: top;\n",
       "    }\n",
       "\n",
       "    .dataframe thead th {\n",
       "        text-align: right;\n",
       "    }\n",
       "</style>\n",
       "<table border=\"1\" class=\"dataframe\">\n",
       "  <thead>\n",
       "    <tr style=\"text-align: right;\">\n",
       "      <th></th>\n",
       "      <th>x</th>\n",
       "      <th>y</th>\n",
       "      <th>location</th>\n",
       "      <th>filename</th>\n",
       "      <th>source</th>\n",
       "      <th>unit</th>\n",
       "      <th>obs</th>\n",
       "    </tr>\n",
       "    <tr>\n",
       "      <th>name</th>\n",
       "      <th></th>\n",
       "      <th></th>\n",
       "      <th></th>\n",
       "      <th></th>\n",
       "      <th></th>\n",
       "      <th></th>\n",
       "      <th></th>\n",
       "    </tr>\n",
       "  </thead>\n",
       "  <tbody>\n",
       "    <tr>\n",
       "      <th>my empty obs</th>\n",
       "      <td>NaN</td>\n",
       "      <td>NaN</td>\n",
       "      <td></td>\n",
       "      <td></td>\n",
       "      <td></td>\n",
       "      <td></td>\n",
       "      <td>Obs my empty obs\n",
       "-----metadata------\n",
       "name : my...</td>\n",
       "    </tr>\n",
       "    <tr>\n",
       "      <th>my_observation</th>\n",
       "      <td>10.0</td>\n",
       "      <td>20.0</td>\n",
       "      <td>somewhere</td>\n",
       "      <td>unknown</td>\n",
       "      <td>imagination</td>\n",
       "      <td>m</td>\n",
       "      <td>Obs my_observation\n",
       "-----metadata------\n",
       "name : ...</td>\n",
       "    </tr>\n",
       "    <tr>\n",
       "      <th>smw</th>\n",
       "      <td>1000.0</td>\n",
       "      <td>22220.0</td>\n",
       "      <td>somewhere else</td>\n",
       "      <td></td>\n",
       "      <td>advanced imagination</td>\n",
       "      <td>m</td>\n",
       "      <td>Obs smw\n",
       "-----metadata------\n",
       "name : smw \n",
       "x : 10...</td>\n",
       "    </tr>\n",
       "  </tbody>\n",
       "</table>\n",
       "</div>"
      ],
      "text/plain": [
       "                     x        y        location filename  \\\n",
       "name                                                       \n",
       "my empty obs       NaN      NaN                            \n",
       "my_observation    10.0     20.0       somewhere  unknown   \n",
       "smw             1000.0  22220.0  somewhere else            \n",
       "\n",
       "                              source unit  \\\n",
       "name                                        \n",
       "my empty obs                                \n",
       "my_observation           imagination    m   \n",
       "smw             advanced imagination    m   \n",
       "\n",
       "                                                              obs  \n",
       "name                                                               \n",
       "my empty obs    Obs my empty obs\n",
       "-----metadata------\n",
       "name : my...  \n",
       "my_observation  Obs my_observation\n",
       "-----metadata------\n",
       "name : ...  \n",
       "smw             Obs smw\n",
       "-----metadata------\n",
       "name : smw \n",
       "x : 10...  "
      ]
     },
     "execution_count": 23,
     "metadata": {},
     "output_type": "execute_result"
    }
   ],
   "source": [
    "# read pickle\n",
    "oc2 = hpd.read_pickle(\"my_obs_collection.pklz\")\n",
    "oc2"
   ]
  },
  {
   "cell_type": "markdown",
   "metadata": {},
   "source": [
    "#### Extensions\n",
    "\n",
    "To enhance the functionality of an ObsCollection, HydroPandas provides several extensions that add specialized methods for visualization, spatial analysis, and data processing. Some key extensions include:\n",
    "\n",
    "- Plot Extension (ObsCollection.plot): Built-in plotting capabilities for visualizing time series data. Users can generate time series plots for individual or multiple observations, histograms, and other graphical representations to analyze trends and patterns in hydrological data.\n",
    "- Geo Extension (ObsCollection.geo): Spatial analysis by integrating with geopandas. It allows users to obtain the extent of an ObsCollection, convert to another coordinate reference system and find nearby geometries.\n",
    "- Groundwater Obs (ObsCollection.gwobs): Analyse and process groundwater observations. Users can find the REGIS layer of each tube and set the tube number based on the screen depth.\n",
    "- Statistics (ObsCollection.stats): Statistical analysis of the observations. Users can obtain the number of consecutive years with more than 10 observations or find seasonal minimum and maximum values.\n",
    "\n",
    "\n"
   ]
  },
  {
   "cell_type": "code",
   "execution_count": 24,
   "metadata": {},
   "outputs": [
    {
     "data": {
      "application/vnd.microsoft.datawrangler.viewer.v0+json": {
       "columns": [
        {
         "name": "name",
         "rawType": "object",
         "type": "string"
        },
        {
         "name": "date_first_measurement",
         "rawType": "datetime64[ns]",
         "type": "datetime"
        },
        {
         "name": "date_last_measurement",
         "rawType": "datetime64[ns]",
         "type": "datetime"
        }
       ],
       "ref": "832573d3-16b6-4be5-af6a-b6fb5fb9cb5e",
       "rows": [
        [
         "my empty obs",
         null,
         null
        ],
        [
         "my_observation",
         null,
         null
        ],
        [
         "smw",
         "2020-01-01 00:00:00",
         "2020-01-10 00:00:00"
        ]
       ],
       "shape": {
        "columns": 2,
        "rows": 3
       }
      },
      "text/html": [
       "<div>\n",
       "<style scoped>\n",
       "    .dataframe tbody tr th:only-of-type {\n",
       "        vertical-align: middle;\n",
       "    }\n",
       "\n",
       "    .dataframe tbody tr th {\n",
       "        vertical-align: top;\n",
       "    }\n",
       "\n",
       "    .dataframe thead th {\n",
       "        text-align: right;\n",
       "    }\n",
       "</style>\n",
       "<table border=\"1\" class=\"dataframe\">\n",
       "  <thead>\n",
       "    <tr style=\"text-align: right;\">\n",
       "      <th></th>\n",
       "      <th>date_first_measurement</th>\n",
       "      <th>date_last_measurement</th>\n",
       "    </tr>\n",
       "    <tr>\n",
       "      <th>name</th>\n",
       "      <th></th>\n",
       "      <th></th>\n",
       "    </tr>\n",
       "  </thead>\n",
       "  <tbody>\n",
       "    <tr>\n",
       "      <th>my empty obs</th>\n",
       "      <td>NaT</td>\n",
       "      <td>NaT</td>\n",
       "    </tr>\n",
       "    <tr>\n",
       "      <th>my_observation</th>\n",
       "      <td>NaT</td>\n",
       "      <td>NaT</td>\n",
       "    </tr>\n",
       "    <tr>\n",
       "      <th>smw</th>\n",
       "      <td>2020-01-01</td>\n",
       "      <td>2020-01-10</td>\n",
       "    </tr>\n",
       "  </tbody>\n",
       "</table>\n",
       "</div>"
      ],
      "text/plain": [
       "               date_first_measurement date_last_measurement\n",
       "name                                                       \n",
       "my empty obs                      NaT                   NaT\n",
       "my_observation                    NaT                   NaT\n",
       "smw                        2020-01-01            2020-01-10"
      ]
     },
     "execution_count": 24,
     "metadata": {},
     "output_type": "execute_result"
    }
   ],
   "source": [
    "oc.stats.get_first_last_obs_date()  # get the first and last observation date using the stats extension"
   ]
  },
  {
   "cell_type": "code",
   "execution_count": 25,
   "metadata": {},
   "outputs": [
    {
     "data": {
      "text/plain": [
       "(10.0, 1000.0, 20.0, 22220.0)"
      ]
     },
     "execution_count": 25,
     "metadata": {},
     "output_type": "execute_result"
    }
   ],
   "source": [
    "oc.geo.get_extent()  # get the extent of the observations using the geo extension"
   ]
  }
 ],
 "metadata": {
  "kernelspec": {
   "display_name": "dev2",
   "language": "python",
   "name": "python3"
  },
  "language_info": {
   "codemirror_mode": {
    "name": "ipython",
    "version": 3
   },
   "file_extension": ".py",
   "mimetype": "text/x-python",
   "name": "python",
   "nbconvert_exporter": "python",
   "pygments_lexer": "ipython3",
   "version": "3.12.9"
  }
 },
 "nbformat": 4,
 "nbformat_minor": 4
}
