{
 "cells": [
  {
   "cell_type": "markdown",
   "id": "f60ccd0f",
   "metadata": {},
   "source": [
    "# Boreholes\n",
    "\n",
    "This notebook shows how to plot borehole data along with a groundwater measurement well.\n",
    "\n",
    "Two different packages are used:\n",
    "- `brodata`, to obtain and visualise borehole data from the BRO database\n",
    "- `geost` to get Bodemkundig booronderzoek from the BRO database"
   ]
  },
  {
   "cell_type": "code",
   "execution_count": null,
   "id": "8cbf9cac",
   "metadata": {},
   "outputs": [],
   "source": [
    "import contextily as ctx\n",
    "import geopandas as gpd\n",
    "import hydropandas as hpd\n",
    "import numpy as np\n",
    "import matplotlib.pyplot as plt\n",
    "import pandas as pd\n",
    "\n",
    "from shapely.geometry import Point, LineString"
   ]
  },
  {
   "cell_type": "code",
   "execution_count": null,
   "id": "7ba6833c",
   "metadata": {},
   "outputs": [],
   "source": [
    "# reading data from a groundwatermonitoring well (see notebook 01)\n",
    "gw_bro = hpd.GroundwaterObs.from_bro(\"GMW000000041261\", 1)"
   ]
  },
  {
   "cell_type": "markdown",
   "id": "3713f72b",
   "metadata": {},
   "source": [
    "#### Borehole (Brodata)\n",
    "\n",
    "Brodata can be installed using:\n",
    "\n",
    "`pip install brodata`"
   ]
  },
  {
   "cell_type": "code",
   "execution_count": null,
   "id": "03bc3630",
   "metadata": {},
   "outputs": [],
   "source": [
    "import brodata"
   ]
  },
  {
   "cell_type": "code",
   "execution_count": null,
   "id": "e52735a4",
   "metadata": {},
   "outputs": [],
   "source": [
    "# select extent with a buffer around gw_bro\n",
    "p = Point(gw_bro.x, gw_bro.y)\n",
    "extent = np.array(p.buffer(750).bounds).astype(int)[[0, 2, 1, 3]]\n",
    "\n",
    "# get bro ids of borehole data\n",
    "gdf = brodata.bhr.get_characteristics(extent=extent)"
   ]
  },
  {
   "cell_type": "code",
   "execution_count": null,
   "id": "e62aa768",
   "metadata": {},
   "outputs": [],
   "source": [
    "# plot borehole data\n",
    "f, axes = plt.subplots(ncols=2, figsize=(16, 8))\n",
    "\n",
    "gdf[\"broid\"] = gdf.index.str[-7:]\n",
    "gdf[\"x\"] = gdf.geometry.x\n",
    "gdf = gdf.sort_values(\"x\")\n",
    "gdf[\"geometry\"] = gdf.geometry\n",
    "line = LineString(gdf[\"deliveredLocation\"].values)\n",
    "distance_along_line = pd.Series(\n",
    "    [line.project(point) for point in gdf[\"geometry\"]], gdf.index\n",
    ")\n",
    "\n",
    "# plot values\n",
    "xticks = []\n",
    "xticklabels = []\n",
    "for bro_id in gdf.index:\n",
    "    bhrgt = brodata.bhr.GeotechnicalBoreholeResearch.from_bro_id(bro_id)\n",
    "    for x, bl in enumerate(bhrgt.descriptiveBoreholeLog):\n",
    "        brodata.plot.bro_lithology(\n",
    "            bl[\"layer\"],\n",
    "            x=distance_along_line[bro_id],\n",
    "            z=bhrgt.offset,\n",
    "            drilling=bro_id,\n",
    "            ax=axes[0],\n",
    "            linewidth=20,\n",
    "        )\n",
    "        xticks.append(distance_along_line[bro_id])\n",
    "        xticklabels.append(bro_id[-7:])\n",
    "\n",
    "axes[0].set_xticks(xticks)\n",
    "axes[0].set_xticklabels(xticklabels, rotation=45, ha=\"right\")\n",
    "axes[0].set_ylabel(\"z (m t.o.v. NAP)\")\n",
    "# plot map\n",
    "\n",
    "# plot well\n",
    "axes[1].scatter(gw_bro.x, gw_bro.y, color=\"black\")\n",
    "axes[1].annotate(gw_bro.name, (gw_bro.x + 25, gw_bro.y + 10))\n",
    "\n",
    "# plot boreholes\n",
    "legend_labels = gdf[\"broid\"].tolist()\n",
    "gdf.plot(\"broid\", ax=axes[1], legend=True)\n",
    "\n",
    "# plot line\n",
    "gpd.GeoDataFrame(geometry=[line]).plot(ax=axes[1])\n",
    "\n",
    "# settings\n",
    "axes[1].set_xlim(extent[:2])\n",
    "axes[1].set_ylim(extent[2:])\n",
    "\n",
    "# basemap\n",
    "ctx.add_basemap(axes[1], crs=28992)"
   ]
  },
  {
   "cell_type": "markdown",
   "id": "b2c8ab4a",
   "metadata": {},
   "source": [
    "#### Bodemkundig booronderzoek (geost)\n",
    "\n",
    "The geost package can only be pip installed for python version 3.12 or higher. Install it \n",
    "using:\n",
    "\n",
    "`pip install geost`"
   ]
  },
  {
   "cell_type": "code",
   "execution_count": null,
   "id": "225daa7e",
   "metadata": {},
   "outputs": [],
   "source": [
    "!pip install geost"
   ]
  },
  {
   "cell_type": "code",
   "execution_count": null,
   "id": "34c41d0a",
   "metadata": {},
   "outputs": [],
   "source": [
    "import geost"
   ]
  },
  {
   "cell_type": "code",
   "execution_count": null,
   "id": "da2179cd",
   "metadata": {},
   "outputs": [],
   "source": [
    "extent = np.array(p.buffer(2000).bounds).astype(int)[[0, 2, 1, 3]]\n",
    "\n",
    "\n",
    "# get Bodemkundig booronderzoek (BHR-P), Geotechnisch booronderzoek (BHR-GT) is preferred but not yet available via geost\n",
    "boreholes = geost.get_bro_objects_from_bbox(\"BHR-P\", *extent)"
   ]
  },
  {
   "cell_type": "code",
   "execution_count": null,
   "id": "3d2407a0",
   "metadata": {},
   "outputs": [],
   "source": [
    "# specify colors for soil types\n",
    "color_dic = {\n",
    "    \"sterkSiltigZand\": [\n",
    "        0.9137254901960784,\n",
    "        0.7490196078431373,\n",
    "        0.22745098039215686,\n",
    "        1.0,\n",
    "    ],\n",
    "    \"matigSiltigZand\": [\n",
    "        0.9568627450980393,\n",
    "        0.8705882352941177,\n",
    "        0.25098039215686274,\n",
    "        1.0,\n",
    "    ],\n",
    "    \"uiterstSiltigeKlei\": [\n",
    "        0.3333333333333333,\n",
    "        0.4196078431372549,\n",
    "        0.1843137254901961,\n",
    "        1.0,\n",
    "    ],\n",
    "    \"matigZandigeKlei\": [0.0, 0.5764705882352941, 0.15294117647058825, 1.0],\n",
    "    \"zwakSiltigZand\": [1.0, 0.9921568627450981, 0.28627450980392155, 1.0],\n",
    "}\n",
    "\n",
    "# add colors based on column 'standard_name'\n",
    "col = \"standard_name\"\n",
    "boreholes.data.df[\"color\"] = boreholes.data.df[col].map(color_dic)\n",
    "\n",
    "# plot borehole data\n",
    "f, axes = plt.subplots(figsize=(16, 8), ncols=2)\n",
    "labels = []\n",
    "for i, (bro_id, df) in enumerate(boreholes.data.df.groupby(\"nr\")):\n",
    "    for _, row in df.iterrows():\n",
    "        if row[col] in labels:\n",
    "            axes[0].fill_between(\n",
    "                [i - 0.25, i + 0.25],\n",
    "                [row[\"top\"], row[\"top\"]],\n",
    "                [row[\"bottom\"], row[\"bottom\"]],\n",
    "                color=row[\"color\"],\n",
    "            )\n",
    "        else:\n",
    "            axes[0].fill_between(\n",
    "                [i - 0.25, i + 0.25],\n",
    "                [row[\"top\"], row[\"top\"]],\n",
    "                [row[\"bottom\"], row[\"bottom\"]],\n",
    "                color=row[\"color\"],\n",
    "                label=row[col],\n",
    "            )\n",
    "            labels.append(row[col])\n",
    "axes[0].set_xticks(np.arange(0, i + 1), boreholes.data.df[\"nr\"].unique())\n",
    "if boreholes.header.vertical_reference == 5709:\n",
    "    axes[0].set_ylabel(\"m NAP\")\n",
    "axes[0].set_xlim(-0.5, i + 1.5)\n",
    "axes[0].legend()\n",
    "axes[0].set_title(f\"Bodemkundig booronderzoek close to {gw_bro.name}\")\n",
    "# plot map\n",
    "\n",
    "# plot well\n",
    "axes[1].scatter(gw_bro.x, gw_bro.y, label=gw_bro.name, color=\"black\")\n",
    "\n",
    "# plot boreholes\n",
    "for i, dfnr in boreholes.data.df.groupby([\"x\", \"y\"]):\n",
    "    axes[1].scatter(*i, label=dfnr[\"nr\"].unique()[0])\n",
    "\n",
    "# settings\n",
    "axes[1].set_xlim(extent[:2])\n",
    "axes[1].set_ylim(extent[2:])\n",
    "axes[1].legend()\n",
    "\n",
    "# basemap\n",
    "ctx.add_basemap(axes[1], crs=28992)"
   ]
  },
  {
   "cell_type": "code",
   "execution_count": null,
   "id": "c6fc1376",
   "metadata": {},
   "outputs": [],
   "source": []
  }
 ],
 "metadata": {
  "kernelspec": {
   "display_name": "dev2",
   "language": "python",
   "name": "python3"
  },
  "language_info": {
   "codemirror_mode": {
    "name": "ipython",
    "version": 3
   },
   "file_extension": ".py",
   "mimetype": "text/x-python",
   "name": "python",
   "nbconvert_exporter": "python",
   "pygments_lexer": "ipython3",
   "version": "3.12.9"
  }
 },
 "nbformat": 4,
 "nbformat_minor": 5
}
