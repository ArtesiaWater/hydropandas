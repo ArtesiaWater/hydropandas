{
 "cells": [
  {
   "cell_type": "markdown",
   "id": "f60ccd0f",
   "metadata": {},
   "source": [
    "# Boreholes\n",
    "\n",
    "This notebook shows how to plot borehole data along with a groundwater measurement well.\n",
    "\n",
    "Two different packages are used:\n",
    "- `brodata`, to obtain and visualise borehole data from the BRO database\n",
    "- `geost` to get Bodemkundig booronderzoek from the BRO database"
   ]
  },
  {
   "cell_type": "code",
   "execution_count": null,
   "id": "8cbf9cac",
   "metadata": {},
   "outputs": [],
   "source": [
    "import contextily as ctx\n",
    "import geopandas as gpd\n",
    "import matplotlib.pyplot as plt\n",
    "import numpy as np\n",
    "import pandas as pd\n",
    "from shapely.geometry import LineString, Point\n",
    "\n",
    "import hydropandas as hpd"
   ]
  },
  {
   "cell_type": "code",
   "execution_count": null,
   "id": "7ba6833c",
   "metadata": {},
   "outputs": [],
   "source": [
    "# reading data from a groundwatermonitoring well (see notebook 01)\n",
    "gw_bro = hpd.GroundwaterObs.from_bro(\"GMW000000041261\", 1)"
   ]
  },
  {
   "cell_type": "markdown",
   "id": "3713f72b",
   "metadata": {},
   "source": [
    "#### Borehole (Brodata)\n",
    "\n",
    "Brodata can be installed using:\n",
    "\n",
    "`pip install brodata`"
   ]
  },
  {
   "cell_type": "code",
   "execution_count": null,
   "id": "03bc3630",
   "metadata": {},
   "outputs": [],
   "source": [
    "import brodata"
   ]
  },
  {
   "cell_type": "code",
   "execution_count": null,
   "id": "e52735a4",
   "metadata": {},
   "outputs": [],
   "source": [
    "# select extent with a buffer around gw_bro\n",
    "p = Point(gw_bro.x, gw_bro.y)\n",
    "extent = np.array(p.buffer(1000).bounds).astype(int)[[0, 2, 1, 3]]\n",
    "\n",
    "# get bro ids of borehole data\n",
    "gdf = brodata.bhr.get_characteristics(extent=extent)"
   ]
  },
  {
   "cell_type": "code",
   "execution_count": null,
   "id": "e62aa768",
   "metadata": {},
   "outputs": [],
   "source": [
    "# plot borehole data\n",
    "f, axes = plt.subplots(ncols=2, figsize=(16, 8))\n",
    "\n",
    "gdf[\"broid\"] = gdf.index.str[-7:]\n",
    "gdf[\"x\"] = gdf.geometry.x\n",
    "gdf = gdf.sort_values(\"x\")\n",
    "gdf[\"geometry\"] = gdf.geometry\n",
    "line = LineString(gdf[\"deliveredLocation\"].values)\n",
    "distance_along_line = pd.Series(\n",
    "    [line.project(point) for point in gdf[\"geometry\"]], gdf.index\n",
    ")\n",
    "\n",
    "# specify colors\n",
    "colors = brodata.plot.lithology_colors.copy()\n",
    "colors[\"sterkZandigSilt\"] = (243, 225, 100)\n",
    "colors[\"siltigZandMetGrind\"] = (220, 200, 80)\n",
    "colors[\"siltigZand\"] = (243, 225, 150)\n",
    "colors[\"zwakGrindigZand\"] = (231, 210, 70)\n",
    "\n",
    "# plot values\n",
    "xticks = []\n",
    "xticklabels = []\n",
    "for bro_id in gdf.index:\n",
    "    bhrgt = brodata.bhr.GeotechnicalBoreholeResearch.from_bro_id(bro_id)\n",
    "    for x, bl in enumerate(bhrgt.descriptiveBoreholeLog):\n",
    "        brodata.plot.bro_lithology(\n",
    "            bl[\"layer\"],\n",
    "            x=distance_along_line[bro_id],\n",
    "            z=bhrgt.offset,\n",
    "            drilling=bro_id,\n",
    "            ax=axes[0],\n",
    "            linewidth=20,\n",
    "            colors=colors,\n",
    "        )\n",
    "        xticks.append(distance_along_line[bro_id])\n",
    "        xticklabels.append(bro_id[-7:])\n",
    "\n",
    "axes[0].set_xticks(xticks)\n",
    "axes[0].set_xticklabels(xticklabels, rotation=45, ha=\"right\")\n",
    "axes[0].set_ylabel(\"z (m t.o.v. NAP)\")\n",
    "# plot map\n",
    "\n",
    "# plot well\n",
    "axes[1].scatter(gw_bro.x, gw_bro.y, color=\"black\")\n",
    "axes[1].annotate(gw_bro.name, (gw_bro.x + 25, gw_bro.y + 10))\n",
    "\n",
    "# plot boreholes\n",
    "legend_labels = gdf[\"broid\"].tolist()\n",
    "gdf.plot(\"broid\", ax=axes[1], legend=True)\n",
    "\n",
    "# plot line\n",
    "gpd.GeoDataFrame(geometry=[line]).plot(ax=axes[1])\n",
    "\n",
    "# settings\n",
    "axes[1].set_xlim(extent[:2])\n",
    "axes[1].set_ylim(extent[2:])\n",
    "\n",
    "# basemap\n",
    "ctx.add_basemap(axes[1], crs=28992)"
   ]
  },
  {
   "cell_type": "markdown",
   "id": "b2c8ab4a",
   "metadata": {},
   "source": [
    "#### Bodemkundig booronderzoek (geost)\n",
    "\n",
    "The geost package can only be pip installed for python version 3.12 or higher. Install it \n",
    "using:\n",
    "\n",
    "`pip install geost`"
   ]
  },
  {
   "cell_type": "code",
   "execution_count": null,
   "id": "225daa7e",
   "metadata": {},
   "outputs": [],
   "source": [
    "!pip install geost"
   ]
  },
  {
   "cell_type": "code",
   "execution_count": null,
   "id": "34c41d0a",
   "metadata": {},
   "outputs": [],
   "source": [
    "import geost"
   ]
  },
  {
   "cell_type": "code",
   "execution_count": null,
   "id": "efcd292a",
   "metadata": {},
   "outputs": [],
   "source": [
    "# get Bodemkundig booronderzoek (BHR-GT)\n",
    "boreholes = geost.bro_api_read(\"BHR-GT\", bbox=[int(i) for i in p.buffer(1000).bounds])"
   ]
  },
  {
   "cell_type": "code",
   "execution_count": null,
   "id": "3d2407a0",
   "metadata": {},
   "outputs": [],
   "source": [
    "# add colors based on column 'standard_name'\n",
    "col = \"geotechnicalSoilName\"  # \"standardSoilName\"\n",
    "boreholes.data.df[\"color\"] = boreholes.data.df[col].map(colors)\n",
    "\n",
    "# plot borehole data\n",
    "f, axes = plt.subplots(figsize=(16, 8), ncols=2)\n",
    "labels = []\n",
    "for i, (xy, df) in enumerate(boreholes.data.df.groupby(\"x\")):\n",
    "    df[\"top\"] = df[\"surface\"] - df[\"top\"]\n",
    "    df[\"bottom\"] = df[\"surface\"] - df[\"bottom\"]\n",
    "    for _, row in df.iterrows():\n",
    "        color = [c / 255 for c in row[\"color\"]] + [1.0]\n",
    "        if row[col] in labels:\n",
    "            axes[0].fill_between(\n",
    "                [i - 0.25, i + 0.25],\n",
    "                [row[\"top\"], row[\"top\"]],\n",
    "                [row[\"bottom\"], row[\"bottom\"]],\n",
    "                color=color,\n",
    "            )\n",
    "        else:\n",
    "            axes[0].fill_between(\n",
    "                [i - 0.25, i + 0.25],\n",
    "                [row[\"top\"], row[\"top\"]],\n",
    "                [row[\"bottom\"], row[\"bottom\"]],\n",
    "                color=color,\n",
    "                label=row[col],\n",
    "            )\n",
    "            labels.append(row[col])\n",
    "axes[0].set_xticks(\n",
    "    np.arange(0, i + 1), boreholes.data.df.sort_values(\"x\")[\"nr\"].unique()\n",
    ")\n",
    "# Rotate and align the xtick labels\n",
    "for label in axes[0].get_xticklabels():\n",
    "    label.set_rotation(45)\n",
    "    label.set_ha(\"right\")\n",
    "\n",
    "if boreholes.header.vertical_reference == 5709:\n",
    "    axes[0].set_ylabel(\"m NAP\")\n",
    "axes[0].set_xlim(-0.5, i + 1.5)\n",
    "axes[0].legend()\n",
    "axes[0].set_title(f\"Bodemkundig booronderzoek close to {gw_bro.name}\")\n",
    "# plot map\n",
    "\n",
    "# plot well\n",
    "axes[1].scatter(gw_bro.x, gw_bro.y, label=gw_bro.name, color=\"black\")\n",
    "\n",
    "# plot boreholes\n",
    "for i, dfnr in boreholes.data.df.groupby([\"x\", \"y\"]):\n",
    "    axes[1].scatter(*i, label=dfnr[\"nr\"].unique()[0])\n",
    "\n",
    "# settings\n",
    "axes[1].set_xlim(extent[:2])\n",
    "axes[1].set_ylim(extent[2:])\n",
    "axes[1].legend()\n",
    "\n",
    "# basemap\n",
    "ctx.add_basemap(axes[1], crs=28992)"
   ]
  },
  {
   "cell_type": "code",
   "execution_count": null,
   "id": "4e6068c8",
   "metadata": {},
   "outputs": [],
   "source": []
  }
 ],
 "metadata": {
  "kernelspec": {
   "display_name": "venv",
   "language": "python",
   "name": "python3"
  },
  "language_info": {
   "codemirror_mode": {
    "name": "ipython",
    "version": 3
   },
   "file_extension": ".py",
   "mimetype": "text/x-python",
   "name": "python",
   "nbconvert_exporter": "python",
   "pygments_lexer": "ipython3",
   "version": "3.12.10"
  }
 },
 "nbformat": 4,
 "nbformat_minor": 5
}
