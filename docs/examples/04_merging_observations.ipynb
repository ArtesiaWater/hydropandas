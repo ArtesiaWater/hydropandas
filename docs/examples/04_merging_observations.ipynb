{
 "cells": [
  {
   "cell_type": "markdown",
   "id": "2a9fdc08-df41-4c51-a532-2f027f091b4c",
   "metadata": {},
   "source": [
    "# Merging observations\n",
    "\n",
    "This notebook shows how observations and observation collections can be merged. Merging observations can be useful if:\n",
    "- you have data from multiple sources measuring at the same location\n",
    "- you get new measurements that you want to add to the old measurements."
   ]
  },
  {
   "attachments": {},
   "cell_type": "markdown",
   "id": "a492a415-f76d-45e7-8c9a-8f9755bbc67e",
   "metadata": {},
   "source": [
    "## <a id=top></a>Notebook contents\n",
    "\n",
    "1. [Simple merge](#simplemerge)\n",
    "2. [Merge options](#mergeoptions)\n",
    "3. [Merging observation collections](#mergeoc)"
   ]
  },
  {
   "cell_type": "code",
   "execution_count": null,
   "id": "88fe6a26-3b0b-4635-a59d-a002e5400021",
   "metadata": {},
   "outputs": [],
   "source": [
    "import matplotlib.pyplot as plt\n",
    "import numpy as np\n",
    "import pandas as pd\n",
    "from IPython.display import display\n",
    "\n",
    "import hydropandas as hpd\n",
    "\n",
    "hpd.util.get_color_logger(\"INFO\");"
   ]
  },
  {
   "attachments": {},
   "cell_type": "markdown",
   "id": "fdf35f59-1fc6-47b1-97a8-0469f52deccf",
   "metadata": {},
   "source": [
    "## Simple merge<a id=simplemerge></a>"
   ]
  },
  {
   "cell_type": "code",
   "execution_count": null,
   "id": "787ff5cc-a503-4160-b4df-146cfb24de54",
   "metadata": {},
   "outputs": [],
   "source": [
    "# observation 1\n",
    "df = pd.DataFrame(\n",
    "    {\"measurements\": np.random.randint(0, 10, 5)},\n",
    "    index=pd.date_range(\"2020-1-1\", \"2020-1-5\"),\n",
    ")\n",
    "o1 = hpd.Obs(df, name=\"obs\", x=0, y=0)\n",
    "print(o1)"
   ]
  },
  {
   "cell_type": "code",
   "execution_count": null,
   "id": "0168dbe4-0626-4d8c-90f5-dc2b5ecb945f",
   "metadata": {},
   "outputs": [],
   "source": [
    "# observation 2\n",
    "df = pd.DataFrame(\n",
    "    {\"measurements\": np.random.randint(0, 10, 5)},\n",
    "    index=pd.date_range(\"2020-1-6\", \"2020-1-10\"),\n",
    ")\n",
    "o2 = hpd.Obs(df, name=\"obs\", x=0, y=0)\n",
    "print(o2)"
   ]
  },
  {
   "cell_type": "code",
   "execution_count": null,
   "id": "76dfd1a3-c854-4212-b059-645565c676d7",
   "metadata": {},
   "outputs": [],
   "source": [
    "o_merged = o1.merge_observation(o2)\n",
    "o_merged"
   ]
  },
  {
   "cell_type": "code",
   "execution_count": null,
   "id": "d9d745d9",
   "metadata": {},
   "outputs": [],
   "source": [
    "f, axes = plt.subplots(figsize=(9, 7), nrows=3, sharex=True, sharey=True)\n",
    "o1[\"measurements\"].plot(ax=axes[0], marker=\"o\", label=\"observation 1\").legend(loc=1)\n",
    "o2[\"measurements\"].plot(ax=axes[1], marker=\"o\", label=\"observation 2\").legend(loc=1)\n",
    "o_merged[\"measurements\"].plot(ax=axes[2], marker=\"o\", label=\"merged\").legend(loc=1)"
   ]
  },
  {
   "attachments": {},
   "cell_type": "markdown",
   "id": "28c79bd5-a098-4fa9-80ce-0375cdfdb7c8",
   "metadata": {},
   "source": [
    "## Merge options<a id=mergeoptions></a>"
   ]
  },
  {
   "attachments": {},
   "cell_type": "markdown",
   "id": "eadfeee9-1c68-4f9d-bf98-d2f6372e2b85",
   "metadata": {},
   "source": [
    "#### overlapping timeseries"
   ]
  },
  {
   "cell_type": "code",
   "execution_count": null,
   "id": "325f017e-11dc-4ac9-9a30-c51106550ef8",
   "metadata": {},
   "outputs": [],
   "source": [
    "# create a parly overlapping dataframe\n",
    "df = pd.DataFrame(\n",
    "    {\n",
    "        \"measurements\": np.concatenate(\n",
    "            [o1[\"measurements\"].values[-2:], np.random.randint(0, 10, 3)]\n",
    "        )\n",
    "    },\n",
    "    index=pd.date_range(\"2020-1-4\", \"2020-1-8\"),\n",
    ")\n",
    "o3 = hpd.Obs(df, name=\"obs\", x=0, y=0)\n",
    "print(o3)"
   ]
  },
  {
   "cell_type": "code",
   "execution_count": null,
   "id": "031e0ac7-c243-4e8a-a2f9-970f75b4d81a",
   "metadata": {},
   "outputs": [],
   "source": [
    "o_merged = o1.merge_observation(o3)"
   ]
  },
  {
   "cell_type": "code",
   "execution_count": null,
   "id": "25f3fc46",
   "metadata": {},
   "outputs": [],
   "source": [
    "f, axes = plt.subplots(figsize=(9, 7), nrows=3, sharex=True, sharey=True)\n",
    "o1[\"measurements\"].plot(ax=axes[0], marker=\"o\", label=\"observation 1\").legend(loc=1)\n",
    "o3[\"measurements\"].plot(ax=axes[1], marker=\"o\", label=\"observation 3\").legend(loc=1)\n",
    "o_merged[\"measurements\"].plot(ax=axes[2], marker=\"o\", label=\"merged\").legend(loc=1)"
   ]
  },
  {
   "cell_type": "code",
   "execution_count": null,
   "id": "030c3baf-6aa6-4b58-8531-5a04382b4660",
   "metadata": {},
   "outputs": [],
   "source": [
    "# create a parly overlapping dataframe with different values\n",
    "df = pd.DataFrame(\n",
    "    {\"measurements\": np.random.randint(0, 10, 5)},\n",
    "    index=pd.date_range(\"2020-1-4\", \"2020-1-8\"),\n",
    ")\n",
    "o4 = hpd.Obs(df, name=\"obs\", x=0, y=0)\n",
    "print(o4)"
   ]
  },
  {
   "attachments": {},
   "cell_type": "markdown",
   "id": "55304eb8-7e21-491a-b641-ee6a6b534a38",
   "metadata": {},
   "source": [
    "by default an error is raised if the overlapping time series have different values"
   ]
  },
  {
   "cell_type": "code",
   "execution_count": null,
   "id": "6a66ace2-3913-4b5e-8bb2-fee45d392129",
   "metadata": {},
   "outputs": [],
   "source": [
    "o1.merge_observation(o4)"
   ]
  },
  {
   "attachments": {},
   "cell_type": "markdown",
   "id": "9b01099e-3ee6-4edc-b58a-c7c63c73d563",
   "metadata": {},
   "source": [
    "With the 'overlap' argument you can specify to use the left or the right observation when merging. See example below."
   ]
  },
  {
   "cell_type": "code",
   "execution_count": null,
   "id": "33e8f71b-94bf-4860-855f-4ae06c9008a0",
   "metadata": {},
   "outputs": [],
   "source": [
    "print(\"use left\")\n",
    "merged_left = o1.merge_observation(o4, overlap=\"use_left\")\n",
    "display(merged_left)  # use the existing observation\n",
    "print(\"use right\")\n",
    "merged_right = o1.merge_observation(o4, overlap=\"use_right\")\n",
    "display(merged_right)  # use the existing observation"
   ]
  },
  {
   "cell_type": "code",
   "execution_count": null,
   "id": "b9bc03e8",
   "metadata": {},
   "outputs": [],
   "source": [
    "f, axes = plt.subplots(figsize=(9, 7), nrows=4, sharex=True, sharey=True)\n",
    "o1[\"measurements\"].plot(ax=axes[0], marker=\"o\", label=\"observation 1\").legend(loc=2)\n",
    "o4[\"measurements\"].plot(ax=axes[1], marker=\"o\", label=\"observation 4\").legend(loc=2)\n",
    "merged_left[\"measurements\"].plot(ax=axes[2], marker=\"o\", label=\"merged left\").legend(\n",
    "    loc=2\n",
    ")\n",
    "merged_right[\"measurements\"].plot(ax=axes[3], marker=\"o\", label=\"merged right\").legend(\n",
    "    loc=2\n",
    ")"
   ]
  },
  {
   "attachments": {},
   "cell_type": "markdown",
   "id": "6c6e5d07-9c24-4319-bc15-9fccea42d559",
   "metadata": {},
   "source": [
    "#### metadata\n",
    "The `merge_observation` method checks by default if the metadata of the two observations is the same."
   ]
  },
  {
   "cell_type": "code",
   "execution_count": null,
   "id": "ac6779ad-e1ab-4076-906e-91645e1f251c",
   "metadata": {},
   "outputs": [],
   "source": [
    "# observation 2\n",
    "df = pd.DataFrame(\n",
    "    {\"measurements\": np.random.randint(0, 10, 5)},\n",
    "    index=pd.date_range(\"2020-1-6\", \"2020-1-10\"),\n",
    ")\n",
    "o5 = hpd.Obs(df, name=\"obs5\", x=0, y=0)\n",
    "o5"
   ]
  },
  {
   "attachments": {},
   "cell_type": "markdown",
   "id": "26fd6465-d17c-407b-aef4-3a3b8c7ba9bf",
   "metadata": {},
   "source": [
    "When the metadata differs a ValueError is raised."
   ]
  },
  {
   "cell_type": "code",
   "execution_count": null,
   "id": "970ba3c8-d973-488d-8620-7dd3d5480335",
   "metadata": {},
   "outputs": [],
   "source": [
    "o1.merge_observation(o5)"
   ]
  },
  {
   "attachments": {},
   "cell_type": "markdown",
   "id": "7f8e2a4b-9b2a-42e6-b301-2caa45a6ce21",
   "metadata": {},
   "source": [
    "If you set the `merge_metadata` argument to `False` the metadata is not merged and only the timeseries of the observations is merged."
   ]
  },
  {
   "cell_type": "code",
   "execution_count": null,
   "id": "90b0067e-bc0e-4849-a3c5-8456de3e8550",
   "metadata": {},
   "outputs": [],
   "source": [
    "o1.merge_observation(o5, merge_metadata=False)"
   ]
  },
  {
   "attachments": {},
   "cell_type": "markdown",
   "id": "949b694b-fdf8-4727-aa9c-696e4bf05181",
   "metadata": {},
   "source": [
    "Just as with overlapping timeseries, the 'overlap' argument can also be used for overlapping metadata values"
   ]
  },
  {
   "cell_type": "code",
   "execution_count": null,
   "id": "2c682b29-f8e9-47dd-99d0-2d2743d50fe4",
   "metadata": {},
   "outputs": [],
   "source": [
    "o_merged = o1.merge_observation(o5, overlap=\"use_left\", merge_metadata=True)\n",
    "print('observation name when overlap=\"use_left\":', o_merged.name)\n",
    "o_merged = o1.merge_observation(o5, overlap=\"use_right\", merge_metadata=True)\n",
    "print('observation name when overlap=\"use_right\":', o_merged.name)"
   ]
  },
  {
   "attachments": {},
   "cell_type": "markdown",
   "id": "9a8c58fe-8cda-405c-8d90-f54a6c8af296",
   "metadata": {},
   "source": [
    "#### all combinations"
   ]
  },
  {
   "cell_type": "code",
   "execution_count": null,
   "id": "4b463ad6-1244-4e5e-b373-e371b78372a4",
   "metadata": {},
   "outputs": [],
   "source": [
    "# observation 6\n",
    "df = pd.DataFrame(\n",
    "    {\"measurements\": np.random.randint(0, 10, 5), \"filter\": np.ones(5)},\n",
    "    index=pd.date_range(\"2020-1-1\", \"2020-1-5\"),\n",
    ")\n",
    "o6 = hpd.Obs(df, name=\"obs6\", x=100, y=0)\n",
    "o6"
   ]
  },
  {
   "cell_type": "code",
   "execution_count": null,
   "id": "6195ecba-c617-4fb5-9591-87eba9f436fa",
   "metadata": {},
   "outputs": [],
   "source": [
    "# observation 7\n",
    "df = pd.DataFrame(\n",
    "    {\n",
    "        \"measurements\": np.concatenate(\n",
    "            [o5[\"measurements\"].values[-1:], np.random.randint(0, 10, 4)]\n",
    "        ),\n",
    "        \"remarks\": [\"\", \"\", \"\", \"unreliable\", \"\"],\n",
    "    },\n",
    "    index=pd.date_range(\"2020-1-4\", \"2020-1-8\"),\n",
    ")\n",
    "o7 = hpd.Obs(df, name=\"obs7\", x=0, y=100)\n",
    "o7"
   ]
  },
  {
   "cell_type": "code",
   "execution_count": null,
   "id": "d7197658-c159-4322-aeac-ff294d5afc24",
   "metadata": {},
   "outputs": [],
   "source": [
    "merged_right = o6.merge_observation(o7, overlap=\"use_right\")\n",
    "merged_right"
   ]
  },
  {
   "cell_type": "code",
   "execution_count": null,
   "id": "a383b03d",
   "metadata": {},
   "outputs": [],
   "source": [
    "f, axes = plt.subplots(figsize=(9, 7), nrows=3, sharex=True, sharey=True)\n",
    "o6[\"measurements\"].plot(ax=axes[0], marker=\"o\", label=\"observation 6\").legend(loc=2)\n",
    "o7[\"measurements\"].plot(ax=axes[1], marker=\"o\", legend=True, label=\"observation 7\")\n",
    "merged_right[\"measurements\"].plot(\n",
    "    ax=axes[2], marker=\"o\", legend=True, label=\"merged right\"\n",
    ")"
   ]
  },
  {
   "attachments": {},
   "cell_type": "markdown",
   "id": "99d89e46-eb4f-4141-b992-c107ddbd005f",
   "metadata": {},
   "source": [
    "## Merge observation collections<a id=mergeoc></a>"
   ]
  },
  {
   "cell_type": "code",
   "execution_count": null,
   "id": "98c10114-c5c9-4850-939f-5902136f6de5",
   "metadata": {},
   "outputs": [],
   "source": [
    "# create an observation collection from a single observation\n",
    "oc1 = hpd.ObsCollection(o1)"
   ]
  },
  {
   "attachments": {},
   "cell_type": "markdown",
   "id": "ebdef210-3f61-4052-b3a9-2f4128a9f642",
   "metadata": {},
   "source": [
    "We can add a single observation to this collection using the `add_observation` method."
   ]
  },
  {
   "cell_type": "code",
   "execution_count": null,
   "id": "710395b1-a725-43b2-9b12-5b04685c8af3",
   "metadata": {},
   "outputs": [],
   "source": [
    "oc1.add_observation(o2)\n",
    "oc1"
   ]
  },
  {
   "attachments": {},
   "cell_type": "markdown",
   "id": "47c727fd-bbab-4043-b2b8-f7949b20d600",
   "metadata": {},
   "source": [
    "We can also combine two observation collections."
   ]
  },
  {
   "cell_type": "code",
   "execution_count": null,
   "id": "67e271dd-8b81-4a5c-9e32-396a24319aaf",
   "metadata": {},
   "outputs": [],
   "source": [
    "# create another observation collection from a list of observations\n",
    "oc2 = hpd.ObsCollection([o5, o6])\n",
    "oc2\n",
    "\n",
    "# add the collection to the previous one\n",
    "oc1.add_obs_collection(oc2, inplace=True)\n",
    "oc1"
   ]
  },
  {
   "attachments": {},
   "cell_type": "markdown",
   "id": "08e9f764-6ce4-473b-901b-4134b7f46a73",
   "metadata": {},
   "source": [
    "There is an automatic check for overlap based on the name of the observations. If the observations in both collections are exactly the same they are merged."
   ]
  },
  {
   "cell_type": "code",
   "execution_count": null,
   "id": "7c4cdfd9-ad76-4333-b913-c59317e38677",
   "metadata": {},
   "outputs": [],
   "source": [
    "# add o2 to the observation collection 1\n",
    "oc1.add_observation(o2)"
   ]
  },
  {
   "attachments": {},
   "cell_type": "markdown",
   "id": "0e7fb7c5-a922-4172-8e08-10c3a5befac4",
   "metadata": {},
   "source": [
    "If the observation you want to add has the same name but not the same timeseries an error is raised."
   ]
  },
  {
   "cell_type": "code",
   "execution_count": null,
   "id": "e343083e-46c9-4332-b7a4-5303b75b6b5e",
   "metadata": {},
   "outputs": [],
   "source": [
    "o1_mod = o1.copy()\n",
    "o1_mod.loc[\"2020-01-02\", \"measurements\"] = 100\n",
    "oc1.add_observation(o1_mod)"
   ]
  },
  {
   "attachments": {},
   "cell_type": "markdown",
   "id": "b9997ddf-ce03-493b-abe5-738350bde24b",
   "metadata": {},
   "source": [
    "To avoid errors we can use the `overlap` arguments to specify which observation we want to use."
   ]
  },
  {
   "cell_type": "code",
   "execution_count": null,
   "id": "c329df3a-eefa-4205-9c0b-92f432d141bd",
   "metadata": {},
   "outputs": [],
   "source": [
    "oc1.add_observation(o1_mod, overlap=\"use_left\")\n",
    "oc1"
   ]
  }
 ],
 "metadata": {
  "kernelspec": {
   "display_name": "dev2",
   "language": "python",
   "name": "python3"
  },
  "language_info": {
   "codemirror_mode": {
    "name": "ipython",
    "version": 3
   },
   "file_extension": ".py",
   "mimetype": "text/x-python",
   "name": "python",
   "nbconvert_exporter": "python",
   "pygments_lexer": "ipython3",
   "version": "3.12.9"
  }
 },
 "nbformat": 4,
 "nbformat_minor": 5
}
