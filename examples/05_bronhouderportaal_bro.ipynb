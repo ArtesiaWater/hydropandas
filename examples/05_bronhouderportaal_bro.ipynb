{
 "cells": [
  {
   "attachments": {},
   "cell_type": "markdown",
   "metadata": {},
   "source": [
    "# Reading Bronhouderportaal BRO data\n",
    "\n",
    "This notebook introduces how to use the `hydropandas` package to read, visualise and analyse meta data of newly installed groundwater wells. These meta data is to be submitted to Bronhouderportaal BRO afterwards."
   ]
  },
  {
   "attachments": {},
   "cell_type": "markdown",
   "metadata": {},
   "source": [
    "## <a id=top></a>Notebook contents\n",
    "\n",
    "1. [Read ObsCollection](#readingOC)\n",
    "2. [Visualise ObsCollection](#visualize)\n",
    "3. [Analyse ObsCollection](#analyse)"
   ]
  },
  {
   "cell_type": "code",
   "execution_count": null,
   "metadata": {},
   "outputs": [],
   "source": [
    "import hydropandas as hpd\n",
    "\n",
    "import logging\n",
    "from IPython.display import HTML\n",
    "\n",
    "import pandas as pd\n"
   ]
  },
  {
   "cell_type": "code",
   "execution_count": null,
   "metadata": {},
   "outputs": [],
   "source": [
    "hpd.util.get_color_logger(\"INFO\")"
   ]
  },
  {
   "attachments": {},
   "cell_type": "markdown",
   "metadata": {},
   "source": [
    "## Read ObsCollection<a id=readingOC></a>\n",
    "\n",
    "An `ObsCollection` is created for the multiple monitoring wells."
   ]
  },
  {
   "cell_type": "code",
   "execution_count": null,
   "metadata": {},
   "outputs": [],
   "source": [
    "dirname = \"data/bronhouderportaal-bro\"\n",
    "oc = hpd.read_bronhouderportaal_bro(dirname, full_meta=True, add_to_df=True)\n",
    "oc"
   ]
  },
  {
   "attachments": {},
   "cell_type": "markdown",
   "metadata": {},
   "source": [
    "## Visualize ObsCollection<a id=visualize></a>\n",
    "\n",
    "Visualize the `ObsCollection`."
   ]
  },
  {
   "cell_type": "code",
   "execution_count": null,
   "metadata": {},
   "outputs": [],
   "source": [
    "# TO DO: interactive_map() does not support locations without observations\n",
    "# oc.plots.interactive_map()\n"
   ]
  },
  {
   "cell_type": "code",
   "execution_count": null,
   "metadata": {},
   "outputs": [],
   "source": [
    "# TO DO: section_plot() now hacked to support locations without observations, but observation axis is still plotted (and empty)\n",
    "oc.plots.section_plot(plot_obs=False)\n"
   ]
  },
  {
   "attachments": {},
   "cell_type": "markdown",
   "metadata": {},
   "source": [
    "## Analyse ObsCollection<a id=analyse></a>\n",
    "\n",
    "Visualize the `ObsCollection`.\n",
    "\n",
    "First step is to check which columns have unique values for all wells. E.g. the owner should be the same for all wells. That requires that we drop the `obs` column, beceause `pd.nunique` cannot deal with that specific HydroPandas column-type."
   ]
  },
  {
   "cell_type": "code",
   "execution_count": null,
   "metadata": {},
   "outputs": [],
   "source": [
    "oc_temp = oc.copy().drop([\"obs\"], axis=1)\n",
    "oc_unique = oc_temp.iloc[0][oc_temp.columns[oc_temp.nunique() <= 1]]\n",
    "oc_unique"
   ]
  },
  {
   "cell_type": "code",
   "execution_count": null,
   "metadata": {},
   "outputs": [],
   "source": [
    "oc_non_unique = oc[oc.columns.drop(oc_temp.columns[oc_temp.nunique() <= 1])]\n",
    "oc_non_unique\n"
   ]
  },
  {
   "cell_type": "code",
   "execution_count": null,
   "metadata": {},
   "outputs": [],
   "source": [
    "# get statistics\n",
    "oc_non_unique.describe()\n"
   ]
  },
  {
   "attachments": {},
   "cell_type": "markdown",
   "metadata": {},
   "source": [
    "Check the usage of `tube_nr`. Has tube number one the lowest `screen_bottom` and lowest `screen_top`?"
   ]
  },
  {
   "cell_type": "code",
   "execution_count": null,
   "metadata": {},
   "outputs": [],
   "source": [
    "lst_lowest_tube = []\n",
    "for monitoring_well in oc.monitoring_well.unique():\n",
    "    oc_mw = oc.loc[oc.monitoring_well == monitoring_well]\n",
    "\n",
    "    lowest_screen_bottom_tube_nr = oc_mw.loc[\n",
    "        oc_mw.screen_bottom == oc_mw.screen_bottom.min(), \"tube_nr\"\n",
    "    ].values[0]\n",
    "\n",
    "    lowest_screen_top_tube_nr = oc_mw.loc[\n",
    "        oc_mw.screen_top == oc_mw.screen_top.min(), \"tube_nr\"\n",
    "    ].values[0]\n",
    "\n",
    "    lst_lowest_tube.append(\n",
    "        [monitoring_well, lowest_screen_bottom_tube_nr, lowest_screen_top_tube_nr]\n",
    "    )\n",
    "\n",
    "df_lowest_tube = pd.DataFrame(\n",
    "    lst_lowest_tube,\n",
    "    columns=[\n",
    "        \"monitoring_well\",\n",
    "        \"lowest_screen_bottom_tube_nr\",\n",
    "        \"lowest_screen_top_tube_nr\",\n",
    "    ],\n",
    ").set_index(\"monitoring_well\")\n",
    "\n",
    "df_lowest_tube"
   ]
  },
  {
   "attachments": {},
   "cell_type": "markdown",
   "metadata": {},
   "source": [
    "## Upload to Bronhouderportaal BRO\n",
    "\n",
    "Upload the XML-files to Bronhouderportaal BRO via the website."
   ]
  },
  {
   "cell_type": "code",
   "execution_count": null,
   "metadata": {},
   "outputs": [],
   "source": []
  }
 ],
 "metadata": {
  "kernelspec": {
   "display_name": "dev",
   "language": "python",
   "name": "dev"
  },
  "language_info": {
   "codemirror_mode": {
    "name": "ipython",
    "version": 3
   },
   "file_extension": ".py",
   "mimetype": "text/x-python",
   "name": "python",
   "nbconvert_exporter": "python",
   "pygments_lexer": "ipython3",
   "version": "3.9.4"
  }
 },
 "nbformat": 4,
 "nbformat_minor": 4
}
