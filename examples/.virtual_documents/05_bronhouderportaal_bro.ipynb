





import hydropandas as hpd

import logging
from IPython.display import HTML

import pandas as pd


hpd.util.get_color_logger("INFO");





folder = 'data/bronhouderportaal-bro'
oc = hpd.read_bronhouderportaal_bro(folder, full_meta=True)
oc





# TO DO: interactive_map() does not support locations without observations
# oc.plots.interactive_map()


# TO DO: section_plot() now hacked to support locations without observations, but observation axis is still plotted (and empty)
oc.plots.section_plot(plot_obs=False)





oc_temp = oc.copy().drop(['obs'], axis=1)
oc_unique = oc_temp.iloc[0][oc_temp.columns[oc_temp.nunique() <= 1]]
oc_unique


oc_non_unique = oc[oc.columns.drop(oc_temp.columns[oc_temp.nunique() <= 1])]
oc_non_unique


# get statistics
oc_non_unique.describe()





lst_lowest_tube = []
for monitoring_well in oc.monitoring_well.unique():
    oc_mw = oc.loc[oc.monitoring_well == monitoring_well]

    lowest_screen_bottom_tube_nr = oc_mw.loc[oc_mw.screen_bottom == oc_mw.screen_bottom.min(), 'tube_nr'].values[0]

    lowest_screen_top_tube_nr = oc_mw.loc[oc_mw.screen_top == oc_mw.screen_top.min(), 'tube_nr'].values[0]

    lst_lowest_tube.append([monitoring_well, lowest_screen_bottom_tube_nr, lowest_screen_top_tube_nr])

df_lowest_tube = pd.DataFrame(lst_lowest_tube, columns=['monitoring_well', 'lowest_screen_bottom_tube_nr', 'lowest_screen_top_tube_nr']).set_index('monitoring_well')

df_lowest_tube






