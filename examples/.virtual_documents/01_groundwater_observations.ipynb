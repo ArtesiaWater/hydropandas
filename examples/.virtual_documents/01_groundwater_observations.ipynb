





import hydropandas as hpd

import logging
from IPython.display import HTML

import logging


hpd.util.get_color_logger("INFO");





# reading a dino csv file
fname = "data/Grondwaterstanden_Put/B33F0080001_1.csv"
gw_dino = hpd.GroundwaterObs.from_dino(fname=fname)


# reading the same filter from using the bro api. Specify a groundwater monitoring id (GMW00...) and a filter number (1)
gw_bro = hpd.GroundwaterObs.from_bro("GMW000000041261", 1)





gw_bro.describe()


gw_bro


ax = gw_dino["stand_m_tov_nap"].plot(
    label="dinoloket", figsize=(14, 5), legend=True, marker=".", lw=0.2
)
gw_bro["values"].plot(ax=ax, label="bro", legend=True, ylabel=gw_bro.unit)
gw_dino["ground_level"].plot(
    ax=ax,
    label="ground level",
    legend=True,
    grid=True,
    color="green",
    ylabel=gw_dino.unit,
)

ax.set_title(f"same tube from Dinoloket {gw_dino.name} and BRO id {gw_bro.name}");





print(gw_bro)








print(f"latitude and longitude -> {gw_bro.geo.get_lat_lon()}")


gw_bro.stats.get_seasonal_stat(stat="mean")


p = gw_bro.plots.interactive_plot("figure")
HTML(filename="figure/{}.html".format(gw_bro.name))





fname1 = "data/Grondwaterstanden_Put/B33F0080001_1.csv"
fname2 = "data/Grondwaterstanden_Put/B33F0133001_1.csv"
gw1 = hpd.GroundwaterObs.from_dino(fname=fname1)
gw2 = hpd.GroundwaterObs.from_dino(fname=fname2)

# create ObsCollection
oc = hpd.ObsCollection([gw1, gw2], name="Dino groundwater")
oc





# get columns
oc.columns


# get individual GroundwaterObs object from an ObsCollection
o = oc.loc["B33F0133-001", "obs"]
o


# get statistics
oc.describe()








print(f"bounding box -> {oc.geo.get_bounding_box()}")


oc.geo.set_lat_lon()
oc.plots.interactive_map(plot_dir="figure")





oc.plots.section_plot();





print(f"name is -> {oc.name}")
print(f"meta is -> {oc.meta}")








# read using a .zip file with data
dinozip = "data/dino.zip"
dino_gw = hpd.read_dino(dirname=dinozip, keep_all_obs=False)
dino_gw


# read from bro using an extent (Schoonhoven zuid-west)
oc = hpd.read_bro(extent=(117850, 118180, 439550, 439900), keep_all_obs=False)
oc


# plot wells, use x-coordinate in section plot
oc.plots.section_plot(section_colname_x="x", section_label_x="x coordinate [m]");








oc.to_pickle("test.pklz")


oc_pickled = hpd.read_pickle("test.pklz")





oc.to_excel("test.xlsx")


oc_excelled = hpd.read_excel("test.xlsx")
