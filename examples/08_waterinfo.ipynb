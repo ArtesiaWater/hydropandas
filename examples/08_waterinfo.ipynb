{
 "cells": [
  {
   "attachments": {},
   "cell_type": "markdown",
   "metadata": {},
   "source": [
    "# Reading waterinfo observations\n",
    "\n",
    "This notebook introduces how to use the `hydropandas` package to read, process and visualise data from the Waterinfo database. In this notebook the `ddlpy` package is used to access the waterinfo api. This package can be installed using `pip install ddlpy`."
   ]
  },
  {
   "cell_type": "code",
   "execution_count": null,
   "metadata": {},
   "outputs": [],
   "source": [
    "\n",
    "import matplotlib.pyplot as plt\n",
    "import geopandas as gpd\n",
    "import numpy as np\n",
    "import pandas as pd\n",
    "import nlmod\n",
    "import datetime as dt\n",
    "import hydropandas as hpd\n",
    "from hydropandas.io.waterinfo import get_locations_gdf\n",
    "\n",
    "# enabling debug logging so we can see what happens in the background\n",
    "hpd.util.get_color_logger(\"INFO\");"
   ]
  },
  {
   "cell_type": "code",
   "execution_count": null,
   "metadata": {},
   "outputs": [],
   "source": [
    "# settings\n",
    "grootheid_code = None\n",
    "locatie = 'SCHOONHVN'\n",
    "tmin = dt.datetime(2024, 1, 1)\n",
    "tmax = dt.datetime(2024, 1, 3)\n",
    "extent = (110000, 125000, 429550, 449900) # Schoonhoven"
   ]
  },
  {
   "cell_type": "code",
   "execution_count": null,
   "metadata": {},
   "outputs": [],
   "source": [
    "# get waterinfo observations within an extent\n",
    "oc = hpd.read_waterinfo(\n",
    "    extent=extent, grootheid_code=grootheid_code, locatie=locatie, tmin=tmin, tmax=tmax\n",
    ")\n",
    "oc"
   ]
  },
  {
   "cell_type": "code",
   "execution_count": null,
   "metadata": {},
   "outputs": [],
   "source": [
    "# show all measurement types within the extent\n",
    "gdf_meas = get_locations_gdf(extent=extent)\n",
    "gdf_meas[['Grootheid.Code','Grootheid.Omschrijving']]"
   ]
  },
  {
   "cell_type": "code",
   "execution_count": null,
   "metadata": {},
   "outputs": [],
   "source": [
    "# get data from a certain location and grootheid\n",
    "o = hpd.WaterlvlObs.from_waterinfo(\n",
    "    locatie='SCHOONHVN',\n",
    "    grootheid_code='WATHTE',\n",
    "    tmin=tmin,\n",
    "    tmax=tmax,\n",
    "    location_gdf=gdf_meas, #specifying the location_gdf signficantly speeds up the process\n",
    ")\n",
    "o.plot(ylabel=o.unit, title=o.name, legend=False)"
   ]
  },
  {
   "cell_type": "code",
   "execution_count": null,
   "metadata": {},
   "outputs": [],
   "source": [
    "# get data from a certain location and grootheid\n",
    "o = hpd.WaterlvlObs.from_waterinfo(\n",
    "    locatie='SCHOONHVN',\n",
    "    grootheid_code='WATHTBRKD',\n",
    "    tmin=tmin,\n",
    "    tmax=tmax,\n",
    "    location_gdf=gdf_meas, #specifying the location_gdf signficantly speeds up the process\n",
    ")\n",
    "o.plot(ylabel=o.unit, title=o.name, legend=False)"
   ]
  },
  {
   "cell_type": "code",
   "execution_count": null,
   "metadata": {},
   "outputs": [],
   "source": [
    "# get all measurement points within the Netherlands\n",
    "gdf = hpd.io.waterinfo.get_locations_gdf()\n",
    "ax = gdf.plot(figsize=(10,10))\n",
    "nlmod.plot.add_background_map(ax=ax)"
   ]
  },
  {
   "cell_type": "markdown",
   "metadata": {},
   "source": [
    "## Ophalen data WaterWebservices <a id=GroundwaterObs></a>\n",
    "\n",
    "In de toekomst komen de WaterWebservices beschikbaar. Deze werken op dit moment (2024-2-26) nog niet. Bij het ophalen van de metingen wordt altijd aangegeven dat het maximaal aantal metingen wordt overschreven. Zelfs als je maar voor één dag metingen ophaalt.\n",
    "\n",
    "Handige links:\n",
    "- https://waterwebservices.beta.rijkswaterstaat.nl/test/swagger-ui/index.html#/\n",
    "- https://rijkswaterstaatdata.nl/projecten/beta-waterwebservices/\n"
   ]
  },
  {
   "cell_type": "code",
   "execution_count": null,
   "metadata": {},
   "outputs": [],
   "source": [
    "import requests\n",
    "import json\n",
    "import pandas as pd\n",
    "from shapely.geometry import Point"
   ]
  },
  {
   "cell_type": "code",
   "execution_count": null,
   "metadata": {},
   "outputs": [],
   "source": [
    "# request catalogus REST API\n",
    "url = \"https://waterwebservices.beta.rijkswaterstaat.nl/test/METADATASERVICES/OphalenCatalogus\"\n",
    "body = {\"CatalogusFilter\": {\"Compartimenten\":True, \"Grootheden\":True}}\n",
    "headers = {\"content-type\": \"application/json\"}\n",
    "r = requests.post(url,  data=json.dumps(body), headers=headers)\n",
    "\n",
    "out = r.json()"
   ]
  },
  {
   "cell_type": "code",
   "execution_count": null,
   "metadata": {},
   "outputs": [],
   "source": [
    "# plot locations from REST API\n",
    "geometries = [Point(loc['Lon'], loc['Lat']) for loc in out['LocatieLijst']]\n",
    "gdf = gpd.GeoDataFrame(out['LocatieLijst'], geometry=geometries, crs=4258)\n",
    "gdf.to_crs(28992, inplace=True)\n",
    "extent_nl_poly = nlmod.util.polygon_from_extent([482.06, 306602.42, 284182.97, 637049.52])\n",
    "gdf = gdf.loc[gdf.within(extent_nl_poly)]\n",
    "ax = gdf.plot(figsize=(10,10))\n",
    "nlmod.plot.add_background_map(ax=ax)"
   ]
  },
  {
   "cell_type": "code",
   "execution_count": null,
   "metadata": {},
   "outputs": [],
   "source": [
    "# read REST API using an extent (Schoonhoven zuid-west)\n",
    "extent_schoon = nlmod.util.polygon_from_extent((117850, 118180, 439550, 439900))\n",
    "gdf_schoon = gdf.loc[gdf.within(extent_schoon.buffer(10000))]\n",
    "ax = gdf_schoon.plot('Code',figsize=(10,10), legend=True)\n",
    "nlmod.plot.add_background_map(ax=ax, alpha=0.5)"
   ]
  },
  {
   "cell_type": "code",
   "execution_count": null,
   "metadata": {},
   "outputs": [],
   "source": [
    "# kies code en laat zien welke parameters erbij horen\n",
    "code = 'schoonhoven'\n",
    "\n",
    "df_meta_locatie = pd.DataFrame(out['AquoMetadataLocatieLijst']).set_index('Locatie_MessageID')\n",
    "df_meta = pd.DataFrame(out['AquoMetadataLijst'])\n",
    "\n",
    "locatie_message_id = gdf.loc[gdf['Code']==code,'Locatie_MessageID'].iloc[0]\n",
    "\n",
    "AquoMetaData_MessageIDs = df_meta_locatie.loc[locatie_message_id, 'AquoMetaData_MessageID']\n",
    "if isinstance(AquoMetaData_MessageIDs, int):\n",
    "    AquoMetaData_MessageIDs = [AquoMetaData_MessageIDs]\n",
    "df_meta.loc[AquoMetaData_MessageIDs]\n"
   ]
  },
  {
   "cell_type": "code",
   "execution_count": null,
   "metadata": {},
   "outputs": [],
   "source": [
    "# request om metingen op te halen\n",
    "code = 'ameland.nes'\n",
    "aquometadata_message_id = 6\n",
    "\n",
    "url = \"https://waterwebservices.beta.rijkswaterstaat.nl/test/ONLINEWAARNEMINGENSERVICES/OphalenWaarnemingen\"\n",
    "body = {\"Locatie\": {\"Code\": code},\n",
    "        \"AquoPlusWaarnemingMetadata\":  {\"AquoMetadata\":{\"Compartiment\":{\"Code\":df_meta.loc[aquometadata_message_id,'Compartiment']['Code']}, \n",
    "                                                        \"Grootheid\":{\"Code\":df_meta.loc[aquometadata_message_id,'Grootheid']['Code']}}},\n",
    "        \"Periode\":{\"Begindatumtijd\":\"2024-06-01T00:00:00.000+01:00\",\n",
    "                   \"Einddatumtijd\":\"2025-01-01T00:00:00.000+01:00\"}}\n",
    "headers = {\"content-type\": \"application/json\"}\n",
    "r = requests.post(url,  data=json.dumps(body), headers=headers)\n",
    "if r.status_code==204:\n",
    "    print('No data available')\n",
    "else:\n",
    "    meas = r.json()\n",
    "    print(meas)"
   ]
  },
  {
   "cell_type": "code",
   "execution_count": null,
   "metadata": {},
   "outputs": [],
   "source": [
    "# andere poging\n",
    "code = 'ameland.nes'\n",
    "aquometadata_message_id = 6\n",
    "\n",
    "url = \"https://waterwebservices.beta.rijkswaterstaat.nl/test/ONLINEWAARNEMINGENSERVICES/OphalenWaarnemingen\"\n",
    "body = {\"Locatie\": {\"Code\": code},\n",
    "        \"AquoPlusWaarnemingMetadata\":  {\"AquoMetadata\":{\"ProcesType\":\"verwachting\", \n",
    "                                                        \"Grootheid\":{\"Code\":df_meta.loc[aquometadata_message_id,'Grootheid']['Code']}}},\n",
    "        \"Periode\":{\"Begindatumtijd\":\"2024-01-01T00:00:00.000+01:00\",\n",
    "                   \"Einddatumtijd\":\"2024-01-02T00:00:00.000+01:00\"}}\n",
    "headers = {\"content-type\": \"application/json\"}\n",
    "r = requests.post(url,  data=json.dumps(body), headers=headers)\n",
    "if r.status_code==204:\n",
    "    print('No data available')\n",
    "else:\n",
    "    meas = r.json()\n",
    "    print(meas)"
   ]
  }
 ],
 "metadata": {
  "kernelspec": {
   "display_name": "dev",
   "language": "python",
   "name": "python3"
  },
  "language_info": {
   "codemirror_mode": {
    "name": "ipython",
    "version": 3
   },
   "file_extension": ".py",
   "mimetype": "text/x-python",
   "name": "python",
   "nbconvert_exporter": "python",
   "pygments_lexer": "ipython3",
   "version": "3.10.13"
  }
 },
 "nbformat": 4,
 "nbformat_minor": 4
}
