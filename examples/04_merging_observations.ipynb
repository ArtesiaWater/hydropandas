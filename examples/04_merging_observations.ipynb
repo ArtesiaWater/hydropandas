{
 "cells": [
  {
   "cell_type": "markdown",
   "id": "2a9fdc08-df41-4c51-a532-2f027f091b4c",
   "metadata": {},
   "source": [
    "# Merging observations\n",
    "\n",
    "This notebook shows how observations and observation collections can be merged."
   ]
  },
  {
   "cell_type": "markdown",
   "id": "a492a415-f76d-45e7-8c9a-8f9755bbc67e",
   "metadata": {},
   "source": [
    "## <a id=top></a>Notebook contents\n",
    "\n",
    "1. [Simple merge](#simplemerge)\n",
    "2. [Merge options](#mergeoptions)\n",
    "3. [Merging observation collections](#mergeoc)"
   ]
  },
  {
   "cell_type": "code",
   "execution_count": 1,
   "id": "88fe6a26-3b0b-4635-a59d-a002e5400021",
   "metadata": {},
   "outputs": [],
   "source": [
    "import numpy as np\n",
    "import pandas as pd\n",
    "import hydropandas as hpd\n",
    "from IPython.display import display\n",
    "\n",
    "import logging\n",
    "logging.basicConfig(level=logging.INFO)"
   ]
  },
  {
   "cell_type": "markdown",
   "id": "fdf35f59-1fc6-47b1-97a8-0469f52deccf",
   "metadata": {},
   "source": [
    "## Simple merge<a id=simplemerge></a>"
   ]
  },
  {
   "cell_type": "code",
   "execution_count": 2,
   "id": "787ff5cc-a503-4160-b4df-146cfb24de54",
   "metadata": {},
   "outputs": [
    {
     "data": {
      "text/html": [
       "<div>\n",
       "<style scoped>\n",
       "    .dataframe tbody tr th:only-of-type {\n",
       "        vertical-align: middle;\n",
       "    }\n",
       "\n",
       "    .dataframe tbody tr th {\n",
       "        vertical-align: top;\n",
       "    }\n",
       "\n",
       "    .dataframe thead th {\n",
       "        text-align: right;\n",
       "    }\n",
       "</style>\n",
       "<table border=\"1\" class=\"dataframe\">\n",
       "  <thead>\n",
       "    <tr style=\"text-align: right;\">\n",
       "      <th></th>\n",
       "      <th>measurements</th>\n",
       "    </tr>\n",
       "  </thead>\n",
       "  <tbody>\n",
       "    <tr>\n",
       "      <th>2020-01-01</th>\n",
       "      <td>4</td>\n",
       "    </tr>\n",
       "    <tr>\n",
       "      <th>2020-01-02</th>\n",
       "      <td>9</td>\n",
       "    </tr>\n",
       "    <tr>\n",
       "      <th>2020-01-03</th>\n",
       "      <td>4</td>\n",
       "    </tr>\n",
       "    <tr>\n",
       "      <th>2020-01-04</th>\n",
       "      <td>4</td>\n",
       "    </tr>\n",
       "    <tr>\n",
       "      <th>2020-01-05</th>\n",
       "      <td>3</td>\n",
       "    </tr>\n",
       "  </tbody>\n",
       "</table>\n",
       "</div>"
      ],
      "text/plain": [
       "-----metadata------\n",
       "name : obs1 \n",
       "x : 0 \n",
       "y : 0 \n",
       "meta : {} \n",
       "filename :  \n",
       "\n",
       "            measurements\n",
       "2020-01-01             4\n",
       "2020-01-02             9\n",
       "2020-01-03             4\n",
       "2020-01-04             4\n",
       "2020-01-05             3"
      ]
     },
     "execution_count": 2,
     "metadata": {},
     "output_type": "execute_result"
    }
   ],
   "source": [
    "# observation 1\n",
    "df = pd.DataFrame({'measurements':np.random.randint(0,10,5)}, index=pd.date_range('2020-1-1', '2020-1-5'))\n",
    "o1 = hpd.Obs(df, name='obs1',x=0, y=0)\n",
    "o1 "
   ]
  },
  {
   "cell_type": "code",
   "execution_count": 3,
   "id": "0168dbe4-0626-4d8c-90f5-dc2b5ecb945f",
   "metadata": {},
   "outputs": [
    {
     "data": {
      "text/html": [
       "<div>\n",
       "<style scoped>\n",
       "    .dataframe tbody tr th:only-of-type {\n",
       "        vertical-align: middle;\n",
       "    }\n",
       "\n",
       "    .dataframe tbody tr th {\n",
       "        vertical-align: top;\n",
       "    }\n",
       "\n",
       "    .dataframe thead th {\n",
       "        text-align: right;\n",
       "    }\n",
       "</style>\n",
       "<table border=\"1\" class=\"dataframe\">\n",
       "  <thead>\n",
       "    <tr style=\"text-align: right;\">\n",
       "      <th></th>\n",
       "      <th>measurements</th>\n",
       "    </tr>\n",
       "  </thead>\n",
       "  <tbody>\n",
       "    <tr>\n",
       "      <th>2020-01-06</th>\n",
       "      <td>2</td>\n",
       "    </tr>\n",
       "    <tr>\n",
       "      <th>2020-01-07</th>\n",
       "      <td>2</td>\n",
       "    </tr>\n",
       "    <tr>\n",
       "      <th>2020-01-08</th>\n",
       "      <td>3</td>\n",
       "    </tr>\n",
       "    <tr>\n",
       "      <th>2020-01-09</th>\n",
       "      <td>9</td>\n",
       "    </tr>\n",
       "    <tr>\n",
       "      <th>2020-01-10</th>\n",
       "      <td>5</td>\n",
       "    </tr>\n",
       "  </tbody>\n",
       "</table>\n",
       "</div>"
      ],
      "text/plain": [
       "-----metadata------\n",
       "name : obs2 \n",
       "x : 0 \n",
       "y : 0 \n",
       "meta : {} \n",
       "filename :  \n",
       "\n",
       "            measurements\n",
       "2020-01-06             2\n",
       "2020-01-07             2\n",
       "2020-01-08             3\n",
       "2020-01-09             9\n",
       "2020-01-10             5"
      ]
     },
     "execution_count": 3,
     "metadata": {},
     "output_type": "execute_result"
    }
   ],
   "source": [
    "# observation 2\n",
    "df = pd.DataFrame({'measurements':np.random.randint(0,10,5)}, index=pd.date_range('2020-1-6', '2020-1-10'))\n",
    "o2 = hpd.Obs(df, name='obs2',x=0, y=0)\n",
    "o2"
   ]
  },
  {
   "cell_type": "code",
   "execution_count": 4,
   "id": "76dfd1a3-c854-4212-b059-645565c676d7",
   "metadata": {},
   "outputs": [
    {
     "name": "stderr",
     "output_type": "stream",
     "text": [
      "WARNING:hydropandas.observation:function 'merge_observation' not thoroughly tested, please be carefull!\n",
      "INFO:hydropandas.observation:new observation has a different time series\n",
      "INFO:hydropandas.observation:merge time series\n"
     ]
    },
    {
     "data": {
      "text/html": [
       "<div>\n",
       "<style scoped>\n",
       "    .dataframe tbody tr th:only-of-type {\n",
       "        vertical-align: middle;\n",
       "    }\n",
       "\n",
       "    .dataframe tbody tr th {\n",
       "        vertical-align: top;\n",
       "    }\n",
       "\n",
       "    .dataframe thead th {\n",
       "        text-align: right;\n",
       "    }\n",
       "</style>\n",
       "<table border=\"1\" class=\"dataframe\">\n",
       "  <thead>\n",
       "    <tr style=\"text-align: right;\">\n",
       "      <th></th>\n",
       "      <th>measurements</th>\n",
       "    </tr>\n",
       "  </thead>\n",
       "  <tbody>\n",
       "    <tr>\n",
       "      <th>2020-01-01</th>\n",
       "      <td>4</td>\n",
       "    </tr>\n",
       "    <tr>\n",
       "      <th>2020-01-02</th>\n",
       "      <td>9</td>\n",
       "    </tr>\n",
       "    <tr>\n",
       "      <th>2020-01-03</th>\n",
       "      <td>4</td>\n",
       "    </tr>\n",
       "    <tr>\n",
       "      <th>2020-01-04</th>\n",
       "      <td>4</td>\n",
       "    </tr>\n",
       "    <tr>\n",
       "      <th>2020-01-05</th>\n",
       "      <td>3</td>\n",
       "    </tr>\n",
       "    <tr>\n",
       "      <th>2020-01-06</th>\n",
       "      <td>2</td>\n",
       "    </tr>\n",
       "    <tr>\n",
       "      <th>2020-01-07</th>\n",
       "      <td>2</td>\n",
       "    </tr>\n",
       "    <tr>\n",
       "      <th>2020-01-08</th>\n",
       "      <td>3</td>\n",
       "    </tr>\n",
       "    <tr>\n",
       "      <th>2020-01-09</th>\n",
       "      <td>9</td>\n",
       "    </tr>\n",
       "    <tr>\n",
       "      <th>2020-01-10</th>\n",
       "      <td>5</td>\n",
       "    </tr>\n",
       "  </tbody>\n",
       "</table>\n",
       "</div>"
      ],
      "text/plain": [
       "-----metadata------\n",
       "name : obs1 \n",
       "x : 0 \n",
       "y : 0 \n",
       "meta : {} \n",
       "filename :  \n",
       "\n",
       "            measurements\n",
       "2020-01-01             4\n",
       "2020-01-02             9\n",
       "2020-01-03             4\n",
       "2020-01-04             4\n",
       "2020-01-05             3\n",
       "2020-01-06             2\n",
       "2020-01-07             2\n",
       "2020-01-08             3\n",
       "2020-01-09             9\n",
       "2020-01-10             5"
      ]
     },
     "execution_count": 4,
     "metadata": {},
     "output_type": "execute_result"
    }
   ],
   "source": [
    "o1.merge_observation(o2)"
   ]
  },
  {
   "cell_type": "markdown",
   "id": "28c79bd5-a098-4fa9-80ce-0375cdfdb7c8",
   "metadata": {},
   "source": [
    "## Merge options<a id=mergeoptions></a>"
   ]
  },
  {
   "cell_type": "markdown",
   "id": "6c6e5d07-9c24-4319-bc15-9fccea42d559",
   "metadata": {},
   "source": [
    "#### overlapping timeseries\n",
    "Checks if the metadata of the two Observations is the same. "
   ]
  },
  {
   "cell_type": "code",
   "execution_count": 5,
   "id": "31c5c490-b08d-4f06-a285-44f24d21dfa6",
   "metadata": {},
   "outputs": [
    {
     "data": {
      "text/html": [
       "<div>\n",
       "<style scoped>\n",
       "    .dataframe tbody tr th:only-of-type {\n",
       "        vertical-align: middle;\n",
       "    }\n",
       "\n",
       "    .dataframe tbody tr th {\n",
       "        vertical-align: top;\n",
       "    }\n",
       "\n",
       "    .dataframe thead th {\n",
       "        text-align: right;\n",
       "    }\n",
       "</style>\n",
       "<table border=\"1\" class=\"dataframe\">\n",
       "  <thead>\n",
       "    <tr style=\"text-align: right;\">\n",
       "      <th></th>\n",
       "      <th>measurements</th>\n",
       "    </tr>\n",
       "  </thead>\n",
       "  <tbody>\n",
       "    <tr>\n",
       "      <th>2020-01-01</th>\n",
       "      <td>4</td>\n",
       "    </tr>\n",
       "    <tr>\n",
       "      <th>2020-01-02</th>\n",
       "      <td>9</td>\n",
       "    </tr>\n",
       "    <tr>\n",
       "      <th>2020-01-03</th>\n",
       "      <td>4</td>\n",
       "    </tr>\n",
       "    <tr>\n",
       "      <th>2020-01-04</th>\n",
       "      <td>4</td>\n",
       "    </tr>\n",
       "    <tr>\n",
       "      <th>2020-01-05</th>\n",
       "      <td>3</td>\n",
       "    </tr>\n",
       "  </tbody>\n",
       "</table>\n",
       "</div>"
      ],
      "text/plain": [
       "-----metadata------\n",
       "name : obs1 \n",
       "x : 0 \n",
       "y : 0 \n",
       "meta : {} \n",
       "filename :  \n",
       "\n",
       "            measurements\n",
       "2020-01-01             4\n",
       "2020-01-02             9\n",
       "2020-01-03             4\n",
       "2020-01-04             4\n",
       "2020-01-05             3"
      ]
     },
     "execution_count": 5,
     "metadata": {},
     "output_type": "execute_result"
    }
   ],
   "source": [
    "o1"
   ]
  },
  {
   "cell_type": "code",
   "execution_count": 6,
   "id": "325f017e-11dc-4ac9-9a30-c51106550ef8",
   "metadata": {},
   "outputs": [
    {
     "data": {
      "text/html": [
       "<div>\n",
       "<style scoped>\n",
       "    .dataframe tbody tr th:only-of-type {\n",
       "        vertical-align: middle;\n",
       "    }\n",
       "\n",
       "    .dataframe tbody tr th {\n",
       "        vertical-align: top;\n",
       "    }\n",
       "\n",
       "    .dataframe thead th {\n",
       "        text-align: right;\n",
       "    }\n",
       "</style>\n",
       "<table border=\"1\" class=\"dataframe\">\n",
       "  <thead>\n",
       "    <tr style=\"text-align: right;\">\n",
       "      <th></th>\n",
       "      <th>measurements</th>\n",
       "    </tr>\n",
       "  </thead>\n",
       "  <tbody>\n",
       "    <tr>\n",
       "      <th>2020-01-04</th>\n",
       "      <td>4</td>\n",
       "    </tr>\n",
       "    <tr>\n",
       "      <th>2020-01-05</th>\n",
       "      <td>3</td>\n",
       "    </tr>\n",
       "    <tr>\n",
       "      <th>2020-01-06</th>\n",
       "      <td>3</td>\n",
       "    </tr>\n",
       "    <tr>\n",
       "      <th>2020-01-07</th>\n",
       "      <td>7</td>\n",
       "    </tr>\n",
       "    <tr>\n",
       "      <th>2020-01-08</th>\n",
       "      <td>6</td>\n",
       "    </tr>\n",
       "  </tbody>\n",
       "</table>\n",
       "</div>"
      ],
      "text/plain": [
       "-----metadata------\n",
       "name : obs3 \n",
       "x : 0 \n",
       "y : 0 \n",
       "meta : {} \n",
       "filename :  \n",
       "\n",
       "            measurements\n",
       "2020-01-04             4\n",
       "2020-01-05             3\n",
       "2020-01-06             3\n",
       "2020-01-07             7\n",
       "2020-01-08             6"
      ]
     },
     "execution_count": 6,
     "metadata": {},
     "output_type": "execute_result"
    }
   ],
   "source": [
    "# create a parly overlapping dataframe\n",
    "df = pd.DataFrame({'measurements':np.concatenate([o1['measurements'].values[-2:],np.random.randint(0,10,3)])}, index=pd.date_range('2020-1-4', '2020-1-8'))\n",
    "o3 = hpd.Obs(df, name='obs3', x=0, y=0)\n",
    "o3"
   ]
  },
  {
   "cell_type": "code",
   "execution_count": 7,
   "id": "031e0ac7-c243-4e8a-a2f9-970f75b4d81a",
   "metadata": {},
   "outputs": [
    {
     "name": "stderr",
     "output_type": "stream",
     "text": [
      "WARNING:hydropandas.observation:function 'merge_observation' not thoroughly tested, please be carefull!\n",
      "INFO:hydropandas.observation:new observation has a different time series\n",
      "INFO:hydropandas.observation:merge time series\n"
     ]
    },
    {
     "data": {
      "text/html": [
       "<div>\n",
       "<style scoped>\n",
       "    .dataframe tbody tr th:only-of-type {\n",
       "        vertical-align: middle;\n",
       "    }\n",
       "\n",
       "    .dataframe tbody tr th {\n",
       "        vertical-align: top;\n",
       "    }\n",
       "\n",
       "    .dataframe thead th {\n",
       "        text-align: right;\n",
       "    }\n",
       "</style>\n",
       "<table border=\"1\" class=\"dataframe\">\n",
       "  <thead>\n",
       "    <tr style=\"text-align: right;\">\n",
       "      <th></th>\n",
       "      <th>measurements</th>\n",
       "    </tr>\n",
       "  </thead>\n",
       "  <tbody>\n",
       "    <tr>\n",
       "      <th>2020-01-01</th>\n",
       "      <td>4</td>\n",
       "    </tr>\n",
       "    <tr>\n",
       "      <th>2020-01-02</th>\n",
       "      <td>9</td>\n",
       "    </tr>\n",
       "    <tr>\n",
       "      <th>2020-01-03</th>\n",
       "      <td>4</td>\n",
       "    </tr>\n",
       "    <tr>\n",
       "      <th>2020-01-04</th>\n",
       "      <td>4</td>\n",
       "    </tr>\n",
       "    <tr>\n",
       "      <th>2020-01-05</th>\n",
       "      <td>3</td>\n",
       "    </tr>\n",
       "    <tr>\n",
       "      <th>2020-01-06</th>\n",
       "      <td>3</td>\n",
       "    </tr>\n",
       "    <tr>\n",
       "      <th>2020-01-07</th>\n",
       "      <td>7</td>\n",
       "    </tr>\n",
       "    <tr>\n",
       "      <th>2020-01-08</th>\n",
       "      <td>6</td>\n",
       "    </tr>\n",
       "  </tbody>\n",
       "</table>\n",
       "</div>"
      ],
      "text/plain": [
       "-----metadata------\n",
       "name : obs1 \n",
       "x : 0 \n",
       "y : 0 \n",
       "meta : {} \n",
       "filename :  \n",
       "\n",
       "            measurements\n",
       "2020-01-01             4\n",
       "2020-01-02             9\n",
       "2020-01-03             4\n",
       "2020-01-04             4\n",
       "2020-01-05             3\n",
       "2020-01-06             3\n",
       "2020-01-07             7\n",
       "2020-01-08             6"
      ]
     },
     "execution_count": 7,
     "metadata": {},
     "output_type": "execute_result"
    }
   ],
   "source": [
    "o1.merge_observation(o3)"
   ]
  },
  {
   "cell_type": "code",
   "execution_count": 8,
   "id": "030c3baf-6aa6-4b58-8531-5a04382b4660",
   "metadata": {},
   "outputs": [
    {
     "data": {
      "text/html": [
       "<div>\n",
       "<style scoped>\n",
       "    .dataframe tbody tr th:only-of-type {\n",
       "        vertical-align: middle;\n",
       "    }\n",
       "\n",
       "    .dataframe tbody tr th {\n",
       "        vertical-align: top;\n",
       "    }\n",
       "\n",
       "    .dataframe thead th {\n",
       "        text-align: right;\n",
       "    }\n",
       "</style>\n",
       "<table border=\"1\" class=\"dataframe\">\n",
       "  <thead>\n",
       "    <tr style=\"text-align: right;\">\n",
       "      <th></th>\n",
       "      <th>measurements</th>\n",
       "    </tr>\n",
       "  </thead>\n",
       "  <tbody>\n",
       "    <tr>\n",
       "      <th>2020-01-04</th>\n",
       "      <td>0</td>\n",
       "    </tr>\n",
       "    <tr>\n",
       "      <th>2020-01-05</th>\n",
       "      <td>6</td>\n",
       "    </tr>\n",
       "    <tr>\n",
       "      <th>2020-01-06</th>\n",
       "      <td>0</td>\n",
       "    </tr>\n",
       "    <tr>\n",
       "      <th>2020-01-07</th>\n",
       "      <td>6</td>\n",
       "    </tr>\n",
       "    <tr>\n",
       "      <th>2020-01-08</th>\n",
       "      <td>9</td>\n",
       "    </tr>\n",
       "  </tbody>\n",
       "</table>\n",
       "</div>"
      ],
      "text/plain": [
       "-----metadata------\n",
       "name : obs4 \n",
       "x : 0 \n",
       "y : 0 \n",
       "meta : {} \n",
       "filename :  \n",
       "\n",
       "            measurements\n",
       "2020-01-04             0\n",
       "2020-01-05             6\n",
       "2020-01-06             0\n",
       "2020-01-07             6\n",
       "2020-01-08             9"
      ]
     },
     "execution_count": 8,
     "metadata": {},
     "output_type": "execute_result"
    }
   ],
   "source": [
    "# create a parly overlapping dataframe with different values\n",
    "df = pd.DataFrame({'measurements':np.random.randint(0,10,5)}, index=pd.date_range('2020-1-4', '2020-1-8'))\n",
    "o4 = hpd.Obs(df, name='obs4', x=0, y=0)\n",
    "o4"
   ]
  },
  {
   "cell_type": "markdown",
   "id": "55304eb8-7e21-491a-b641-ee6a6b534a38",
   "metadata": {},
   "source": [
    "by default an error is raised if the overlapping time series have different values"
   ]
  },
  {
   "cell_type": "code",
   "execution_count": 9,
   "id": "6a66ace2-3913-4b5e-8bb2-fee45d392129",
   "metadata": {},
   "outputs": [
    {
     "name": "stderr",
     "output_type": "stream",
     "text": [
      "WARNING:hydropandas.observation:function 'merge_observation' not thoroughly tested, please be carefull!\n",
      "INFO:hydropandas.observation:new observation has a different time series\n",
      "INFO:hydropandas.observation:merge time series\n",
      "WARNING:hydropandas.observation:timeseries of observation obs4 overlap with different values\n"
     ]
    },
    {
     "ename": "ValueError",
     "evalue": "observations have different values for same time steps",
     "output_type": "error",
     "traceback": [
      "\u001b[1;31m---------------------------------------------------------------------------\u001b[0m",
      "\u001b[1;31mValueError\u001b[0m                                Traceback (most recent call last)",
      "\u001b[1;32m<ipython-input-9-fb7c0e48ad44>\u001b[0m in \u001b[0;36m<module>\u001b[1;34m\u001b[0m\n\u001b[1;32m----> 1\u001b[1;33m \u001b[0mo1\u001b[0m\u001b[1;33m.\u001b[0m\u001b[0mmerge_observation\u001b[0m\u001b[1;33m(\u001b[0m\u001b[0mo4\u001b[0m\u001b[1;33m)\u001b[0m\u001b[1;33m\u001b[0m\u001b[1;33m\u001b[0m\u001b[0m\n\u001b[0m",
      "\u001b[1;32mc:\\users\\oebbe\\02_python\\hydropandas\\hydropandas\\observation.py\u001b[0m in \u001b[0;36mmerge_observation\u001b[1;34m(self, o, overlap, check_metadata)\u001b[0m\n\u001b[0;32m    305\u001b[0m                 )\n\u001b[0;32m    306\u001b[0m                 \u001b[1;32mif\u001b[0m \u001b[0moverlap\u001b[0m \u001b[1;33m==\u001b[0m \u001b[1;34m\"error\"\u001b[0m\u001b[1;33m:\u001b[0m\u001b[1;33m\u001b[0m\u001b[1;33m\u001b[0m\u001b[0m\n\u001b[1;32m--> 307\u001b[1;33m                     raise ValueError(\n\u001b[0m\u001b[0;32m    308\u001b[0m                         \u001b[1;34m\"observations have different values for same time steps\"\u001b[0m\u001b[1;33m\u001b[0m\u001b[1;33m\u001b[0m\u001b[0m\n\u001b[0;32m    309\u001b[0m                     )\n",
      "\u001b[1;31mValueError\u001b[0m: observations have different values for same time steps"
     ]
    }
   ],
   "source": [
    "o1.merge_observation(o4)"
   ]
  },
  {
   "cell_type": "markdown",
   "id": "9b01099e-3ee6-4edc-b58a-c7c63c73d563",
   "metadata": {},
   "source": [
    "With the 'overlap' argument you can specify to use the left or the right observation when merging. See example below."
   ]
  },
  {
   "cell_type": "code",
   "execution_count": 10,
   "id": "33e8f71b-94bf-4860-855f-4ae06c9008a0",
   "metadata": {},
   "outputs": [
    {
     "name": "stderr",
     "output_type": "stream",
     "text": [
      "WARNING:hydropandas.observation:function 'merge_observation' not thoroughly tested, please be carefull!\n",
      "INFO:hydropandas.observation:new observation has a different time series\n",
      "INFO:hydropandas.observation:merge time series\n",
      "WARNING:hydropandas.observation:timeseries of observation obs4 overlap with different values\n"
     ]
    },
    {
     "name": "stdout",
     "output_type": "stream",
     "text": [
      "use left\n"
     ]
    },
    {
     "data": {
      "text/html": [
       "<div>\n",
       "<style scoped>\n",
       "    .dataframe tbody tr th:only-of-type {\n",
       "        vertical-align: middle;\n",
       "    }\n",
       "\n",
       "    .dataframe tbody tr th {\n",
       "        vertical-align: top;\n",
       "    }\n",
       "\n",
       "    .dataframe thead th {\n",
       "        text-align: right;\n",
       "    }\n",
       "</style>\n",
       "<table border=\"1\" class=\"dataframe\">\n",
       "  <thead>\n",
       "    <tr style=\"text-align: right;\">\n",
       "      <th></th>\n",
       "      <th>measurements</th>\n",
       "    </tr>\n",
       "  </thead>\n",
       "  <tbody>\n",
       "    <tr>\n",
       "      <th>2020-01-01</th>\n",
       "      <td>4</td>\n",
       "    </tr>\n",
       "    <tr>\n",
       "      <th>2020-01-02</th>\n",
       "      <td>9</td>\n",
       "    </tr>\n",
       "    <tr>\n",
       "      <th>2020-01-03</th>\n",
       "      <td>4</td>\n",
       "    </tr>\n",
       "    <tr>\n",
       "      <th>2020-01-04</th>\n",
       "      <td>4</td>\n",
       "    </tr>\n",
       "    <tr>\n",
       "      <th>2020-01-05</th>\n",
       "      <td>3</td>\n",
       "    </tr>\n",
       "    <tr>\n",
       "      <th>2020-01-06</th>\n",
       "      <td>0</td>\n",
       "    </tr>\n",
       "    <tr>\n",
       "      <th>2020-01-07</th>\n",
       "      <td>6</td>\n",
       "    </tr>\n",
       "    <tr>\n",
       "      <th>2020-01-08</th>\n",
       "      <td>9</td>\n",
       "    </tr>\n",
       "  </tbody>\n",
       "</table>\n",
       "</div>"
      ],
      "text/plain": [
       "-----metadata------\n",
       "name : obs1 \n",
       "x : 0 \n",
       "y : 0 \n",
       "meta : {} \n",
       "filename :  \n",
       "\n",
       "            measurements\n",
       "2020-01-01             4\n",
       "2020-01-02             9\n",
       "2020-01-03             4\n",
       "2020-01-04             4\n",
       "2020-01-05             3\n",
       "2020-01-06             0\n",
       "2020-01-07             6\n",
       "2020-01-08             9"
      ]
     },
     "metadata": {},
     "output_type": "display_data"
    },
    {
     "name": "stderr",
     "output_type": "stream",
     "text": [
      "WARNING:hydropandas.observation:function 'merge_observation' not thoroughly tested, please be carefull!\n",
      "INFO:hydropandas.observation:new observation has a different time series\n",
      "INFO:hydropandas.observation:merge time series\n",
      "WARNING:hydropandas.observation:timeseries of observation obs4 overlap with different values\n"
     ]
    },
    {
     "name": "stdout",
     "output_type": "stream",
     "text": [
      "use right\n"
     ]
    },
    {
     "data": {
      "text/html": [
       "<div>\n",
       "<style scoped>\n",
       "    .dataframe tbody tr th:only-of-type {\n",
       "        vertical-align: middle;\n",
       "    }\n",
       "\n",
       "    .dataframe tbody tr th {\n",
       "        vertical-align: top;\n",
       "    }\n",
       "\n",
       "    .dataframe thead th {\n",
       "        text-align: right;\n",
       "    }\n",
       "</style>\n",
       "<table border=\"1\" class=\"dataframe\">\n",
       "  <thead>\n",
       "    <tr style=\"text-align: right;\">\n",
       "      <th></th>\n",
       "      <th>measurements</th>\n",
       "    </tr>\n",
       "  </thead>\n",
       "  <tbody>\n",
       "    <tr>\n",
       "      <th>2020-01-01</th>\n",
       "      <td>4</td>\n",
       "    </tr>\n",
       "    <tr>\n",
       "      <th>2020-01-02</th>\n",
       "      <td>9</td>\n",
       "    </tr>\n",
       "    <tr>\n",
       "      <th>2020-01-03</th>\n",
       "      <td>4</td>\n",
       "    </tr>\n",
       "    <tr>\n",
       "      <th>2020-01-04</th>\n",
       "      <td>0</td>\n",
       "    </tr>\n",
       "    <tr>\n",
       "      <th>2020-01-05</th>\n",
       "      <td>6</td>\n",
       "    </tr>\n",
       "    <tr>\n",
       "      <th>2020-01-06</th>\n",
       "      <td>0</td>\n",
       "    </tr>\n",
       "    <tr>\n",
       "      <th>2020-01-07</th>\n",
       "      <td>6</td>\n",
       "    </tr>\n",
       "    <tr>\n",
       "      <th>2020-01-08</th>\n",
       "      <td>9</td>\n",
       "    </tr>\n",
       "  </tbody>\n",
       "</table>\n",
       "</div>"
      ],
      "text/plain": [
       "-----metadata------\n",
       "name : obs1 \n",
       "x : 0 \n",
       "y : 0 \n",
       "meta : {} \n",
       "filename :  \n",
       "\n",
       "            measurements\n",
       "2020-01-01             4\n",
       "2020-01-02             9\n",
       "2020-01-03             4\n",
       "2020-01-04             0\n",
       "2020-01-05             6\n",
       "2020-01-06             0\n",
       "2020-01-07             6\n",
       "2020-01-08             9"
      ]
     },
     "metadata": {},
     "output_type": "display_data"
    }
   ],
   "source": [
    "print('use left')\n",
    "display(o1.merge_observation(o4, overlap='use_left')) # use the existing observation\n",
    "print('use right')\n",
    "display(o1.merge_observation(o4, overlap='use_right')) # use the existing observation\n"
   ]
  },
  {
   "cell_type": "markdown",
   "id": "a0943b56-c220-43ab-816f-0397022ebbe9",
   "metadata": {},
   "source": [
    "#### overlapping metadata\n",
    "Checks if the metadata of the two Observations is the same. "
   ]
  },
  {
   "cell_type": "code",
   "execution_count": 11,
   "id": "1df105da-8eaa-4496-ab71-7200c8df8b38",
   "metadata": {},
   "outputs": [
    {
     "name": "stderr",
     "output_type": "stream",
     "text": [
      "WARNING:hydropandas.observation:function 'merge_observation' not thoroughly tested, please be carefull!\n"
     ]
    },
    {
     "ename": "ValueError",
     "evalue": "existing observation name differs from new observation",
     "output_type": "error",
     "traceback": [
      "\u001b[1;31m---------------------------------------------------------------------------\u001b[0m",
      "\u001b[1;31mValueError\u001b[0m                                Traceback (most recent call last)",
      "\u001b[1;32m<ipython-input-11-e1bd7cd84b77>\u001b[0m in \u001b[0;36m<module>\u001b[1;34m\u001b[0m\n\u001b[1;32m----> 1\u001b[1;33m \u001b[0mo1\u001b[0m\u001b[1;33m.\u001b[0m\u001b[0mmerge_observation\u001b[0m\u001b[1;33m(\u001b[0m\u001b[0mo2\u001b[0m\u001b[1;33m,\u001b[0m \u001b[0mcheck_metadata\u001b[0m\u001b[1;33m=\u001b[0m\u001b[1;32mTrue\u001b[0m\u001b[1;33m)\u001b[0m\u001b[1;33m\u001b[0m\u001b[1;33m\u001b[0m\u001b[0m\n\u001b[0m",
      "\u001b[1;32mc:\\users\\oebbe\\02_python\\hydropandas\\hydropandas\\observation.py\u001b[0m in \u001b[0;36mmerge_observation\u001b[1;34m(self, o, overlap, check_metadata)\u001b[0m\n\u001b[0;32m    247\u001b[0m                         \u001b[0msame_metadata\u001b[0m \u001b[1;33m=\u001b[0m \u001b[1;32mFalse\u001b[0m\u001b[1;33m\u001b[0m\u001b[1;33m\u001b[0m\u001b[0m\n\u001b[0;32m    248\u001b[0m                         \u001b[1;32mif\u001b[0m \u001b[0moverlap\u001b[0m \u001b[1;33m==\u001b[0m \u001b[1;34m\"error\"\u001b[0m\u001b[1;33m:\u001b[0m\u001b[1;33m\u001b[0m\u001b[1;33m\u001b[0m\u001b[0m\n\u001b[1;32m--> 249\u001b[1;33m                             raise ValueError(\n\u001b[0m\u001b[0;32m    250\u001b[0m                             \u001b[1;34mf\"existing observation {key} differs from new observation\"\u001b[0m\u001b[1;33m\u001b[0m\u001b[1;33m\u001b[0m\u001b[0m\n\u001b[0;32m    251\u001b[0m                         )\n",
      "\u001b[1;31mValueError\u001b[0m: existing observation name differs from new observation"
     ]
    }
   ],
   "source": [
    "o1.merge_observation(o2, check_metadata=True)"
   ]
  },
  {
   "cell_type": "markdown",
   "id": "949b694b-fdf8-4727-aa9c-696e4bf05181",
   "metadata": {},
   "source": [
    "Just as with overlapping timeseries, the 'overlap' argument can also be used for overlapping metadata values"
   ]
  },
  {
   "cell_type": "code",
   "execution_count": 12,
   "id": "2c682b29-f8e9-47dd-99d0-2d2743d50fe4",
   "metadata": {},
   "outputs": [
    {
     "name": "stderr",
     "output_type": "stream",
     "text": [
      "WARNING:hydropandas.observation:function 'merge_observation' not thoroughly tested, please be carefull!\n",
      "INFO:hydropandas.observation:existing observation name differs from new observation, use existing\n",
      "INFO:hydropandas.observation:new observation has a different time series\n",
      "INFO:hydropandas.observation:merge time series\n",
      "WARNING:hydropandas.observation:function 'merge_observation' not thoroughly tested, please be carefull!\n",
      "INFO:hydropandas.observation:existing observation name differs from new observation, use new\n",
      "INFO:hydropandas.observation:new observation has a different time series\n",
      "INFO:hydropandas.observation:merge time series\n"
     ]
    },
    {
     "name": "stdout",
     "output_type": "stream",
     "text": [
      "observation name when overlap = \"use_left\": obs1\n",
      "oobservation name when overlap = \"use_right\": obs2\n"
     ]
    }
   ],
   "source": [
    "o_merged = o1.merge_observation(o2, overlap='use_left', check_metadata=True)\n",
    "print('observation name when overlap = \"use_left\":', o_merged.name)\n",
    "o_merged = o1.merge_observation(o2, overlap='use_right', check_metadata=True)\n",
    "print('oobservation name when overlap = \"use_right\":', o_merged.name)"
   ]
  },
  {
   "cell_type": "markdown",
   "id": "9a8c58fe-8cda-405c-8d90-f54a6c8af296",
   "metadata": {},
   "source": [
    "#### all combinations"
   ]
  },
  {
   "cell_type": "code",
   "execution_count": 24,
   "id": "4b463ad6-1244-4e5e-b373-e371b78372a4",
   "metadata": {},
   "outputs": [
    {
     "data": {
      "text/html": [
       "<div>\n",
       "<style scoped>\n",
       "    .dataframe tbody tr th:only-of-type {\n",
       "        vertical-align: middle;\n",
       "    }\n",
       "\n",
       "    .dataframe tbody tr th {\n",
       "        vertical-align: top;\n",
       "    }\n",
       "\n",
       "    .dataframe thead th {\n",
       "        text-align: right;\n",
       "    }\n",
       "</style>\n",
       "<table border=\"1\" class=\"dataframe\">\n",
       "  <thead>\n",
       "    <tr style=\"text-align: right;\">\n",
       "      <th></th>\n",
       "      <th>measurements</th>\n",
       "      <th>filter</th>\n",
       "    </tr>\n",
       "  </thead>\n",
       "  <tbody>\n",
       "    <tr>\n",
       "      <th>2020-01-01</th>\n",
       "      <td>9</td>\n",
       "      <td>1.0</td>\n",
       "    </tr>\n",
       "    <tr>\n",
       "      <th>2020-01-02</th>\n",
       "      <td>8</td>\n",
       "      <td>1.0</td>\n",
       "    </tr>\n",
       "    <tr>\n",
       "      <th>2020-01-03</th>\n",
       "      <td>4</td>\n",
       "      <td>1.0</td>\n",
       "    </tr>\n",
       "    <tr>\n",
       "      <th>2020-01-04</th>\n",
       "      <td>5</td>\n",
       "      <td>1.0</td>\n",
       "    </tr>\n",
       "    <tr>\n",
       "      <th>2020-01-05</th>\n",
       "      <td>3</td>\n",
       "      <td>1.0</td>\n",
       "    </tr>\n",
       "  </tbody>\n",
       "</table>\n",
       "</div>"
      ],
      "text/plain": [
       "-----metadata------\n",
       "name : obs5 \n",
       "x : 100 \n",
       "y : 0 \n",
       "meta : {} \n",
       "filename :  \n",
       "\n",
       "            measurements  filter\n",
       "2020-01-01             9     1.0\n",
       "2020-01-02             8     1.0\n",
       "2020-01-03             4     1.0\n",
       "2020-01-04             5     1.0\n",
       "2020-01-05             3     1.0"
      ]
     },
     "execution_count": 24,
     "metadata": {},
     "output_type": "execute_result"
    }
   ],
   "source": [
    "# observation 5\n",
    "df = pd.DataFrame({'measurements':np.random.randint(0,10,5),\n",
    "                   'filter':np.ones(5)}, index=pd.date_range('2020-1-1', '2020-1-5'))\n",
    "o5 = hpd.Obs(df, name='obs5',x=100, y=0)\n",
    "o5"
   ]
  },
  {
   "cell_type": "code",
   "execution_count": 25,
   "id": "6195ecba-c617-4fb5-9591-87eba9f436fa",
   "metadata": {},
   "outputs": [
    {
     "data": {
      "text/html": [
       "<div>\n",
       "<style scoped>\n",
       "    .dataframe tbody tr th:only-of-type {\n",
       "        vertical-align: middle;\n",
       "    }\n",
       "\n",
       "    .dataframe tbody tr th {\n",
       "        vertical-align: top;\n",
       "    }\n",
       "\n",
       "    .dataframe thead th {\n",
       "        text-align: right;\n",
       "    }\n",
       "</style>\n",
       "<table border=\"1\" class=\"dataframe\">\n",
       "  <thead>\n",
       "    <tr style=\"text-align: right;\">\n",
       "      <th></th>\n",
       "      <th>measurements</th>\n",
       "      <th>remarks</th>\n",
       "    </tr>\n",
       "  </thead>\n",
       "  <tbody>\n",
       "    <tr>\n",
       "      <th>2020-01-04</th>\n",
       "      <td>3</td>\n",
       "      <td></td>\n",
       "    </tr>\n",
       "    <tr>\n",
       "      <th>2020-01-05</th>\n",
       "      <td>5</td>\n",
       "      <td></td>\n",
       "    </tr>\n",
       "    <tr>\n",
       "      <th>2020-01-06</th>\n",
       "      <td>7</td>\n",
       "      <td></td>\n",
       "    </tr>\n",
       "    <tr>\n",
       "      <th>2020-01-07</th>\n",
       "      <td>9</td>\n",
       "      <td>unreliable</td>\n",
       "    </tr>\n",
       "    <tr>\n",
       "      <th>2020-01-08</th>\n",
       "      <td>5</td>\n",
       "      <td></td>\n",
       "    </tr>\n",
       "  </tbody>\n",
       "</table>\n",
       "</div>"
      ],
      "text/plain": [
       "-----metadata------\n",
       "name : obs6 \n",
       "x : 0 \n",
       "y : 100 \n",
       "meta : {} \n",
       "filename :  \n",
       "\n",
       "            measurements     remarks\n",
       "2020-01-04             3            \n",
       "2020-01-05             5            \n",
       "2020-01-06             7            \n",
       "2020-01-07             9  unreliable\n",
       "2020-01-08             5            "
      ]
     },
     "execution_count": 25,
     "metadata": {},
     "output_type": "execute_result"
    }
   ],
   "source": [
    "# observation 6\n",
    "df = pd.DataFrame({'measurements':np.concatenate([o5['measurements'].values[-1:],np.random.randint(0,10,4)]),\n",
    "                   'remarks':['', '', '', 'unreliable', '']}, index=pd.date_range('2020-1-4', '2020-1-8'))\n",
    "o6 = hpd.Obs(df, name='obs6',x=0, y=100)\n",
    "o6"
   ]
  },
  {
   "cell_type": "code",
   "execution_count": 30,
   "id": "532a9e5c-a3ee-491e-bb2d-14fdde076642",
   "metadata": {},
   "outputs": [
    {
     "data": {
      "text/html": [
       "<div>\n",
       "<style scoped>\n",
       "    .dataframe tbody tr th:only-of-type {\n",
       "        vertical-align: middle;\n",
       "    }\n",
       "\n",
       "    .dataframe tbody tr th {\n",
       "        vertical-align: top;\n",
       "    }\n",
       "\n",
       "    .dataframe thead th {\n",
       "        text-align: right;\n",
       "    }\n",
       "</style>\n",
       "<table border=\"1\" class=\"dataframe\">\n",
       "  <thead>\n",
       "    <tr style=\"text-align: right;\">\n",
       "      <th></th>\n",
       "      <th>measurements</th>\n",
       "      <th>filter</th>\n",
       "      <th>measurements</th>\n",
       "      <th>remarks</th>\n",
       "    </tr>\n",
       "  </thead>\n",
       "  <tbody>\n",
       "    <tr>\n",
       "      <th>2020-01-01</th>\n",
       "      <td>9.0</td>\n",
       "      <td>1.0</td>\n",
       "      <td>NaN</td>\n",
       "      <td>NaN</td>\n",
       "    </tr>\n",
       "    <tr>\n",
       "      <th>2020-01-02</th>\n",
       "      <td>8.0</td>\n",
       "      <td>1.0</td>\n",
       "      <td>NaN</td>\n",
       "      <td>NaN</td>\n",
       "    </tr>\n",
       "    <tr>\n",
       "      <th>2020-01-03</th>\n",
       "      <td>4.0</td>\n",
       "      <td>1.0</td>\n",
       "      <td>NaN</td>\n",
       "      <td>NaN</td>\n",
       "    </tr>\n",
       "    <tr>\n",
       "      <th>2020-01-04</th>\n",
       "      <td>5.0</td>\n",
       "      <td>1.0</td>\n",
       "      <td>3.0</td>\n",
       "      <td></td>\n",
       "    </tr>\n",
       "    <tr>\n",
       "      <th>2020-01-05</th>\n",
       "      <td>3.0</td>\n",
       "      <td>1.0</td>\n",
       "      <td>5.0</td>\n",
       "      <td></td>\n",
       "    </tr>\n",
       "    <tr>\n",
       "      <th>2020-01-06</th>\n",
       "      <td>NaN</td>\n",
       "      <td>NaN</td>\n",
       "      <td>7.0</td>\n",
       "      <td></td>\n",
       "    </tr>\n",
       "    <tr>\n",
       "      <th>2020-01-07</th>\n",
       "      <td>NaN</td>\n",
       "      <td>NaN</td>\n",
       "      <td>9.0</td>\n",
       "      <td>unreliable</td>\n",
       "    </tr>\n",
       "    <tr>\n",
       "      <th>2020-01-08</th>\n",
       "      <td>NaN</td>\n",
       "      <td>NaN</td>\n",
       "      <td>5.0</td>\n",
       "      <td></td>\n",
       "    </tr>\n",
       "  </tbody>\n",
       "</table>\n",
       "</div>"
      ],
      "text/plain": [
       "-----metadata------\n",
       "name :  \n",
       "x : nan \n",
       "y : nan \n",
       "meta : {} \n",
       "filename :  \n",
       "\n",
       "            measurements  filter  measurements     remarks\n",
       "2020-01-01           9.0     1.0           NaN         NaN\n",
       "2020-01-02           8.0     1.0           NaN         NaN\n",
       "2020-01-03           4.0     1.0           NaN         NaN\n",
       "2020-01-04           5.0     1.0           3.0            \n",
       "2020-01-05           3.0     1.0           5.0            \n",
       "2020-01-06           NaN     NaN           7.0            \n",
       "2020-01-07           NaN     NaN           9.0  unreliable\n",
       "2020-01-08           NaN     NaN           5.0            "
      ]
     },
     "execution_count": 30,
     "metadata": {},
     "output_type": "execute_result"
    }
   ],
   "source": [
    "pd.concat([o5,o6], axis=1)"
   ]
  },
  {
   "cell_type": "code",
   "execution_count": 28,
   "id": "d7197658-c159-4322-aeac-ff294d5afc24",
   "metadata": {},
   "outputs": [
    {
     "name": "stderr",
     "output_type": "stream",
     "text": [
      "WARNING:hydropandas.observation:function 'merge_observation' not thoroughly tested, please be carefull!\n",
      "INFO:hydropandas.observation:new observation has a different time series\n",
      "INFO:hydropandas.observation:merge time series\n",
      "WARNING:hydropandas.observation:timeseries of observation obs6 overlap with different values\n"
     ]
    },
    {
     "data": {
      "text/html": [
       "<div>\n",
       "<style scoped>\n",
       "    .dataframe tbody tr th:only-of-type {\n",
       "        vertical-align: middle;\n",
       "    }\n",
       "\n",
       "    .dataframe tbody tr th {\n",
       "        vertical-align: top;\n",
       "    }\n",
       "\n",
       "    .dataframe thead th {\n",
       "        text-align: right;\n",
       "    }\n",
       "</style>\n",
       "<table border=\"1\" class=\"dataframe\">\n",
       "  <thead>\n",
       "    <tr style=\"text-align: right;\">\n",
       "      <th></th>\n",
       "      <th>measurements</th>\n",
       "      <th>remarks</th>\n",
       "      <th>filter</th>\n",
       "    </tr>\n",
       "  </thead>\n",
       "  <tbody>\n",
       "    <tr>\n",
       "      <th>2020-01-01</th>\n",
       "      <td>9</td>\n",
       "      <td>NaN</td>\n",
       "      <td>1.0</td>\n",
       "    </tr>\n",
       "    <tr>\n",
       "      <th>2020-01-02</th>\n",
       "      <td>8</td>\n",
       "      <td>NaN</td>\n",
       "      <td>1.0</td>\n",
       "    </tr>\n",
       "    <tr>\n",
       "      <th>2020-01-03</th>\n",
       "      <td>4</td>\n",
       "      <td>NaN</td>\n",
       "      <td>1.0</td>\n",
       "    </tr>\n",
       "    <tr>\n",
       "      <th>2020-01-04</th>\n",
       "      <td>3</td>\n",
       "      <td></td>\n",
       "      <td>1.0</td>\n",
       "    </tr>\n",
       "    <tr>\n",
       "      <th>2020-01-05</th>\n",
       "      <td>5</td>\n",
       "      <td></td>\n",
       "      <td>1.0</td>\n",
       "    </tr>\n",
       "    <tr>\n",
       "      <th>2020-01-06</th>\n",
       "      <td>7</td>\n",
       "      <td></td>\n",
       "      <td>NaN</td>\n",
       "    </tr>\n",
       "    <tr>\n",
       "      <th>2020-01-07</th>\n",
       "      <td>9</td>\n",
       "      <td>unreliable</td>\n",
       "      <td>NaN</td>\n",
       "    </tr>\n",
       "    <tr>\n",
       "      <th>2020-01-08</th>\n",
       "      <td>5</td>\n",
       "      <td></td>\n",
       "      <td>NaN</td>\n",
       "    </tr>\n",
       "  </tbody>\n",
       "</table>\n",
       "</div>"
      ],
      "text/plain": [
       "-----metadata------\n",
       "name : obs5 \n",
       "x : 100 \n",
       "y : 0 \n",
       "meta : {} \n",
       "filename :  \n",
       "\n",
       "            measurements     remarks  filter\n",
       "2020-01-01             9         NaN     1.0\n",
       "2020-01-02             8         NaN     1.0\n",
       "2020-01-03             4         NaN     1.0\n",
       "2020-01-04             3                 1.0\n",
       "2020-01-05             5                 1.0\n",
       "2020-01-06             7                 NaN\n",
       "2020-01-07             9  unreliable     NaN\n",
       "2020-01-08             5                 NaN"
      ]
     },
     "execution_count": 28,
     "metadata": {},
     "output_type": "execute_result"
    }
   ],
   "source": [
    "o5.merge_observation(o6, overlap='use_right')"
   ]
  },
  {
   "cell_type": "markdown",
   "id": "99d89e46-eb4f-4141-b992-c107ddbd005f",
   "metadata": {},
   "source": [
    "## Merge observation collections<a id=mergeoc></a>"
   ]
  },
  {
   "cell_type": "code",
   "execution_count": null,
   "id": "98c10114-c5c9-4850-939f-5902136f6de5",
   "metadata": {},
   "outputs": [],
   "source": []
  }
 ],
 "metadata": {
  "kernelspec": {
   "display_name": "Python 3",
   "language": "python",
   "name": "python3"
  },
  "language_info": {
   "codemirror_mode": {
    "name": "ipython",
    "version": 3
   },
   "file_extension": ".py",
   "mimetype": "text/x-python",
   "name": "python",
   "nbconvert_exporter": "python",
   "pygments_lexer": "ipython3",
   "version": "3.9.4"
  }
 },
 "nbformat": 4,
 "nbformat_minor": 5
}
