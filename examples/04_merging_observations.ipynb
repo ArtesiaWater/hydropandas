{
 "cells": [
  {
   "cell_type": "markdown",
   "id": "2a9fdc08-df41-4c51-a532-2f027f091b4c",
   "metadata": {},
   "source": [
    "# Merging observations\n",
    "\n",
    "This notebook shows how observations and observation collections can be merged."
   ]
  },
  {
   "cell_type": "markdown",
   "id": "a492a415-f76d-45e7-8c9a-8f9755bbc67e",
   "metadata": {},
   "source": [
    "## <a id=top></a>Notebook contents\n",
    "\n",
    "1. [Simple merge](#simplemerge)\n",
    "2. [Merge options](#mergeoptions)\n",
    "3. [Merging observation collections](#mergeoc)"
   ]
  },
  {
   "cell_type": "code",
   "execution_count": 1,
   "id": "88fe6a26-3b0b-4635-a59d-a002e5400021",
   "metadata": {},
   "outputs": [],
   "source": [
    "import numpy as np\n",
    "import pandas as pd\n",
    "import hydropandas as hpd\n",
    "from IPython.display import display\n",
    "\n",
    "import logging\n",
    "hpd.util.get_color_logger('INFO');"
   ]
  },
  {
   "cell_type": "markdown",
   "id": "fdf35f59-1fc6-47b1-97a8-0469f52deccf",
   "metadata": {},
   "source": [
    "## Simple merge<a id=simplemerge></a>"
   ]
  },
  {
   "cell_type": "code",
   "execution_count": 2,
   "id": "787ff5cc-a503-4160-b4df-146cfb24de54",
   "metadata": {},
   "outputs": [
    {
     "data": {
      "text/html": [
       "<div>\n",
       "<style scoped>\n",
       "    .dataframe tbody tr th:only-of-type {\n",
       "        vertical-align: middle;\n",
       "    }\n",
       "\n",
       "    .dataframe tbody tr th {\n",
       "        vertical-align: top;\n",
       "    }\n",
       "\n",
       "    .dataframe thead th {\n",
       "        text-align: right;\n",
       "    }\n",
       "</style>\n",
       "<table border=\"1\" class=\"dataframe\">\n",
       "  <thead>\n",
       "    <tr style=\"text-align: right;\">\n",
       "      <th></th>\n",
       "      <th>measurements</th>\n",
       "    </tr>\n",
       "  </thead>\n",
       "  <tbody>\n",
       "    <tr>\n",
       "      <th>2020-01-01</th>\n",
       "      <td>8</td>\n",
       "    </tr>\n",
       "    <tr>\n",
       "      <th>2020-01-02</th>\n",
       "      <td>3</td>\n",
       "    </tr>\n",
       "    <tr>\n",
       "      <th>2020-01-03</th>\n",
       "      <td>6</td>\n",
       "    </tr>\n",
       "    <tr>\n",
       "      <th>2020-01-04</th>\n",
       "      <td>7</td>\n",
       "    </tr>\n",
       "    <tr>\n",
       "      <th>2020-01-05</th>\n",
       "      <td>3</td>\n",
       "    </tr>\n",
       "  </tbody>\n",
       "</table>\n",
       "</div>"
      ],
      "text/plain": [
       "Obs obs\n",
       "-----metadata------\n",
       "name : obs \n",
       "x : 0 \n",
       "y : 0 \n",
       "filename :  \n",
       "source :  \n",
       "unit :  \n",
       "\n",
       "-----time series------\n",
       "            measurements\n",
       "2020-01-01             8\n",
       "2020-01-02             3\n",
       "2020-01-03             6\n",
       "2020-01-04             7\n",
       "2020-01-05             3"
      ]
     },
     "execution_count": 2,
     "metadata": {},
     "output_type": "execute_result"
    }
   ],
   "source": [
    "# observation 1\n",
    "df = pd.DataFrame({'measurements':np.random.randint(0,10,5)}, index=pd.date_range('2020-1-1', '2020-1-5'))\n",
    "o1 = hpd.Obs(df, name='obs',x=0, y=0)\n",
    "o1 "
   ]
  },
  {
   "cell_type": "code",
   "execution_count": 3,
   "id": "0168dbe4-0626-4d8c-90f5-dc2b5ecb945f",
   "metadata": {},
   "outputs": [
    {
     "data": {
      "text/html": [
       "<div>\n",
       "<style scoped>\n",
       "    .dataframe tbody tr th:only-of-type {\n",
       "        vertical-align: middle;\n",
       "    }\n",
       "\n",
       "    .dataframe tbody tr th {\n",
       "        vertical-align: top;\n",
       "    }\n",
       "\n",
       "    .dataframe thead th {\n",
       "        text-align: right;\n",
       "    }\n",
       "</style>\n",
       "<table border=\"1\" class=\"dataframe\">\n",
       "  <thead>\n",
       "    <tr style=\"text-align: right;\">\n",
       "      <th></th>\n",
       "      <th>measurements</th>\n",
       "    </tr>\n",
       "  </thead>\n",
       "  <tbody>\n",
       "    <tr>\n",
       "      <th>2020-01-06</th>\n",
       "      <td>0</td>\n",
       "    </tr>\n",
       "    <tr>\n",
       "      <th>2020-01-07</th>\n",
       "      <td>1</td>\n",
       "    </tr>\n",
       "    <tr>\n",
       "      <th>2020-01-08</th>\n",
       "      <td>9</td>\n",
       "    </tr>\n",
       "    <tr>\n",
       "      <th>2020-01-09</th>\n",
       "      <td>3</td>\n",
       "    </tr>\n",
       "    <tr>\n",
       "      <th>2020-01-10</th>\n",
       "      <td>0</td>\n",
       "    </tr>\n",
       "  </tbody>\n",
       "</table>\n",
       "</div>"
      ],
      "text/plain": [
       "Obs obs\n",
       "-----metadata------\n",
       "name : obs \n",
       "x : 0 \n",
       "y : 0 \n",
       "filename :  \n",
       "source :  \n",
       "unit :  \n",
       "\n",
       "-----time series------\n",
       "            measurements\n",
       "2020-01-06             0\n",
       "2020-01-07             1\n",
       "2020-01-08             9\n",
       "2020-01-09             3\n",
       "2020-01-10             0"
      ]
     },
     "execution_count": 3,
     "metadata": {},
     "output_type": "execute_result"
    }
   ],
   "source": [
    "# observation 2\n",
    "df = pd.DataFrame({'measurements':np.random.randint(0,10,5)}, index=pd.date_range('2020-1-6', '2020-1-10'))\n",
    "o2 = hpd.Obs(df, name='obs',x=0, y=0)\n",
    "o2"
   ]
  },
  {
   "cell_type": "code",
   "execution_count": 4,
   "id": "76dfd1a3-c854-4212-b059-645565c676d7",
   "metadata": {},
   "outputs": [
    {
     "name": "stdout",
     "output_type": "stream",
     "text": [
      "\u001b[33mWARNING:hydropandas.observation:function 'merge_observation' not thoroughly tested, please be carefull!\u001b[0m\n",
      "\u001b[32mINFO:hydropandas.observation:new observation has a different time series\u001b[0m\n",
      "\u001b[32mINFO:hydropandas.observation:merge time series\u001b[0m\n",
      "\u001b[32mINFO:hydropandas.observation:new and existing observation have the same metadata\u001b[0m\n"
     ]
    },
    {
     "data": {
      "text/html": [
       "<div>\n",
       "<style scoped>\n",
       "    .dataframe tbody tr th:only-of-type {\n",
       "        vertical-align: middle;\n",
       "    }\n",
       "\n",
       "    .dataframe tbody tr th {\n",
       "        vertical-align: top;\n",
       "    }\n",
       "\n",
       "    .dataframe thead th {\n",
       "        text-align: right;\n",
       "    }\n",
       "</style>\n",
       "<table border=\"1\" class=\"dataframe\">\n",
       "  <thead>\n",
       "    <tr style=\"text-align: right;\">\n",
       "      <th></th>\n",
       "      <th>measurements</th>\n",
       "    </tr>\n",
       "  </thead>\n",
       "  <tbody>\n",
       "    <tr>\n",
       "      <th>2020-01-01</th>\n",
       "      <td>8</td>\n",
       "    </tr>\n",
       "    <tr>\n",
       "      <th>2020-01-02</th>\n",
       "      <td>3</td>\n",
       "    </tr>\n",
       "    <tr>\n",
       "      <th>2020-01-03</th>\n",
       "      <td>6</td>\n",
       "    </tr>\n",
       "    <tr>\n",
       "      <th>2020-01-04</th>\n",
       "      <td>7</td>\n",
       "    </tr>\n",
       "    <tr>\n",
       "      <th>2020-01-05</th>\n",
       "      <td>3</td>\n",
       "    </tr>\n",
       "    <tr>\n",
       "      <th>2020-01-06</th>\n",
       "      <td>0</td>\n",
       "    </tr>\n",
       "    <tr>\n",
       "      <th>2020-01-07</th>\n",
       "      <td>1</td>\n",
       "    </tr>\n",
       "    <tr>\n",
       "      <th>2020-01-08</th>\n",
       "      <td>9</td>\n",
       "    </tr>\n",
       "    <tr>\n",
       "      <th>2020-01-09</th>\n",
       "      <td>3</td>\n",
       "    </tr>\n",
       "    <tr>\n",
       "      <th>2020-01-10</th>\n",
       "      <td>0</td>\n",
       "    </tr>\n",
       "  </tbody>\n",
       "</table>\n",
       "</div>"
      ],
      "text/plain": [
       "Obs obs\n",
       "-----metadata------\n",
       "name : obs \n",
       "x : 0 \n",
       "y : 0 \n",
       "filename :  \n",
       "source :  \n",
       "unit :  \n",
       "\n",
       "-----time series------\n",
       "            measurements\n",
       "2020-01-01             8\n",
       "2020-01-02             3\n",
       "2020-01-03             6\n",
       "2020-01-04             7\n",
       "2020-01-05             3\n",
       "2020-01-06             0\n",
       "2020-01-07             1\n",
       "2020-01-08             9\n",
       "2020-01-09             3\n",
       "2020-01-10             0"
      ]
     },
     "execution_count": 4,
     "metadata": {},
     "output_type": "execute_result"
    }
   ],
   "source": [
    "o1.merge_observation(o2)\n"
   ]
  },
  {
   "cell_type": "markdown",
   "id": "28c79bd5-a098-4fa9-80ce-0375cdfdb7c8",
   "metadata": {},
   "source": [
    "## Merge options<a id=mergeoptions></a>"
   ]
  },
  {
   "cell_type": "markdown",
   "id": "eadfeee9-1c68-4f9d-bf98-d2f6372e2b85",
   "metadata": {},
   "source": [
    "#### overlapping timeseries"
   ]
  },
  {
   "cell_type": "code",
   "execution_count": 5,
   "id": "325f017e-11dc-4ac9-9a30-c51106550ef8",
   "metadata": {},
   "outputs": [
    {
     "data": {
      "text/html": [
       "<div>\n",
       "<style scoped>\n",
       "    .dataframe tbody tr th:only-of-type {\n",
       "        vertical-align: middle;\n",
       "    }\n",
       "\n",
       "    .dataframe tbody tr th {\n",
       "        vertical-align: top;\n",
       "    }\n",
       "\n",
       "    .dataframe thead th {\n",
       "        text-align: right;\n",
       "    }\n",
       "</style>\n",
       "<table border=\"1\" class=\"dataframe\">\n",
       "  <thead>\n",
       "    <tr style=\"text-align: right;\">\n",
       "      <th></th>\n",
       "      <th>measurements</th>\n",
       "    </tr>\n",
       "  </thead>\n",
       "  <tbody>\n",
       "    <tr>\n",
       "      <th>2020-01-04</th>\n",
       "      <td>7</td>\n",
       "    </tr>\n",
       "    <tr>\n",
       "      <th>2020-01-05</th>\n",
       "      <td>3</td>\n",
       "    </tr>\n",
       "    <tr>\n",
       "      <th>2020-01-06</th>\n",
       "      <td>5</td>\n",
       "    </tr>\n",
       "    <tr>\n",
       "      <th>2020-01-07</th>\n",
       "      <td>0</td>\n",
       "    </tr>\n",
       "    <tr>\n",
       "      <th>2020-01-08</th>\n",
       "      <td>3</td>\n",
       "    </tr>\n",
       "  </tbody>\n",
       "</table>\n",
       "</div>"
      ],
      "text/plain": [
       "Obs obs\n",
       "-----metadata------\n",
       "name : obs \n",
       "x : 0 \n",
       "y : 0 \n",
       "filename :  \n",
       "source :  \n",
       "unit :  \n",
       "\n",
       "-----time series------\n",
       "            measurements\n",
       "2020-01-04             7\n",
       "2020-01-05             3\n",
       "2020-01-06             5\n",
       "2020-01-07             0\n",
       "2020-01-08             3"
      ]
     },
     "execution_count": 5,
     "metadata": {},
     "output_type": "execute_result"
    }
   ],
   "source": [
    "# create a parly overlapping dataframe\n",
    "df = pd.DataFrame({'measurements':np.concatenate([o1['measurements'].values[-2:],np.random.randint(0,10,3)])}, index=pd.date_range('2020-1-4', '2020-1-8'))\n",
    "o3 = hpd.Obs(df, name='obs', x=0, y=0)\n",
    "o3"
   ]
  },
  {
   "cell_type": "code",
   "execution_count": 6,
   "id": "031e0ac7-c243-4e8a-a2f9-970f75b4d81a",
   "metadata": {},
   "outputs": [
    {
     "name": "stdout",
     "output_type": "stream",
     "text": [
      "\u001b[33mWARNING:hydropandas.observation:function 'merge_observation' not thoroughly tested, please be carefull!\u001b[0m\n",
      "\u001b[32mINFO:hydropandas.observation:new observation has a different time series\u001b[0m\n",
      "\u001b[32mINFO:hydropandas.observation:merge time series\u001b[0m\n",
      "\u001b[32mINFO:hydropandas.observation:new and existing observation have the same metadata\u001b[0m\n"
     ]
    },
    {
     "data": {
      "text/html": [
       "<div>\n",
       "<style scoped>\n",
       "    .dataframe tbody tr th:only-of-type {\n",
       "        vertical-align: middle;\n",
       "    }\n",
       "\n",
       "    .dataframe tbody tr th {\n",
       "        vertical-align: top;\n",
       "    }\n",
       "\n",
       "    .dataframe thead th {\n",
       "        text-align: right;\n",
       "    }\n",
       "</style>\n",
       "<table border=\"1\" class=\"dataframe\">\n",
       "  <thead>\n",
       "    <tr style=\"text-align: right;\">\n",
       "      <th></th>\n",
       "      <th>measurements</th>\n",
       "    </tr>\n",
       "  </thead>\n",
       "  <tbody>\n",
       "    <tr>\n",
       "      <th>2020-01-01</th>\n",
       "      <td>8</td>\n",
       "    </tr>\n",
       "    <tr>\n",
       "      <th>2020-01-02</th>\n",
       "      <td>3</td>\n",
       "    </tr>\n",
       "    <tr>\n",
       "      <th>2020-01-03</th>\n",
       "      <td>6</td>\n",
       "    </tr>\n",
       "    <tr>\n",
       "      <th>2020-01-04</th>\n",
       "      <td>7</td>\n",
       "    </tr>\n",
       "    <tr>\n",
       "      <th>2020-01-05</th>\n",
       "      <td>3</td>\n",
       "    </tr>\n",
       "    <tr>\n",
       "      <th>2020-01-06</th>\n",
       "      <td>5</td>\n",
       "    </tr>\n",
       "    <tr>\n",
       "      <th>2020-01-07</th>\n",
       "      <td>0</td>\n",
       "    </tr>\n",
       "    <tr>\n",
       "      <th>2020-01-08</th>\n",
       "      <td>3</td>\n",
       "    </tr>\n",
       "  </tbody>\n",
       "</table>\n",
       "</div>"
      ],
      "text/plain": [
       "Obs obs\n",
       "-----metadata------\n",
       "name : obs \n",
       "x : 0 \n",
       "y : 0 \n",
       "filename :  \n",
       "source :  \n",
       "unit :  \n",
       "\n",
       "-----time series------\n",
       "            measurements\n",
       "2020-01-01             8\n",
       "2020-01-02             3\n",
       "2020-01-03             6\n",
       "2020-01-04             7\n",
       "2020-01-05             3\n",
       "2020-01-06             5\n",
       "2020-01-07             0\n",
       "2020-01-08             3"
      ]
     },
     "execution_count": 6,
     "metadata": {},
     "output_type": "execute_result"
    }
   ],
   "source": [
    "o1.merge_observation(o3)"
   ]
  },
  {
   "cell_type": "code",
   "execution_count": 7,
   "id": "030c3baf-6aa6-4b58-8531-5a04382b4660",
   "metadata": {},
   "outputs": [
    {
     "data": {
      "text/html": [
       "<div>\n",
       "<style scoped>\n",
       "    .dataframe tbody tr th:only-of-type {\n",
       "        vertical-align: middle;\n",
       "    }\n",
       "\n",
       "    .dataframe tbody tr th {\n",
       "        vertical-align: top;\n",
       "    }\n",
       "\n",
       "    .dataframe thead th {\n",
       "        text-align: right;\n",
       "    }\n",
       "</style>\n",
       "<table border=\"1\" class=\"dataframe\">\n",
       "  <thead>\n",
       "    <tr style=\"text-align: right;\">\n",
       "      <th></th>\n",
       "      <th>measurements</th>\n",
       "    </tr>\n",
       "  </thead>\n",
       "  <tbody>\n",
       "    <tr>\n",
       "      <th>2020-01-04</th>\n",
       "      <td>7</td>\n",
       "    </tr>\n",
       "    <tr>\n",
       "      <th>2020-01-05</th>\n",
       "      <td>8</td>\n",
       "    </tr>\n",
       "    <tr>\n",
       "      <th>2020-01-06</th>\n",
       "      <td>5</td>\n",
       "    </tr>\n",
       "    <tr>\n",
       "      <th>2020-01-07</th>\n",
       "      <td>3</td>\n",
       "    </tr>\n",
       "    <tr>\n",
       "      <th>2020-01-08</th>\n",
       "      <td>8</td>\n",
       "    </tr>\n",
       "  </tbody>\n",
       "</table>\n",
       "</div>"
      ],
      "text/plain": [
       "Obs obs\n",
       "-----metadata------\n",
       "name : obs \n",
       "x : 0 \n",
       "y : 0 \n",
       "filename :  \n",
       "source :  \n",
       "unit :  \n",
       "\n",
       "-----time series------\n",
       "            measurements\n",
       "2020-01-04             7\n",
       "2020-01-05             8\n",
       "2020-01-06             5\n",
       "2020-01-07             3\n",
       "2020-01-08             8"
      ]
     },
     "execution_count": 7,
     "metadata": {},
     "output_type": "execute_result"
    }
   ],
   "source": [
    "# create a parly overlapping dataframe with different values\n",
    "df = pd.DataFrame({'measurements':np.random.randint(0,10,5)}, index=pd.date_range('2020-1-4', '2020-1-8'))\n",
    "o4 = hpd.Obs(df, name='obs', x=0, y=0)\n",
    "o4"
   ]
  },
  {
   "cell_type": "markdown",
   "id": "55304eb8-7e21-491a-b641-ee6a6b534a38",
   "metadata": {},
   "source": [
    "by default an error is raised if the overlapping time series have different values"
   ]
  },
  {
   "cell_type": "code",
   "execution_count": 8,
   "id": "6a66ace2-3913-4b5e-8bb2-fee45d392129",
   "metadata": {},
   "outputs": [
    {
     "name": "stdout",
     "output_type": "stream",
     "text": [
      "\u001b[33mWARNING:hydropandas.observation:function 'merge_observation' not thoroughly tested, please be carefull!\u001b[0m\n",
      "\u001b[32mINFO:hydropandas.observation:new observation has a different time series\u001b[0m\n",
      "\u001b[32mINFO:hydropandas.observation:merge time series\u001b[0m\n",
      "\u001b[33mWARNING:hydropandas.observation:timeseries of observation obs overlap with different values\u001b[0m\n"
     ]
    },
    {
     "ename": "ValueError",
     "evalue": "observations have different values for same time steps",
     "output_type": "error",
     "traceback": [
      "\u001b[1;31m---------------------------------------------------------------------------\u001b[0m",
      "\u001b[1;31mValueError\u001b[0m                                Traceback (most recent call last)",
      "\u001b[1;32m<ipython-input-8-fb7c0e48ad44>\u001b[0m in \u001b[0;36m<module>\u001b[1;34m\u001b[0m\n\u001b[1;32m----> 1\u001b[1;33m \u001b[0mo1\u001b[0m\u001b[1;33m.\u001b[0m\u001b[0mmerge_observation\u001b[0m\u001b[1;33m(\u001b[0m\u001b[0mo4\u001b[0m\u001b[1;33m)\u001b[0m\u001b[1;33m\u001b[0m\u001b[1;33m\u001b[0m\u001b[0m\n\u001b[0m",
      "\u001b[1;32mc:\\users\\oebbe\\02_python\\hydropandas\\hydropandas\\observation.py\u001b[0m in \u001b[0;36mmerge_observation\u001b[1;34m(self, right, overlap, merge_metadata)\u001b[0m\n\u001b[0;32m    420\u001b[0m \u001b[1;33m\u001b[0m\u001b[0m\n\u001b[0;32m    421\u001b[0m         \u001b[1;31m# merge timeseries\u001b[0m\u001b[1;33m\u001b[0m\u001b[1;33m\u001b[0m\u001b[1;33m\u001b[0m\u001b[0m\n\u001b[1;32m--> 422\u001b[1;33m         \u001b[0mo\u001b[0m \u001b[1;33m=\u001b[0m \u001b[0mself\u001b[0m\u001b[1;33m.\u001b[0m\u001b[0m_merge_timeseries\u001b[0m\u001b[1;33m(\u001b[0m\u001b[0mright\u001b[0m\u001b[1;33m,\u001b[0m \u001b[0moverlap\u001b[0m\u001b[1;33m=\u001b[0m\u001b[0moverlap\u001b[0m\u001b[1;33m)\u001b[0m\u001b[1;33m\u001b[0m\u001b[1;33m\u001b[0m\u001b[0m\n\u001b[0m\u001b[0;32m    423\u001b[0m \u001b[1;33m\u001b[0m\u001b[0m\n\u001b[0;32m    424\u001b[0m         \u001b[1;31m# merge metadata\u001b[0m\u001b[1;33m\u001b[0m\u001b[1;33m\u001b[0m\u001b[1;33m\u001b[0m\u001b[0m\n",
      "\u001b[1;32mc:\\users\\oebbe\\02_python\\hydropandas\\hydropandas\\observation.py\u001b[0m in \u001b[0;36m_merge_timeseries\u001b[1;34m(self, right, overlap)\u001b[0m\n\u001b[0;32m    332\u001b[0m                 )\n\u001b[0;32m    333\u001b[0m                 \u001b[1;32mif\u001b[0m \u001b[0moverlap\u001b[0m \u001b[1;33m==\u001b[0m \u001b[1;34m\"error\"\u001b[0m\u001b[1;33m:\u001b[0m\u001b[1;33m\u001b[0m\u001b[1;33m\u001b[0m\u001b[0m\n\u001b[1;32m--> 334\u001b[1;33m                     raise ValueError(\n\u001b[0m\u001b[0;32m    335\u001b[0m                         \u001b[1;34m\"observations have different values for same time steps\"\u001b[0m\u001b[1;33m\u001b[0m\u001b[1;33m\u001b[0m\u001b[0m\n\u001b[0;32m    336\u001b[0m                     )\n",
      "\u001b[1;31mValueError\u001b[0m: observations have different values for same time steps"
     ]
    }
   ],
   "source": [
    "o1.merge_observation(o4)"
   ]
  },
  {
   "cell_type": "markdown",
   "id": "9b01099e-3ee6-4edc-b58a-c7c63c73d563",
   "metadata": {},
   "source": [
    "With the 'overlap' argument you can specify to use the left or the right observation when merging. See example below."
   ]
  },
  {
   "cell_type": "code",
   "execution_count": 9,
   "id": "33e8f71b-94bf-4860-855f-4ae06c9008a0",
   "metadata": {},
   "outputs": [
    {
     "name": "stdout",
     "output_type": "stream",
     "text": [
      "use left\n",
      "\u001b[33mWARNING:hydropandas.observation:function 'merge_observation' not thoroughly tested, please be carefull!\u001b[0m\n",
      "\u001b[32mINFO:hydropandas.observation:new observation has a different time series\u001b[0m\n",
      "\u001b[32mINFO:hydropandas.observation:merge time series\u001b[0m\n",
      "\u001b[33mWARNING:hydropandas.observation:timeseries of observation obs overlap with different values\u001b[0m\n",
      "\u001b[32mINFO:hydropandas.observation:new and existing observation have the same metadata\u001b[0m\n"
     ]
    },
    {
     "data": {
      "text/html": [
       "<div>\n",
       "<style scoped>\n",
       "    .dataframe tbody tr th:only-of-type {\n",
       "        vertical-align: middle;\n",
       "    }\n",
       "\n",
       "    .dataframe tbody tr th {\n",
       "        vertical-align: top;\n",
       "    }\n",
       "\n",
       "    .dataframe thead th {\n",
       "        text-align: right;\n",
       "    }\n",
       "</style>\n",
       "<table border=\"1\" class=\"dataframe\">\n",
       "  <thead>\n",
       "    <tr style=\"text-align: right;\">\n",
       "      <th></th>\n",
       "      <th>measurements</th>\n",
       "    </tr>\n",
       "  </thead>\n",
       "  <tbody>\n",
       "    <tr>\n",
       "      <th>2020-01-01</th>\n",
       "      <td>8</td>\n",
       "    </tr>\n",
       "    <tr>\n",
       "      <th>2020-01-02</th>\n",
       "      <td>3</td>\n",
       "    </tr>\n",
       "    <tr>\n",
       "      <th>2020-01-03</th>\n",
       "      <td>6</td>\n",
       "    </tr>\n",
       "    <tr>\n",
       "      <th>2020-01-04</th>\n",
       "      <td>7</td>\n",
       "    </tr>\n",
       "    <tr>\n",
       "      <th>2020-01-05</th>\n",
       "      <td>3</td>\n",
       "    </tr>\n",
       "    <tr>\n",
       "      <th>2020-01-06</th>\n",
       "      <td>5</td>\n",
       "    </tr>\n",
       "    <tr>\n",
       "      <th>2020-01-07</th>\n",
       "      <td>3</td>\n",
       "    </tr>\n",
       "    <tr>\n",
       "      <th>2020-01-08</th>\n",
       "      <td>8</td>\n",
       "    </tr>\n",
       "  </tbody>\n",
       "</table>\n",
       "</div>"
      ],
      "text/plain": [
       "Obs obs\n",
       "-----metadata------\n",
       "name : obs \n",
       "x : 0 \n",
       "y : 0 \n",
       "filename :  \n",
       "source :  \n",
       "unit :  \n",
       "\n",
       "-----time series------\n",
       "            measurements\n",
       "2020-01-01             8\n",
       "2020-01-02             3\n",
       "2020-01-03             6\n",
       "2020-01-04             7\n",
       "2020-01-05             3\n",
       "2020-01-06             5\n",
       "2020-01-07             3\n",
       "2020-01-08             8"
      ]
     },
     "metadata": {},
     "output_type": "display_data"
    },
    {
     "name": "stdout",
     "output_type": "stream",
     "text": [
      "use right\n",
      "\u001b[33mWARNING:hydropandas.observation:function 'merge_observation' not thoroughly tested, please be carefull!\u001b[0m\n",
      "\u001b[32mINFO:hydropandas.observation:new observation has a different time series\u001b[0m\n",
      "\u001b[32mINFO:hydropandas.observation:merge time series\u001b[0m\n",
      "\u001b[33mWARNING:hydropandas.observation:timeseries of observation obs overlap with different values\u001b[0m\n",
      "\u001b[32mINFO:hydropandas.observation:new and existing observation have the same metadata\u001b[0m\n"
     ]
    },
    {
     "data": {
      "text/html": [
       "<div>\n",
       "<style scoped>\n",
       "    .dataframe tbody tr th:only-of-type {\n",
       "        vertical-align: middle;\n",
       "    }\n",
       "\n",
       "    .dataframe tbody tr th {\n",
       "        vertical-align: top;\n",
       "    }\n",
       "\n",
       "    .dataframe thead th {\n",
       "        text-align: right;\n",
       "    }\n",
       "</style>\n",
       "<table border=\"1\" class=\"dataframe\">\n",
       "  <thead>\n",
       "    <tr style=\"text-align: right;\">\n",
       "      <th></th>\n",
       "      <th>measurements</th>\n",
       "    </tr>\n",
       "  </thead>\n",
       "  <tbody>\n",
       "    <tr>\n",
       "      <th>2020-01-01</th>\n",
       "      <td>8</td>\n",
       "    </tr>\n",
       "    <tr>\n",
       "      <th>2020-01-02</th>\n",
       "      <td>3</td>\n",
       "    </tr>\n",
       "    <tr>\n",
       "      <th>2020-01-03</th>\n",
       "      <td>6</td>\n",
       "    </tr>\n",
       "    <tr>\n",
       "      <th>2020-01-04</th>\n",
       "      <td>7</td>\n",
       "    </tr>\n",
       "    <tr>\n",
       "      <th>2020-01-05</th>\n",
       "      <td>8</td>\n",
       "    </tr>\n",
       "    <tr>\n",
       "      <th>2020-01-06</th>\n",
       "      <td>5</td>\n",
       "    </tr>\n",
       "    <tr>\n",
       "      <th>2020-01-07</th>\n",
       "      <td>3</td>\n",
       "    </tr>\n",
       "    <tr>\n",
       "      <th>2020-01-08</th>\n",
       "      <td>8</td>\n",
       "    </tr>\n",
       "  </tbody>\n",
       "</table>\n",
       "</div>"
      ],
      "text/plain": [
       "Obs obs\n",
       "-----metadata------\n",
       "name : obs \n",
       "x : 0 \n",
       "y : 0 \n",
       "filename :  \n",
       "source :  \n",
       "unit :  \n",
       "\n",
       "-----time series------\n",
       "            measurements\n",
       "2020-01-01             8\n",
       "2020-01-02             3\n",
       "2020-01-03             6\n",
       "2020-01-04             7\n",
       "2020-01-05             8\n",
       "2020-01-06             5\n",
       "2020-01-07             3\n",
       "2020-01-08             8"
      ]
     },
     "metadata": {},
     "output_type": "display_data"
    }
   ],
   "source": [
    "print('use left')\n",
    "display(o1.merge_observation(o4, overlap='use_left')) # use the existing observation\n",
    "print('use right')\n",
    "display(o1.merge_observation(o4, overlap='use_right')) # use the existing observation\n"
   ]
  },
  {
   "cell_type": "markdown",
   "id": "6c6e5d07-9c24-4319-bc15-9fccea42d559",
   "metadata": {},
   "source": [
    "#### metadata\n",
    "The `merge_observation` method checks by default if the metadata of the two observations is the same."
   ]
  },
  {
   "cell_type": "code",
   "execution_count": 10,
   "id": "ac6779ad-e1ab-4076-906e-91645e1f251c",
   "metadata": {},
   "outputs": [
    {
     "data": {
      "text/html": [
       "<div>\n",
       "<style scoped>\n",
       "    .dataframe tbody tr th:only-of-type {\n",
       "        vertical-align: middle;\n",
       "    }\n",
       "\n",
       "    .dataframe tbody tr th {\n",
       "        vertical-align: top;\n",
       "    }\n",
       "\n",
       "    .dataframe thead th {\n",
       "        text-align: right;\n",
       "    }\n",
       "</style>\n",
       "<table border=\"1\" class=\"dataframe\">\n",
       "  <thead>\n",
       "    <tr style=\"text-align: right;\">\n",
       "      <th></th>\n",
       "      <th>measurements</th>\n",
       "    </tr>\n",
       "  </thead>\n",
       "  <tbody>\n",
       "    <tr>\n",
       "      <th>2020-01-06</th>\n",
       "      <td>5</td>\n",
       "    </tr>\n",
       "    <tr>\n",
       "      <th>2020-01-07</th>\n",
       "      <td>5</td>\n",
       "    </tr>\n",
       "    <tr>\n",
       "      <th>2020-01-08</th>\n",
       "      <td>2</td>\n",
       "    </tr>\n",
       "    <tr>\n",
       "      <th>2020-01-09</th>\n",
       "      <td>1</td>\n",
       "    </tr>\n",
       "    <tr>\n",
       "      <th>2020-01-10</th>\n",
       "      <td>3</td>\n",
       "    </tr>\n",
       "  </tbody>\n",
       "</table>\n",
       "</div>"
      ],
      "text/plain": [
       "Obs obs5\n",
       "-----metadata------\n",
       "name : obs5 \n",
       "x : 0 \n",
       "y : 0 \n",
       "filename :  \n",
       "source :  \n",
       "unit :  \n",
       "\n",
       "-----time series------\n",
       "            measurements\n",
       "2020-01-06             5\n",
       "2020-01-07             5\n",
       "2020-01-08             2\n",
       "2020-01-09             1\n",
       "2020-01-10             3"
      ]
     },
     "execution_count": 10,
     "metadata": {},
     "output_type": "execute_result"
    }
   ],
   "source": [
    "# observation 2\n",
    "df = pd.DataFrame({'measurements':np.random.randint(0,10,5)}, index=pd.date_range('2020-1-6', '2020-1-10'))\n",
    "o5 = hpd.Obs(df, name='obs5',x=0, y=0)\n",
    "o5"
   ]
  },
  {
   "cell_type": "markdown",
   "id": "26fd6465-d17c-407b-aef4-3a3b8c7ba9bf",
   "metadata": {},
   "source": [
    "When the metadata differs a ValueError is raised."
   ]
  },
  {
   "cell_type": "code",
   "execution_count": 11,
   "id": "970ba3c8-d973-488d-8620-7dd3d5480335",
   "metadata": {},
   "outputs": [
    {
     "name": "stdout",
     "output_type": "stream",
     "text": [
      "\u001b[33mWARNING:hydropandas.observation:function 'merge_observation' not thoroughly tested, please be carefull!\u001b[0m\n",
      "\u001b[32mINFO:hydropandas.observation:new observation has a different time series\u001b[0m\n",
      "\u001b[32mINFO:hydropandas.observation:merge time series\u001b[0m\n"
     ]
    },
    {
     "ename": "ValueError",
     "evalue": "existing observation name differs from new observation",
     "output_type": "error",
     "traceback": [
      "\u001b[1;31m---------------------------------------------------------------------------\u001b[0m",
      "\u001b[1;31mValueError\u001b[0m                                Traceback (most recent call last)",
      "\u001b[1;32m<ipython-input-11-204327616616>\u001b[0m in \u001b[0;36m<module>\u001b[1;34m\u001b[0m\n\u001b[1;32m----> 1\u001b[1;33m \u001b[0mo1\u001b[0m\u001b[1;33m.\u001b[0m\u001b[0mmerge_observation\u001b[0m\u001b[1;33m(\u001b[0m\u001b[0mo5\u001b[0m\u001b[1;33m)\u001b[0m\u001b[1;33m\u001b[0m\u001b[1;33m\u001b[0m\u001b[0m\n\u001b[0m",
      "\u001b[1;32mc:\\users\\oebbe\\02_python\\hydropandas\\hydropandas\\observation.py\u001b[0m in \u001b[0;36mmerge_observation\u001b[1;34m(self, right, overlap, merge_metadata)\u001b[0m\n\u001b[0;32m    425\u001b[0m         \u001b[1;32mif\u001b[0m \u001b[0mmerge_metadata\u001b[0m\u001b[1;33m:\u001b[0m\u001b[1;33m\u001b[0m\u001b[1;33m\u001b[0m\u001b[0m\n\u001b[0;32m    426\u001b[0m             \u001b[0mmetadata\u001b[0m \u001b[1;33m=\u001b[0m \u001b[1;33m{\u001b[0m\u001b[0mkey\u001b[0m\u001b[1;33m:\u001b[0m \u001b[0mgetattr\u001b[0m\u001b[1;33m(\u001b[0m\u001b[0mright\u001b[0m\u001b[1;33m,\u001b[0m \u001b[0mkey\u001b[0m\u001b[1;33m)\u001b[0m \u001b[1;32mfor\u001b[0m \u001b[0mkey\u001b[0m \u001b[1;32min\u001b[0m \u001b[0mright\u001b[0m\u001b[1;33m.\u001b[0m\u001b[0m_metadata\u001b[0m\u001b[1;33m}\u001b[0m\u001b[1;33m\u001b[0m\u001b[1;33m\u001b[0m\u001b[0m\n\u001b[1;32m--> 427\u001b[1;33m             \u001b[0mnew_metadata\u001b[0m \u001b[1;33m=\u001b[0m \u001b[0mself\u001b[0m\u001b[1;33m.\u001b[0m\u001b[0mmerge_metadata\u001b[0m\u001b[1;33m(\u001b[0m\u001b[0mmetadata\u001b[0m\u001b[1;33m,\u001b[0m \u001b[0moverlap\u001b[0m\u001b[1;33m=\u001b[0m\u001b[0moverlap\u001b[0m\u001b[1;33m)\u001b[0m\u001b[1;33m\u001b[0m\u001b[1;33m\u001b[0m\u001b[0m\n\u001b[0m\u001b[0;32m    428\u001b[0m         \u001b[1;32melse\u001b[0m\u001b[1;33m:\u001b[0m\u001b[1;33m\u001b[0m\u001b[1;33m\u001b[0m\u001b[0m\n\u001b[0;32m    429\u001b[0m             \u001b[0mnew_metadata\u001b[0m \u001b[1;33m=\u001b[0m \u001b[1;33m{\u001b[0m\u001b[0mkey\u001b[0m\u001b[1;33m:\u001b[0m \u001b[0mgetattr\u001b[0m\u001b[1;33m(\u001b[0m\u001b[0mself\u001b[0m\u001b[1;33m,\u001b[0m \u001b[0mkey\u001b[0m\u001b[1;33m)\u001b[0m \u001b[1;32mfor\u001b[0m \u001b[0mkey\u001b[0m \u001b[1;32min\u001b[0m \u001b[0mself\u001b[0m\u001b[1;33m.\u001b[0m\u001b[0m_metadata\u001b[0m\u001b[1;33m}\u001b[0m\u001b[1;33m\u001b[0m\u001b[1;33m\u001b[0m\u001b[0m\n",
      "\u001b[1;32mc:\\users\\oebbe\\02_python\\hydropandas\\hydropandas\\observation.py\u001b[0m in \u001b[0;36mmerge_metadata\u001b[1;34m(self, right, overlap)\u001b[0m\n\u001b[0;32m    246\u001b[0m                     \u001b[0msame_metadata\u001b[0m \u001b[1;33m=\u001b[0m \u001b[1;32mFalse\u001b[0m\u001b[1;33m\u001b[0m\u001b[1;33m\u001b[0m\u001b[0m\n\u001b[0;32m    247\u001b[0m                     \u001b[1;32mif\u001b[0m \u001b[0moverlap\u001b[0m \u001b[1;33m==\u001b[0m \u001b[1;34m\"error\"\u001b[0m\u001b[1;33m:\u001b[0m\u001b[1;33m\u001b[0m\u001b[1;33m\u001b[0m\u001b[0m\n\u001b[1;32m--> 248\u001b[1;33m                         raise ValueError(\n\u001b[0m\u001b[0;32m    249\u001b[0m                             \u001b[1;34mf\"existing observation {key} differs from new observation\"\u001b[0m\u001b[1;33m\u001b[0m\u001b[1;33m\u001b[0m\u001b[0m\n\u001b[0;32m    250\u001b[0m                         )\n",
      "\u001b[1;31mValueError\u001b[0m: existing observation name differs from new observation"
     ]
    }
   ],
   "source": [
    "o1.merge_observation(o5)"
   ]
  },
  {
   "cell_type": "markdown",
   "id": "7f8e2a4b-9b2a-42e6-b301-2caa45a6ce21",
   "metadata": {},
   "source": [
    "If you set the `merge_metadata` argument to `False` the metadata is not merged and only the timeseries of the observations is merged."
   ]
  },
  {
   "cell_type": "code",
   "execution_count": 12,
   "id": "90b0067e-bc0e-4849-a3c5-8456de3e8550",
   "metadata": {},
   "outputs": [
    {
     "name": "stdout",
     "output_type": "stream",
     "text": [
      "\u001b[33mWARNING:hydropandas.observation:function 'merge_observation' not thoroughly tested, please be carefull!\u001b[0m\n",
      "\u001b[32mINFO:hydropandas.observation:new observation has a different time series\u001b[0m\n",
      "\u001b[32mINFO:hydropandas.observation:merge time series\u001b[0m\n"
     ]
    },
    {
     "data": {
      "text/html": [
       "<div>\n",
       "<style scoped>\n",
       "    .dataframe tbody tr th:only-of-type {\n",
       "        vertical-align: middle;\n",
       "    }\n",
       "\n",
       "    .dataframe tbody tr th {\n",
       "        vertical-align: top;\n",
       "    }\n",
       "\n",
       "    .dataframe thead th {\n",
       "        text-align: right;\n",
       "    }\n",
       "</style>\n",
       "<table border=\"1\" class=\"dataframe\">\n",
       "  <thead>\n",
       "    <tr style=\"text-align: right;\">\n",
       "      <th></th>\n",
       "      <th>measurements</th>\n",
       "    </tr>\n",
       "  </thead>\n",
       "  <tbody>\n",
       "    <tr>\n",
       "      <th>2020-01-01</th>\n",
       "      <td>8</td>\n",
       "    </tr>\n",
       "    <tr>\n",
       "      <th>2020-01-02</th>\n",
       "      <td>3</td>\n",
       "    </tr>\n",
       "    <tr>\n",
       "      <th>2020-01-03</th>\n",
       "      <td>6</td>\n",
       "    </tr>\n",
       "    <tr>\n",
       "      <th>2020-01-04</th>\n",
       "      <td>7</td>\n",
       "    </tr>\n",
       "    <tr>\n",
       "      <th>2020-01-05</th>\n",
       "      <td>3</td>\n",
       "    </tr>\n",
       "    <tr>\n",
       "      <th>2020-01-06</th>\n",
       "      <td>5</td>\n",
       "    </tr>\n",
       "    <tr>\n",
       "      <th>2020-01-07</th>\n",
       "      <td>5</td>\n",
       "    </tr>\n",
       "    <tr>\n",
       "      <th>2020-01-08</th>\n",
       "      <td>2</td>\n",
       "    </tr>\n",
       "    <tr>\n",
       "      <th>2020-01-09</th>\n",
       "      <td>1</td>\n",
       "    </tr>\n",
       "    <tr>\n",
       "      <th>2020-01-10</th>\n",
       "      <td>3</td>\n",
       "    </tr>\n",
       "  </tbody>\n",
       "</table>\n",
       "</div>"
      ],
      "text/plain": [
       "Obs obs\n",
       "-----metadata------\n",
       "name : obs \n",
       "x : 0 \n",
       "y : 0 \n",
       "filename :  \n",
       "source :  \n",
       "unit :  \n",
       "\n",
       "-----time series------\n",
       "            measurements\n",
       "2020-01-01             8\n",
       "2020-01-02             3\n",
       "2020-01-03             6\n",
       "2020-01-04             7\n",
       "2020-01-05             3\n",
       "2020-01-06             5\n",
       "2020-01-07             5\n",
       "2020-01-08             2\n",
       "2020-01-09             1\n",
       "2020-01-10             3"
      ]
     },
     "execution_count": 12,
     "metadata": {},
     "output_type": "execute_result"
    }
   ],
   "source": [
    "o1.merge_observation(o5, merge_metadata=False)"
   ]
  },
  {
   "cell_type": "markdown",
   "id": "949b694b-fdf8-4727-aa9c-696e4bf05181",
   "metadata": {},
   "source": [
    "Just as with overlapping timeseries, the 'overlap' argument can also be used for overlapping metadata values"
   ]
  },
  {
   "cell_type": "code",
   "execution_count": 13,
   "id": "2c682b29-f8e9-47dd-99d0-2d2743d50fe4",
   "metadata": {},
   "outputs": [
    {
     "name": "stdout",
     "output_type": "stream",
     "text": [
      "\u001b[33mWARNING:hydropandas.observation:function 'merge_observation' not thoroughly tested, please be carefull!\u001b[0m\n",
      "\u001b[32mINFO:hydropandas.observation:new observation has a different time series\u001b[0m\n",
      "\u001b[32mINFO:hydropandas.observation:merge time series\u001b[0m\n",
      "\u001b[32mINFO:hydropandas.observation:existing observation name differs from new observation, use existing\u001b[0m\n",
      "observation name when overlap=\"use_left\": obs\n",
      "\u001b[33mWARNING:hydropandas.observation:function 'merge_observation' not thoroughly tested, please be carefull!\u001b[0m\n",
      "\u001b[32mINFO:hydropandas.observation:new observation has a different time series\u001b[0m\n",
      "\u001b[32mINFO:hydropandas.observation:merge time series\u001b[0m\n",
      "\u001b[32mINFO:hydropandas.observation:existing observation name differs from new observation, use new\u001b[0m\n",
      "observation name when overlap=\"use_right\": obs5\n"
     ]
    }
   ],
   "source": [
    "o_merged = o1.merge_observation(o5, overlap='use_left', merge_metadata=True)\n",
    "print('observation name when overlap=\"use_left\":', o_merged.name)\n",
    "o_merged = o1.merge_observation(o5, overlap='use_right', merge_metadata=True)\n",
    "print('observation name when overlap=\"use_right\":', o_merged.name)"
   ]
  },
  {
   "cell_type": "markdown",
   "id": "9a8c58fe-8cda-405c-8d90-f54a6c8af296",
   "metadata": {},
   "source": [
    "#### all combinations"
   ]
  },
  {
   "cell_type": "code",
   "execution_count": 14,
   "id": "4b463ad6-1244-4e5e-b373-e371b78372a4",
   "metadata": {},
   "outputs": [
    {
     "data": {
      "text/html": [
       "<div>\n",
       "<style scoped>\n",
       "    .dataframe tbody tr th:only-of-type {\n",
       "        vertical-align: middle;\n",
       "    }\n",
       "\n",
       "    .dataframe tbody tr th {\n",
       "        vertical-align: top;\n",
       "    }\n",
       "\n",
       "    .dataframe thead th {\n",
       "        text-align: right;\n",
       "    }\n",
       "</style>\n",
       "<table border=\"1\" class=\"dataframe\">\n",
       "  <thead>\n",
       "    <tr style=\"text-align: right;\">\n",
       "      <th></th>\n",
       "      <th>measurements</th>\n",
       "      <th>filter</th>\n",
       "    </tr>\n",
       "  </thead>\n",
       "  <tbody>\n",
       "    <tr>\n",
       "      <th>2020-01-01</th>\n",
       "      <td>0</td>\n",
       "      <td>1.0</td>\n",
       "    </tr>\n",
       "    <tr>\n",
       "      <th>2020-01-02</th>\n",
       "      <td>4</td>\n",
       "      <td>1.0</td>\n",
       "    </tr>\n",
       "    <tr>\n",
       "      <th>2020-01-03</th>\n",
       "      <td>8</td>\n",
       "      <td>1.0</td>\n",
       "    </tr>\n",
       "    <tr>\n",
       "      <th>2020-01-04</th>\n",
       "      <td>3</td>\n",
       "      <td>1.0</td>\n",
       "    </tr>\n",
       "    <tr>\n",
       "      <th>2020-01-05</th>\n",
       "      <td>3</td>\n",
       "      <td>1.0</td>\n",
       "    </tr>\n",
       "  </tbody>\n",
       "</table>\n",
       "</div>"
      ],
      "text/plain": [
       "Obs obs6\n",
       "-----metadata------\n",
       "name : obs6 \n",
       "x : 100 \n",
       "y : 0 \n",
       "filename :  \n",
       "source :  \n",
       "unit :  \n",
       "\n",
       "-----time series------\n",
       "            measurements  filter\n",
       "2020-01-01             0     1.0\n",
       "2020-01-02             4     1.0\n",
       "2020-01-03             8     1.0\n",
       "2020-01-04             3     1.0\n",
       "2020-01-05             3     1.0"
      ]
     },
     "execution_count": 14,
     "metadata": {},
     "output_type": "execute_result"
    }
   ],
   "source": [
    "# observation 6\n",
    "df = pd.DataFrame({'measurements':np.random.randint(0,10,5),\n",
    "                   'filter':np.ones(5)}, index=pd.date_range('2020-1-1', '2020-1-5'))\n",
    "o6 = hpd.Obs(df, name='obs6',x=100, y=0)\n",
    "o6"
   ]
  },
  {
   "cell_type": "code",
   "execution_count": 15,
   "id": "6195ecba-c617-4fb5-9591-87eba9f436fa",
   "metadata": {},
   "outputs": [
    {
     "data": {
      "text/html": [
       "<div>\n",
       "<style scoped>\n",
       "    .dataframe tbody tr th:only-of-type {\n",
       "        vertical-align: middle;\n",
       "    }\n",
       "\n",
       "    .dataframe tbody tr th {\n",
       "        vertical-align: top;\n",
       "    }\n",
       "\n",
       "    .dataframe thead th {\n",
       "        text-align: right;\n",
       "    }\n",
       "</style>\n",
       "<table border=\"1\" class=\"dataframe\">\n",
       "  <thead>\n",
       "    <tr style=\"text-align: right;\">\n",
       "      <th></th>\n",
       "      <th>measurements</th>\n",
       "      <th>remarks</th>\n",
       "    </tr>\n",
       "  </thead>\n",
       "  <tbody>\n",
       "    <tr>\n",
       "      <th>2020-01-04</th>\n",
       "      <td>3</td>\n",
       "      <td></td>\n",
       "    </tr>\n",
       "    <tr>\n",
       "      <th>2020-01-05</th>\n",
       "      <td>2</td>\n",
       "      <td></td>\n",
       "    </tr>\n",
       "    <tr>\n",
       "      <th>2020-01-06</th>\n",
       "      <td>2</td>\n",
       "      <td></td>\n",
       "    </tr>\n",
       "    <tr>\n",
       "      <th>2020-01-07</th>\n",
       "      <td>5</td>\n",
       "      <td>unreliable</td>\n",
       "    </tr>\n",
       "    <tr>\n",
       "      <th>2020-01-08</th>\n",
       "      <td>0</td>\n",
       "      <td></td>\n",
       "    </tr>\n",
       "  </tbody>\n",
       "</table>\n",
       "</div>"
      ],
      "text/plain": [
       "Obs obs7\n",
       "-----metadata------\n",
       "name : obs7 \n",
       "x : 0 \n",
       "y : 100 \n",
       "filename :  \n",
       "source :  \n",
       "unit :  \n",
       "\n",
       "-----time series------\n",
       "            measurements     remarks\n",
       "2020-01-04             3            \n",
       "2020-01-05             2            \n",
       "2020-01-06             2            \n",
       "2020-01-07             5  unreliable\n",
       "2020-01-08             0            "
      ]
     },
     "execution_count": 15,
     "metadata": {},
     "output_type": "execute_result"
    }
   ],
   "source": [
    "# observation 7\n",
    "df = pd.DataFrame({'measurements':np.concatenate([o5['measurements'].values[-1:],np.random.randint(0,10,4)]),\n",
    "                   'remarks':['', '', '', 'unreliable', '']}, index=pd.date_range('2020-1-4', '2020-1-8'))\n",
    "o7 = hpd.Obs(df, name='obs7',x=0, y=100)\n",
    "o7"
   ]
  },
  {
   "cell_type": "code",
   "execution_count": 16,
   "id": "d7197658-c159-4322-aeac-ff294d5afc24",
   "metadata": {},
   "outputs": [
    {
     "name": "stdout",
     "output_type": "stream",
     "text": [
      "\u001b[33mWARNING:hydropandas.observation:function 'merge_observation' not thoroughly tested, please be carefull!\u001b[0m\n",
      "\u001b[32mINFO:hydropandas.observation:new observation has a different time series\u001b[0m\n",
      "\u001b[32mINFO:hydropandas.observation:merge time series\u001b[0m\n",
      "\u001b[33mWARNING:hydropandas.observation:timeseries of observation obs7 overlap with different values\u001b[0m\n",
      "\u001b[32mINFO:hydropandas.observation:existing observation name differs from new observation, use new\u001b[0m\n",
      "\u001b[32mINFO:hydropandas.observation:existing observation x differs from new observation, use new\u001b[0m\n",
      "\u001b[32mINFO:hydropandas.observation:existing observation y differs from new observation, use new\u001b[0m\n"
     ]
    },
    {
     "data": {
      "text/html": [
       "<div>\n",
       "<style scoped>\n",
       "    .dataframe tbody tr th:only-of-type {\n",
       "        vertical-align: middle;\n",
       "    }\n",
       "\n",
       "    .dataframe tbody tr th {\n",
       "        vertical-align: top;\n",
       "    }\n",
       "\n",
       "    .dataframe thead th {\n",
       "        text-align: right;\n",
       "    }\n",
       "</style>\n",
       "<table border=\"1\" class=\"dataframe\">\n",
       "  <thead>\n",
       "    <tr style=\"text-align: right;\">\n",
       "      <th></th>\n",
       "      <th>measurements</th>\n",
       "      <th>remarks</th>\n",
       "      <th>filter</th>\n",
       "    </tr>\n",
       "  </thead>\n",
       "  <tbody>\n",
       "    <tr>\n",
       "      <th>2020-01-01</th>\n",
       "      <td>0</td>\n",
       "      <td>NaN</td>\n",
       "      <td>1.0</td>\n",
       "    </tr>\n",
       "    <tr>\n",
       "      <th>2020-01-02</th>\n",
       "      <td>4</td>\n",
       "      <td>NaN</td>\n",
       "      <td>1.0</td>\n",
       "    </tr>\n",
       "    <tr>\n",
       "      <th>2020-01-03</th>\n",
       "      <td>8</td>\n",
       "      <td>NaN</td>\n",
       "      <td>1.0</td>\n",
       "    </tr>\n",
       "    <tr>\n",
       "      <th>2020-01-04</th>\n",
       "      <td>3</td>\n",
       "      <td></td>\n",
       "      <td>1.0</td>\n",
       "    </tr>\n",
       "    <tr>\n",
       "      <th>2020-01-05</th>\n",
       "      <td>2</td>\n",
       "      <td></td>\n",
       "      <td>1.0</td>\n",
       "    </tr>\n",
       "    <tr>\n",
       "      <th>2020-01-06</th>\n",
       "      <td>2</td>\n",
       "      <td></td>\n",
       "      <td>NaN</td>\n",
       "    </tr>\n",
       "    <tr>\n",
       "      <th>2020-01-07</th>\n",
       "      <td>5</td>\n",
       "      <td>unreliable</td>\n",
       "      <td>NaN</td>\n",
       "    </tr>\n",
       "    <tr>\n",
       "      <th>2020-01-08</th>\n",
       "      <td>0</td>\n",
       "      <td></td>\n",
       "      <td>NaN</td>\n",
       "    </tr>\n",
       "  </tbody>\n",
       "</table>\n",
       "</div>"
      ],
      "text/plain": [
       "Obs obs7\n",
       "-----metadata------\n",
       "name : obs7 \n",
       "x : 0 \n",
       "y : 100 \n",
       "filename :  \n",
       "source :  \n",
       "unit :  \n",
       "\n",
       "-----time series------\n",
       "            measurements     remarks  filter\n",
       "2020-01-01             0         NaN     1.0\n",
       "2020-01-02             4         NaN     1.0\n",
       "2020-01-03             8         NaN     1.0\n",
       "2020-01-04             3                 1.0\n",
       "2020-01-05             2                 1.0\n",
       "2020-01-06             2                 NaN\n",
       "2020-01-07             5  unreliable     NaN\n",
       "2020-01-08             0                 NaN"
      ]
     },
     "execution_count": 16,
     "metadata": {},
     "output_type": "execute_result"
    }
   ],
   "source": [
    "o6.merge_observation(o7, overlap='use_right')"
   ]
  },
  {
   "cell_type": "markdown",
   "id": "99d89e46-eb4f-4141-b992-c107ddbd005f",
   "metadata": {},
   "source": [
    "## Merge observation collections<a id=mergeoc></a>"
   ]
  },
  {
   "cell_type": "code",
   "execution_count": 17,
   "id": "98c10114-c5c9-4850-939f-5902136f6de5",
   "metadata": {},
   "outputs": [
    {
     "data": {
      "text/html": [
       "<div>\n",
       "<style scoped>\n",
       "    .dataframe tbody tr th:only-of-type {\n",
       "        vertical-align: middle;\n",
       "    }\n",
       "\n",
       "    .dataframe tbody tr th {\n",
       "        vertical-align: top;\n",
       "    }\n",
       "\n",
       "    .dataframe thead th {\n",
       "        text-align: right;\n",
       "    }\n",
       "</style>\n",
       "<table border=\"1\" class=\"dataframe\">\n",
       "  <thead>\n",
       "    <tr style=\"text-align: right;\">\n",
       "      <th></th>\n",
       "      <th>x</th>\n",
       "      <th>y</th>\n",
       "      <th>filename</th>\n",
       "      <th>source</th>\n",
       "      <th>unit</th>\n",
       "      <th>obs</th>\n",
       "    </tr>\n",
       "    <tr>\n",
       "      <th>name</th>\n",
       "      <th></th>\n",
       "      <th></th>\n",
       "      <th></th>\n",
       "      <th></th>\n",
       "      <th></th>\n",
       "      <th></th>\n",
       "    </tr>\n",
       "  </thead>\n",
       "  <tbody>\n",
       "    <tr>\n",
       "      <th>obs</th>\n",
       "      <td>0</td>\n",
       "      <td>0</td>\n",
       "      <td></td>\n",
       "      <td></td>\n",
       "      <td></td>\n",
       "      <td>Obs obs\n",
       "-----metadata------\n",
       "name : obs \n",
       "x : 0 ...</td>\n",
       "    </tr>\n",
       "  </tbody>\n",
       "</table>\n",
       "</div>"
      ],
      "text/plain": [
       "      x  y filename source unit  \\\n",
       "name                              \n",
       "obs   0  0                        \n",
       "\n",
       "                                                    obs  \n",
       "name                                                     \n",
       "obs   Obs obs\n",
       "-----metadata------\n",
       "name : obs \n",
       "x : 0 ...  "
      ]
     },
     "execution_count": 17,
     "metadata": {},
     "output_type": "execute_result"
    }
   ],
   "source": [
    "# create an observation collection\n",
    "oc1 = hpd.ObsCollection.from_list([o1])\n",
    "oc1"
   ]
  },
  {
   "cell_type": "markdown",
   "id": "ebdef210-3f61-4052-b3a9-2f4128a9f642",
   "metadata": {},
   "source": [
    "We can add a single observation to this collection using the `add_observation` method."
   ]
  },
  {
   "cell_type": "code",
   "execution_count": 18,
   "id": "710395b1-a725-43b2-9b12-5b04685c8af3",
   "metadata": {},
   "outputs": [
    {
     "name": "stdout",
     "output_type": "stream",
     "text": [
      "\u001b[32mINFO:hydropandas.obs_collection:observation name obs already in collection, merging observations\u001b[0m\n",
      "\u001b[33mWARNING:hydropandas.observation:function 'merge_observation' not thoroughly tested, please be carefull!\u001b[0m\n",
      "\u001b[32mINFO:hydropandas.observation:new observation has a different time series\u001b[0m\n",
      "\u001b[32mINFO:hydropandas.observation:merge time series\u001b[0m\n",
      "\u001b[32mINFO:hydropandas.observation:new and existing observation have the same metadata\u001b[0m\n"
     ]
    },
    {
     "data": {
      "text/html": [
       "<div>\n",
       "<style scoped>\n",
       "    .dataframe tbody tr th:only-of-type {\n",
       "        vertical-align: middle;\n",
       "    }\n",
       "\n",
       "    .dataframe tbody tr th {\n",
       "        vertical-align: top;\n",
       "    }\n",
       "\n",
       "    .dataframe thead th {\n",
       "        text-align: right;\n",
       "    }\n",
       "</style>\n",
       "<table border=\"1\" class=\"dataframe\">\n",
       "  <thead>\n",
       "    <tr style=\"text-align: right;\">\n",
       "      <th></th>\n",
       "      <th>x</th>\n",
       "      <th>y</th>\n",
       "      <th>filename</th>\n",
       "      <th>source</th>\n",
       "      <th>unit</th>\n",
       "      <th>obs</th>\n",
       "    </tr>\n",
       "    <tr>\n",
       "      <th>name</th>\n",
       "      <th></th>\n",
       "      <th></th>\n",
       "      <th></th>\n",
       "      <th></th>\n",
       "      <th></th>\n",
       "      <th></th>\n",
       "    </tr>\n",
       "  </thead>\n",
       "  <tbody>\n",
       "    <tr>\n",
       "      <th>obs</th>\n",
       "      <td>0</td>\n",
       "      <td>0</td>\n",
       "      <td></td>\n",
       "      <td></td>\n",
       "      <td></td>\n",
       "      <td>Obs obs\n",
       "-----metadata------\n",
       "name : obs \n",
       "x : 0 ...</td>\n",
       "    </tr>\n",
       "  </tbody>\n",
       "</table>\n",
       "</div>"
      ],
      "text/plain": [
       "      x  y filename source unit  \\\n",
       "name                              \n",
       "obs   0  0                        \n",
       "\n",
       "                                                    obs  \n",
       "name                                                     \n",
       "obs   Obs obs\n",
       "-----metadata------\n",
       "name : obs \n",
       "x : 0 ...  "
      ]
     },
     "execution_count": 18,
     "metadata": {},
     "output_type": "execute_result"
    }
   ],
   "source": [
    "oc1.add_observation(o2)\n",
    "oc1"
   ]
  },
  {
   "cell_type": "markdown",
   "id": "47c727fd-bbab-4043-b2b8-f7949b20d600",
   "metadata": {},
   "source": [
    "We can also combine two observation collections."
   ]
  },
  {
   "cell_type": "code",
   "execution_count": 19,
   "id": "67e271dd-8b81-4a5c-9e32-396a24319aaf",
   "metadata": {},
   "outputs": [
    {
     "name": "stdout",
     "output_type": "stream",
     "text": [
      "\u001b[32mINFO:hydropandas.obs_collection:adding obs5 to collection\u001b[0m\n",
      "\u001b[32mINFO:hydropandas.obs_collection:adding obs6 to collection\u001b[0m\n"
     ]
    },
    {
     "data": {
      "text/html": [
       "<div>\n",
       "<style scoped>\n",
       "    .dataframe tbody tr th:only-of-type {\n",
       "        vertical-align: middle;\n",
       "    }\n",
       "\n",
       "    .dataframe tbody tr th {\n",
       "        vertical-align: top;\n",
       "    }\n",
       "\n",
       "    .dataframe thead th {\n",
       "        text-align: right;\n",
       "    }\n",
       "</style>\n",
       "<table border=\"1\" class=\"dataframe\">\n",
       "  <thead>\n",
       "    <tr style=\"text-align: right;\">\n",
       "      <th></th>\n",
       "      <th>x</th>\n",
       "      <th>y</th>\n",
       "      <th>filename</th>\n",
       "      <th>source</th>\n",
       "      <th>unit</th>\n",
       "      <th>obs</th>\n",
       "    </tr>\n",
       "    <tr>\n",
       "      <th>name</th>\n",
       "      <th></th>\n",
       "      <th></th>\n",
       "      <th></th>\n",
       "      <th></th>\n",
       "      <th></th>\n",
       "      <th></th>\n",
       "    </tr>\n",
       "  </thead>\n",
       "  <tbody>\n",
       "    <tr>\n",
       "      <th>obs</th>\n",
       "      <td>0</td>\n",
       "      <td>0</td>\n",
       "      <td></td>\n",
       "      <td></td>\n",
       "      <td></td>\n",
       "      <td>Obs obs\n",
       "-----metadata------\n",
       "name : obs \n",
       "x : 0 ...</td>\n",
       "    </tr>\n",
       "    <tr>\n",
       "      <th>obs5</th>\n",
       "      <td>0</td>\n",
       "      <td>0</td>\n",
       "      <td></td>\n",
       "      <td></td>\n",
       "      <td></td>\n",
       "      <td>Obs obs5\n",
       "-----metadata------\n",
       "name : obs5 \n",
       "x : ...</td>\n",
       "    </tr>\n",
       "    <tr>\n",
       "      <th>obs6</th>\n",
       "      <td>100</td>\n",
       "      <td>0</td>\n",
       "      <td></td>\n",
       "      <td></td>\n",
       "      <td></td>\n",
       "      <td>Obs obs6\n",
       "-----metadata------\n",
       "name : obs6 \n",
       "x : ...</td>\n",
       "    </tr>\n",
       "  </tbody>\n",
       "</table>\n",
       "</div>"
      ],
      "text/plain": [
       "        x  y filename source unit  \\\n",
       "name                                \n",
       "obs     0  0                        \n",
       "obs5    0  0                        \n",
       "obs6  100  0                        \n",
       "\n",
       "                                                    obs  \n",
       "name                                                     \n",
       "obs   Obs obs\n",
       "-----metadata------\n",
       "name : obs \n",
       "x : 0 ...  \n",
       "obs5  Obs obs5\n",
       "-----metadata------\n",
       "name : obs5 \n",
       "x : ...  \n",
       "obs6  Obs obs6\n",
       "-----metadata------\n",
       "name : obs6 \n",
       "x : ...  "
      ]
     },
     "execution_count": 19,
     "metadata": {},
     "output_type": "execute_result"
    }
   ],
   "source": [
    "# create another observation collection\n",
    "oc2 = hpd.ObsCollection.from_list([o5, o6])\n",
    "oc2\n",
    "\n",
    "# add the collection to the previous one\n",
    "oc1.add_obs_collection(oc2, inplace=True)\n",
    "oc1"
   ]
  },
  {
   "cell_type": "markdown",
   "id": "08e9f764-6ce4-473b-901b-4134b7f46a73",
   "metadata": {},
   "source": [
    "There is an automatic check for overlap based on the name of the observations. If the observations in both collections are exactly the same they are merged."
   ]
  },
  {
   "cell_type": "code",
   "execution_count": 20,
   "id": "7c4cdfd9-ad76-4333-b913-c59317e38677",
   "metadata": {},
   "outputs": [
    {
     "name": "stdout",
     "output_type": "stream",
     "text": [
      "\u001b[32mINFO:hydropandas.obs_collection:observation name obs already in collection, merging observations\u001b[0m\n",
      "\u001b[33mWARNING:hydropandas.observation:function 'merge_observation' not thoroughly tested, please be carefull!\u001b[0m\n",
      "\u001b[32mINFO:hydropandas.observation:new observation has a different time series\u001b[0m\n",
      "\u001b[32mINFO:hydropandas.observation:merge time series\u001b[0m\n",
      "\u001b[32mINFO:hydropandas.observation:new and existing observation have the same metadata\u001b[0m\n"
     ]
    }
   ],
   "source": [
    "# add o2 to the observation collection 1\n",
    "oc1.add_observation(o2)"
   ]
  },
  {
   "cell_type": "markdown",
   "id": "0e7fb7c5-a922-4172-8e08-10c3a5befac4",
   "metadata": {},
   "source": [
    "If the observation you want to add has the same name but not the same timeseries an error is raised."
   ]
  },
  {
   "cell_type": "code",
   "execution_count": 21,
   "id": "e343083e-46c9-4332-b7a4-5303b75b6b5e",
   "metadata": {},
   "outputs": [
    {
     "name": "stdout",
     "output_type": "stream",
     "text": [
      "\u001b[32mINFO:hydropandas.obs_collection:observation name obs already in collection, merging observations\u001b[0m\n",
      "\u001b[33mWARNING:hydropandas.observation:function 'merge_observation' not thoroughly tested, please be carefull!\u001b[0m\n",
      "\u001b[32mINFO:hydropandas.observation:new observation has a different time series\u001b[0m\n",
      "\u001b[32mINFO:hydropandas.observation:merge time series\u001b[0m\n",
      "\u001b[33mWARNING:hydropandas.observation:timeseries of observation obs overlap with different values\u001b[0m\n"
     ]
    },
    {
     "ename": "ValueError",
     "evalue": "observations have different values for same time steps",
     "output_type": "error",
     "traceback": [
      "\u001b[1;31m---------------------------------------------------------------------------\u001b[0m",
      "\u001b[1;31mValueError\u001b[0m                                Traceback (most recent call last)",
      "\u001b[1;32m<ipython-input-21-d95c900ba577>\u001b[0m in \u001b[0;36m<module>\u001b[1;34m\u001b[0m\n\u001b[0;32m      1\u001b[0m \u001b[0mo1_mod\u001b[0m \u001b[1;33m=\u001b[0m \u001b[0mo1\u001b[0m\u001b[1;33m.\u001b[0m\u001b[0mcopy\u001b[0m\u001b[1;33m(\u001b[0m\u001b[1;33m)\u001b[0m\u001b[1;33m\u001b[0m\u001b[1;33m\u001b[0m\u001b[0m\n\u001b[0;32m      2\u001b[0m \u001b[0mo1_mod\u001b[0m\u001b[1;33m.\u001b[0m\u001b[0mloc\u001b[0m\u001b[1;33m[\u001b[0m\u001b[1;34m'2020-01-02'\u001b[0m\u001b[1;33m,\u001b[0m \u001b[1;34m'measurements'\u001b[0m\u001b[1;33m]\u001b[0m \u001b[1;33m=\u001b[0m \u001b[1;36m100\u001b[0m\u001b[1;33m\u001b[0m\u001b[1;33m\u001b[0m\u001b[0m\n\u001b[1;32m----> 3\u001b[1;33m \u001b[0moc1\u001b[0m\u001b[1;33m.\u001b[0m\u001b[0madd_observation\u001b[0m\u001b[1;33m(\u001b[0m\u001b[0mo1_mod\u001b[0m\u001b[1;33m)\u001b[0m\u001b[1;33m\u001b[0m\u001b[1;33m\u001b[0m\u001b[0m\n\u001b[0m",
      "\u001b[1;32mc:\\users\\oebbe\\02_python\\hydropandas\\hydropandas\\obs_collection.py\u001b[0m in \u001b[0;36madd_observation\u001b[1;34m(self, o, check_consistency, **kwargs)\u001b[0m\n\u001b[0;32m    866\u001b[0m \u001b[1;33m\u001b[0m\u001b[0m\n\u001b[0;32m    867\u001b[0m             \u001b[0mo1\u001b[0m \u001b[1;33m=\u001b[0m \u001b[0mself\u001b[0m\u001b[1;33m.\u001b[0m\u001b[0mloc\u001b[0m\u001b[1;33m[\u001b[0m\u001b[0mo\u001b[0m\u001b[1;33m.\u001b[0m\u001b[0mname\u001b[0m\u001b[1;33m,\u001b[0m \u001b[1;34m\"obs\"\u001b[0m\u001b[1;33m]\u001b[0m\u001b[1;33m\u001b[0m\u001b[1;33m\u001b[0m\u001b[0m\n\u001b[1;32m--> 868\u001b[1;33m             \u001b[0momerged\u001b[0m \u001b[1;33m=\u001b[0m \u001b[0mo1\u001b[0m\u001b[1;33m.\u001b[0m\u001b[0mmerge_observation\u001b[0m\u001b[1;33m(\u001b[0m\u001b[0mo\u001b[0m\u001b[1;33m,\u001b[0m \u001b[1;33m**\u001b[0m\u001b[0mkwargs\u001b[0m\u001b[1;33m)\u001b[0m\u001b[1;33m\u001b[0m\u001b[1;33m\u001b[0m\u001b[0m\n\u001b[0m\u001b[0;32m    869\u001b[0m \u001b[1;33m\u001b[0m\u001b[0m\n\u001b[0;32m    870\u001b[0m             \u001b[1;31m# overwrite observation in collection\u001b[0m\u001b[1;33m\u001b[0m\u001b[1;33m\u001b[0m\u001b[1;33m\u001b[0m\u001b[0m\n",
      "\u001b[1;32mc:\\users\\oebbe\\02_python\\hydropandas\\hydropandas\\observation.py\u001b[0m in \u001b[0;36mmerge_observation\u001b[1;34m(self, right, overlap, merge_metadata)\u001b[0m\n\u001b[0;32m    420\u001b[0m \u001b[1;33m\u001b[0m\u001b[0m\n\u001b[0;32m    421\u001b[0m         \u001b[1;31m# merge timeseries\u001b[0m\u001b[1;33m\u001b[0m\u001b[1;33m\u001b[0m\u001b[1;33m\u001b[0m\u001b[0m\n\u001b[1;32m--> 422\u001b[1;33m         \u001b[0mo\u001b[0m \u001b[1;33m=\u001b[0m \u001b[0mself\u001b[0m\u001b[1;33m.\u001b[0m\u001b[0m_merge_timeseries\u001b[0m\u001b[1;33m(\u001b[0m\u001b[0mright\u001b[0m\u001b[1;33m,\u001b[0m \u001b[0moverlap\u001b[0m\u001b[1;33m=\u001b[0m\u001b[0moverlap\u001b[0m\u001b[1;33m)\u001b[0m\u001b[1;33m\u001b[0m\u001b[1;33m\u001b[0m\u001b[0m\n\u001b[0m\u001b[0;32m    423\u001b[0m \u001b[1;33m\u001b[0m\u001b[0m\n\u001b[0;32m    424\u001b[0m         \u001b[1;31m# merge metadata\u001b[0m\u001b[1;33m\u001b[0m\u001b[1;33m\u001b[0m\u001b[1;33m\u001b[0m\u001b[0m\n",
      "\u001b[1;32mc:\\users\\oebbe\\02_python\\hydropandas\\hydropandas\\observation.py\u001b[0m in \u001b[0;36m_merge_timeseries\u001b[1;34m(self, right, overlap)\u001b[0m\n\u001b[0;32m    332\u001b[0m                 )\n\u001b[0;32m    333\u001b[0m                 \u001b[1;32mif\u001b[0m \u001b[0moverlap\u001b[0m \u001b[1;33m==\u001b[0m \u001b[1;34m\"error\"\u001b[0m\u001b[1;33m:\u001b[0m\u001b[1;33m\u001b[0m\u001b[1;33m\u001b[0m\u001b[0m\n\u001b[1;32m--> 334\u001b[1;33m                     raise ValueError(\n\u001b[0m\u001b[0;32m    335\u001b[0m                         \u001b[1;34m\"observations have different values for same time steps\"\u001b[0m\u001b[1;33m\u001b[0m\u001b[1;33m\u001b[0m\u001b[0m\n\u001b[0;32m    336\u001b[0m                     )\n",
      "\u001b[1;31mValueError\u001b[0m: observations have different values for same time steps"
     ]
    }
   ],
   "source": [
    "o1_mod = o1.copy()\n",
    "o1_mod.loc['2020-01-02', 'measurements'] = 100\n",
    "oc1.add_observation(o1_mod)"
   ]
  },
  {
   "cell_type": "markdown",
   "id": "b9997ddf-ce03-493b-abe5-738350bde24b",
   "metadata": {},
   "source": [
    "To avoid errors we can use the `overlap` arguments to specify which observation we want to use."
   ]
  },
  {
   "cell_type": "code",
   "execution_count": 22,
   "id": "c329df3a-eefa-4205-9c0b-92f432d141bd",
   "metadata": {},
   "outputs": [
    {
     "name": "stdout",
     "output_type": "stream",
     "text": [
      "\u001b[32mINFO:hydropandas.obs_collection:observation name obs already in collection, merging observations\u001b[0m\n",
      "\u001b[33mWARNING:hydropandas.observation:function 'merge_observation' not thoroughly tested, please be carefull!\u001b[0m\n",
      "\u001b[32mINFO:hydropandas.observation:new observation has a different time series\u001b[0m\n",
      "\u001b[32mINFO:hydropandas.observation:merge time series\u001b[0m\n",
      "\u001b[33mWARNING:hydropandas.observation:timeseries of observation obs overlap with different values\u001b[0m\n",
      "\u001b[32mINFO:hydropandas.observation:new and existing observation have the same metadata\u001b[0m\n"
     ]
    },
    {
     "data": {
      "text/html": [
       "<div>\n",
       "<style scoped>\n",
       "    .dataframe tbody tr th:only-of-type {\n",
       "        vertical-align: middle;\n",
       "    }\n",
       "\n",
       "    .dataframe tbody tr th {\n",
       "        vertical-align: top;\n",
       "    }\n",
       "\n",
       "    .dataframe thead th {\n",
       "        text-align: right;\n",
       "    }\n",
       "</style>\n",
       "<table border=\"1\" class=\"dataframe\">\n",
       "  <thead>\n",
       "    <tr style=\"text-align: right;\">\n",
       "      <th></th>\n",
       "      <th>x</th>\n",
       "      <th>y</th>\n",
       "      <th>filename</th>\n",
       "      <th>source</th>\n",
       "      <th>unit</th>\n",
       "      <th>obs</th>\n",
       "    </tr>\n",
       "    <tr>\n",
       "      <th>name</th>\n",
       "      <th></th>\n",
       "      <th></th>\n",
       "      <th></th>\n",
       "      <th></th>\n",
       "      <th></th>\n",
       "      <th></th>\n",
       "    </tr>\n",
       "  </thead>\n",
       "  <tbody>\n",
       "    <tr>\n",
       "      <th>obs</th>\n",
       "      <td>0</td>\n",
       "      <td>0</td>\n",
       "      <td></td>\n",
       "      <td></td>\n",
       "      <td></td>\n",
       "      <td>Obs obs\n",
       "-----metadata------\n",
       "name : obs \n",
       "x : 0 ...</td>\n",
       "    </tr>\n",
       "    <tr>\n",
       "      <th>obs5</th>\n",
       "      <td>0</td>\n",
       "      <td>0</td>\n",
       "      <td></td>\n",
       "      <td></td>\n",
       "      <td></td>\n",
       "      <td>Obs obs5\n",
       "-----metadata------\n",
       "name : obs5 \n",
       "x : ...</td>\n",
       "    </tr>\n",
       "    <tr>\n",
       "      <th>obs6</th>\n",
       "      <td>100</td>\n",
       "      <td>0</td>\n",
       "      <td></td>\n",
       "      <td></td>\n",
       "      <td></td>\n",
       "      <td>Obs obs6\n",
       "-----metadata------\n",
       "name : obs6 \n",
       "x : ...</td>\n",
       "    </tr>\n",
       "  </tbody>\n",
       "</table>\n",
       "</div>"
      ],
      "text/plain": [
       "        x  y filename source unit  \\\n",
       "name                                \n",
       "obs     0  0                        \n",
       "obs5    0  0                        \n",
       "obs6  100  0                        \n",
       "\n",
       "                                                    obs  \n",
       "name                                                     \n",
       "obs   Obs obs\n",
       "-----metadata------\n",
       "name : obs \n",
       "x : 0 ...  \n",
       "obs5  Obs obs5\n",
       "-----metadata------\n",
       "name : obs5 \n",
       "x : ...  \n",
       "obs6  Obs obs6\n",
       "-----metadata------\n",
       "name : obs6 \n",
       "x : ...  "
      ]
     },
     "execution_count": 22,
     "metadata": {},
     "output_type": "execute_result"
    }
   ],
   "source": [
    "oc1.add_observation(o1_mod, overlap='use_left')\n",
    "oc1"
   ]
  },
  {
   "cell_type": "code",
   "execution_count": null,
   "id": "e52b1b0a",
   "metadata": {},
   "outputs": [],
   "source": []
  }
 ],
 "metadata": {
  "kernelspec": {
   "display_name": "Python 3",
   "language": "python",
   "name": "python3"
  },
  "language_info": {
   "codemirror_mode": {
    "name": "ipython",
    "version": 3
   },
   "file_extension": ".py",
   "mimetype": "text/x-python",
   "name": "python",
   "nbconvert_exporter": "python",
   "pygments_lexer": "ipython3",
   "version": "3.9.4"
  }
 },
 "nbformat": 4,
 "nbformat_minor": 5
}
